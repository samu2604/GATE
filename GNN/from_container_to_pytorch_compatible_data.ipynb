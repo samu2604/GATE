{
 "cells": [
  {
   "cell_type": "markdown",
   "metadata": {},
   "source": [
    "### Load Transcriptomics proteomics dataset"
   ]
  },
  {
   "cell_type": "code",
   "execution_count": 3,
   "metadata": {},
   "outputs": [
    {
     "name": "stderr",
     "output_type": "stream",
     "text": [
      "/home/samuele/mambaforge/envs/pytorch_geometric/lib/python3.9/site-packages/tqdm/auto.py:22: TqdmWarning: IProgress not found. Please update jupyter and ipywidgets. See https://ipywidgets.readthedocs.io/en/stable/user_install.html\n",
      "  from .autonotebook import tqdm as notebook_tqdm\n"
     ]
    }
   ],
   "source": [
    "import numpy as np\n",
    "import pandas as pd\n",
    "#import networkx as nx\n",
    "import sys, os, h5py\n",
    "sys.path.append(os.path.abspath('/home/samuele/EMOGI/EMOGI'))\n",
    "sys.path.append(os.path.abspath('/home/samuele/GhostFreePro/data_preprocessing_pipeline/'))\n",
    "import gcnPreprocessing\n",
    "import gcnIO\n",
    "import torch\n",
    "from torch_geometric.datasets import Planetoid\n",
    "from torch_geometric.transforms import NormalizeFeatures\n",
    "from torch_geometric.data.data import Data "
   ]
  },
  {
   "cell_type": "code",
   "execution_count": 13,
   "metadata": {},
   "outputs": [],
   "source": [
    "data = gcnIO.load_hdf_data('/home/samuele/GhostFreePro/data_preprocessing_pipeline/artivir_data/containers/transcriptomics-proteomics-effectome_2022_9_13_17_42_non_zero_imputed_values.h5')"
   ]
  },
  {
   "cell_type": "code",
   "execution_count": 14,
   "metadata": {},
   "outputs": [],
   "source": [
    "network, features, y_train, y_val, y_test, train_mask, val_mask, test_mask, node_names, feat_names = data"
   ]
  },
  {
   "cell_type": "code",
   "execution_count": 6,
   "metadata": {},
   "outputs": [
    {
     "data": {
      "text/plain": [
       "array([[ 0.07098466, -0.10048157, -0.06661676, -0.09941968,  0.37677982,\n",
       "         0.08926854,  0.72849319, -0.57474649,  1.38637147,  1.15450585,\n",
       "         0.11099949, -0.11165193,  0.26573501,  0.05721614, -0.09206121,\n",
       "        -0.21766928,  0.01533022,  1.59906327,  0.58322577, -0.1524168 ,\n",
       "         0.26235958, -0.29256413, -0.16970129,  0.20686008, -0.33622227,\n",
       "         0.65523949],\n",
       "       [ 1.17359033,  0.03416442, -0.17131518,  0.0066981 , -0.17422146,\n",
       "         0.25212816,  0.33225033,  0.03114607,  0.40217749,  0.39166725,\n",
       "         0.45350497,  0.20819322,  0.88539186, -0.15137955,  0.34366951,\n",
       "         0.11229018, -0.15766404, -0.19172691,  0.13194933,  0.33248612,\n",
       "         0.01893305, -0.40965704,  0.0964637 , -0.08570543, -0.55707282,\n",
       "        -0.42858111]])"
      ]
     },
     "execution_count": 6,
     "metadata": {},
     "output_type": "execute_result"
    }
   ],
   "source": [
    "partial_features = features[0:2]\n",
    "partial_features"
   ]
  },
  {
   "cell_type": "code",
   "execution_count": 19,
   "metadata": {},
   "outputs": [
    {
     "data": {
      "text/plain": [
       "array([0.07098466, 1.17359033])"
      ]
     },
     "execution_count": 19,
     "metadata": {},
     "output_type": "execute_result"
    }
   ],
   "source": [
    "tra = features[0:2][:, 0]\n",
    "tra"
   ]
  },
  {
   "cell_type": "code",
   "execution_count": 45,
   "metadata": {},
   "outputs": [
    {
     "data": {
      "text/plain": [
       "array([-0.10048157,  0.03416442])"
      ]
     },
     "execution_count": 45,
     "metadata": {},
     "output_type": "execute_result"
    }
   ],
   "source": [
    "pro = features[0:2][:, 1]\n",
    "pro"
   ]
  },
  {
   "cell_type": "code",
   "execution_count": 42,
   "metadata": {},
   "outputs": [
    {
     "data": {
      "text/plain": [
       "array([[-0.06661676, -0.09941968,  0.37677982,  0.08926854,  0.72849319,\n",
       "        -0.57474649,  1.38637147,  1.15450585,  0.11099949, -0.11165193,\n",
       "         0.26573501,  0.05721614, -0.09206121, -0.21766928,  0.01533022,\n",
       "         1.59906327,  0.58322577, -0.1524168 ,  0.26235958, -0.29256413,\n",
       "        -0.16970129,  0.20686008, -0.33622227,  0.65523949],\n",
       "       [-0.17131518,  0.0066981 , -0.17422146,  0.25212816,  0.33225033,\n",
       "         0.03114607,  0.40217749,  0.39166725,  0.45350497,  0.20819322,\n",
       "         0.88539186, -0.15137955,  0.34366951,  0.11229018, -0.15766404,\n",
       "        -0.19172691,  0.13194933,  0.33248612,  0.01893305, -0.40965704,\n",
       "         0.0964637 , -0.08570543, -0.55707282, -0.42858111]])"
      ]
     },
     "execution_count": 42,
     "metadata": {},
     "output_type": "execute_result"
    }
   ],
   "source": [
    "eff = features[0:2][:, 2:26]\n",
    "eff"
   ]
  },
  {
   "cell_type": "code",
   "execution_count": 48,
   "metadata": {},
   "outputs": [
    {
     "data": {
      "text/plain": [
       "array([[ True,  True,  True,  True,  True,  True,  True,  True,  True,\n",
       "         True,  True,  True,  True,  True,  True,  True,  True,  True,\n",
       "         True,  True,  True,  True,  True,  True,  True,  True],\n",
       "       [ True,  True,  True,  True,  True,  True,  True,  True,  True,\n",
       "         True,  True,  True,  True,  True,  True,  True,  True,  True,\n",
       "         True,  True,  True,  True,  True,  True,  True,  True]])"
      ]
     },
     "execution_count": 48,
     "metadata": {},
     "output_type": "execute_result"
    }
   ],
   "source": [
    "partial_features == np.concatenate((np.transpose([tra]), np.transpose([pro]), eff), axis=1)"
   ]
  },
  {
   "cell_type": "code",
   "execution_count": 30,
   "metadata": {},
   "outputs": [
    {
     "data": {
      "text/plain": [
       "array([[-0.06661676, -0.09941968,  0.37677982,  0.08926854,  0.72849319,\n",
       "        -0.57474649,  1.38637147,  1.15450585,  0.11099949, -0.11165193,\n",
       "         0.26573501,  0.05721614, -0.09206121, -0.21766928,  0.01533022,\n",
       "         1.59906327,  0.58322577, -0.1524168 ,  0.26235958, -0.29256413,\n",
       "        -0.16970129,  0.20686008, -0.33622227],\n",
       "       [-0.17131518,  0.0066981 , -0.17422146,  0.25212816,  0.33225033,\n",
       "         0.03114607,  0.40217749,  0.39166725,  0.45350497,  0.20819322,\n",
       "         0.88539186, -0.15137955,  0.34366951,  0.11229018, -0.15766404,\n",
       "        -0.19172691,  0.13194933,  0.33248612,  0.01893305, -0.40965704,\n",
       "         0.0964637 , -0.08570543, -0.55707282]])"
      ]
     },
     "execution_count": 30,
     "metadata": {},
     "output_type": "execute_result"
    }
   ],
   "source": [
    "eff"
   ]
  },
  {
   "cell_type": "code",
   "execution_count": 7,
   "metadata": {},
   "outputs": [
    {
     "data": {
      "text/plain": [
       "(13594, 26)"
      ]
     },
     "execution_count": 7,
     "metadata": {},
     "output_type": "execute_result"
    }
   ],
   "source": [
    "np.shape(features)"
   ]
  },
  {
   "cell_type": "code",
   "execution_count": 9,
   "metadata": {},
   "outputs": [
    {
     "data": {
      "text/plain": [
       "13594"
      ]
     },
     "execution_count": 9,
     "metadata": {},
     "output_type": "execute_result"
    }
   ],
   "source": [
    "len(features)"
   ]
  },
  {
   "cell_type": "code",
   "execution_count": 18,
   "metadata": {},
   "outputs": [
    {
     "data": {
      "text/plain": [
       "(13594, 13594)"
      ]
     },
     "execution_count": 18,
     "metadata": {},
     "output_type": "execute_result"
    }
   ],
   "source": [
    "np.shape(np.identity(len(features)))"
   ]
  },
  {
   "cell_type": "code",
   "execution_count": 20,
   "metadata": {},
   "outputs": [
    {
     "data": {
      "text/plain": [
       "(13594, 13594)"
      ]
     },
     "execution_count": 20,
     "metadata": {},
     "output_type": "execute_result"
    }
   ],
   "source": [
    "np.identity(len(features)).shape"
   ]
  },
  {
   "cell_type": "code",
   "execution_count": 16,
   "metadata": {},
   "outputs": [
    {
     "data": {
      "text/plain": [
       "(13594, 26)"
      ]
     },
     "execution_count": 16,
     "metadata": {},
     "output_type": "execute_result"
    }
   ],
   "source": [
    "features.shape"
   ]
  },
  {
   "cell_type": "markdown",
   "metadata": {},
   "source": [
    "### Load torch sample dataset"
   ]
  },
  {
   "cell_type": "code",
   "execution_count": 4,
   "metadata": {},
   "outputs": [],
   "source": [
    "from feature_preselection_transcriptome_proteome import create_trivial_features"
   ]
  },
  {
   "cell_type": "code",
   "execution_count": 5,
   "metadata": {},
   "outputs": [],
   "source": [
    "dataset = Planetoid(root='data/Planetoid', name='Cora', transform=NormalizeFeatures())\n",
    "data = dataset[0]"
   ]
  },
  {
   "cell_type": "code",
   "execution_count": 6,
   "metadata": {},
   "outputs": [
    {
     "data": {
      "text/plain": [
       "Data(x=[2708, 1433], edge_index=[2, 10556], y=[2708], train_mask=[2708], val_mask=[2708], test_mask=[2708])"
      ]
     },
     "execution_count": 6,
     "metadata": {},
     "output_type": "execute_result"
    }
   ],
   "source": [
    "data"
   ]
  },
  {
   "cell_type": "code",
   "execution_count": 7,
   "metadata": {},
   "outputs": [
    {
     "data": {
      "text/plain": [
       "10556"
      ]
     },
     "execution_count": 7,
     "metadata": {},
     "output_type": "execute_result"
    }
   ],
   "source": [
    "len(data.edge_index[0])"
   ]
  },
  {
   "cell_type": "code",
   "execution_count": 8,
   "metadata": {},
   "outputs": [
    {
     "name": "stdout",
     "output_type": "stream",
     "text": [
      "num edges 510036\n"
     ]
    }
   ],
   "source": [
    "np.shape(network)\n",
    "print(f'num edges {np.sum(network != 0)}')"
   ]
  },
  {
   "cell_type": "markdown",
   "metadata": {},
   "source": [
    "### Create emogi data torch tensor"
   ]
  },
  {
   "cell_type": "code",
   "execution_count": 9,
   "metadata": {},
   "outputs": [
    {
     "name": "stderr",
     "output_type": "stream",
     "text": [
      "/tmp/ipykernel_68678/234338472.py:2: UserWarning: Creating a tensor from a list of numpy.ndarrays is extremely slow. Please consider converting the list to a single numpy.ndarray with numpy.array() before converting to a tensor. (Triggered internally at  ../torch/csrc/utils/tensor_new.cpp:204.)\n",
      "  emogi_data.edge_index = torch.Tensor(np.where(network[:,:] != 0)).long()\n"
     ]
    }
   ],
   "source": [
    "emogi_data = Data()\n",
    "emogi_data.edge_index = torch.Tensor(np.where(network[:,:] != 0)).long()\n",
    "emogi_data.x = torch.tensor(features).float()\n",
    "emogi_data.y = torch.tensor(y_val.transpose()[0] + y_test.transpose()[0] + y_train.transpose()[0]).long()\n",
    "emogi_data.train_mask = torch.tensor(train_mask).bool()\n",
    "emogi_data.test_mask = torch.tensor(test_mask).bool()\n",
    "emogi_data.val_mask = torch.tensor(val_mask).bool()"
   ]
  },
  {
   "cell_type": "code",
   "execution_count": 10,
   "metadata": {},
   "outputs": [
    {
     "data": {
      "text/plain": [
       "tensor([-0.1735,  0.0964])"
      ]
     },
     "execution_count": 10,
     "metadata": {},
     "output_type": "execute_result"
    }
   ],
   "source": [
    "emogi_data.x[3]"
   ]
  },
  {
   "cell_type": "code",
   "execution_count": 11,
   "metadata": {},
   "outputs": [
    {
     "data": {
      "text/plain": [
       "tensor([[   0,    0,    0,  ..., 5540, 5540, 5540],\n",
       "        [  64,  196,  232,  ..., 5384, 5444, 5522]])"
      ]
     },
     "execution_count": 11,
     "metadata": {},
     "output_type": "execute_result"
    }
   ],
   "source": [
    "torch.Tensor(np.where(network[:,:] != 0)).long()"
   ]
  },
  {
   "cell_type": "code",
   "execution_count": 12,
   "metadata": {},
   "outputs": [
    {
     "data": {
      "text/plain": [
       "tensor([1., 1., 1.,  ..., 1., 1., 1.])"
      ]
     },
     "execution_count": 12,
     "metadata": {},
     "output_type": "execute_result"
    }
   ],
   "source": [
    "torch.ones((emogi_data.edge_index.size(1), ), dtype=None, device=emogi_data.edge_index.device)"
   ]
  },
  {
   "cell_type": "code",
   "execution_count": 13,
   "metadata": {},
   "outputs": [
    {
     "data": {
      "text/plain": [
       "tensor([0.2718, 0.2738, 0.2728,  ..., 0.2417, 0.2006, 0.1795])"
      ]
     },
     "execution_count": 13,
     "metadata": {},
     "output_type": "execute_result"
    }
   ],
   "source": [
    "torch.Tensor(network[np.where(network[:,:] != 0)])"
   ]
  },
  {
   "cell_type": "code",
   "execution_count": 14,
   "metadata": {},
   "outputs": [
    {
     "data": {
      "text/plain": [
       "tensor([[ 1.3181,  0.2423],\n",
       "        [ 0.0325, -0.8612],\n",
       "        [-0.3606, -0.6360],\n",
       "        ...,\n",
       "        [ 0.2723, -0.2496],\n",
       "        [ 0.2053, -0.1626],\n",
       "        [-0.9576, -0.0987]])"
      ]
     },
     "execution_count": 14,
     "metadata": {},
     "output_type": "execute_result"
    }
   ],
   "source": [
    "emogi_data.x"
   ]
  },
  {
   "cell_type": "code",
   "execution_count": 15,
   "metadata": {},
   "outputs": [
    {
     "data": {
      "text/plain": [
       "tensor([[0., 0., 0.,  ..., 0., 0., 0.],\n",
       "        [0., 0., 0.,  ..., 0., 0., 0.],\n",
       "        [0., 0., 0.,  ..., 0., 0., 0.],\n",
       "        ...,\n",
       "        [0., 0., 0.,  ..., 0., 0., 0.],\n",
       "        [0., 0., 0.,  ..., 0., 0., 0.],\n",
       "        [0., 0., 0.,  ..., 0., 0., 0.]])"
      ]
     },
     "execution_count": 15,
     "metadata": {},
     "output_type": "execute_result"
    }
   ],
   "source": [
    "data.x"
   ]
  },
  {
   "cell_type": "code",
   "execution_count": 37,
   "metadata": {},
   "outputs": [
    {
     "data": {
      "text/plain": [
       "torch.Size([5541, 1])"
      ]
     },
     "execution_count": 37,
     "metadata": {},
     "output_type": "execute_result"
    }
   ],
   "source": [
    "y_tmp = emogi_data.y + np.arange(len(emogi_data.y))\n",
    "y_tmp = torch.reshape(y_tmp, [len(y_tmp), 1])\n",
    "y_tmp.size()"
   ]
  },
  {
   "cell_type": "code",
   "execution_count": 46,
   "metadata": {},
   "outputs": [
    {
     "data": {
      "text/plain": [
       "torch.Size([5541])"
      ]
     },
     "execution_count": 46,
     "metadata": {},
     "output_type": "execute_result"
    }
   ],
   "source": [
    "#torch.reshape(y_tmp, [len(y_tmp)])\n",
    "y_tmp.t()[0].size()"
   ]
  },
  {
   "cell_type": "markdown",
   "metadata": {},
   "source": [
    "### Check positive trining test and validation sets"
   ]
  },
  {
   "cell_type": "code",
   "execution_count": 16,
   "metadata": {},
   "outputs": [
    {
     "name": "stdout",
     "output_type": "stream",
     "text": [
      "0.0\n",
      "0.0\n",
      "0.0\n",
      "0.0\n",
      "0.0\n",
      "0.0\n",
      "317\n"
     ]
    }
   ],
   "source": [
    "print(np.sum(y_train[np.where(y_val !=0)[0]]))\n",
    "print(np.sum(y_val[np.where(y_train !=0)[0]]))\n",
    "print(np.sum(y_train[np.where(y_test !=0)[0]]))\n",
    "print(np.sum(y_test[np.where(y_train !=0)[0]]))\n",
    "print(np.sum(y_test[np.where(y_val !=0)[0]]))\n",
    "print(np.sum(y_val[np.where(y_test !=0)[0]]))\n",
    "print(len(np.where(y_val !=0)[0]) + len(np.where(y_test !=0)[0]) + len(np.where(y_train !=0)[0]))"
   ]
  },
  {
   "cell_type": "markdown",
   "metadata": {},
   "source": [
    "### Check train, test and validation sets"
   ]
  },
  {
   "cell_type": "code",
   "execution_count": 62,
   "metadata": {},
   "outputs": [
    {
     "name": "stdout",
     "output_type": "stream",
     "text": [
      "0.0\n",
      "0.0\n",
      "0.0\n",
      "0.0\n",
      "0.0\n",
      "0.0\n",
      "1268\n"
     ]
    }
   ],
   "source": [
    "print(np.sum(train_mask[np.where(val_mask !=0)[0]]))\n",
    "print(np.sum(val_mask[np.where(train_mask !=0)[0]]))\n",
    "print(np.sum(train_mask[np.where(test_mask !=0)[0]]))\n",
    "print(np.sum(test_mask[np.where(train_mask !=0)[0]]))\n",
    "print(np.sum(test_mask[np.where(val_mask !=0)[0]]))\n",
    "print(np.sum(val_mask[np.where(test_mask !=0)[0]]))\n",
    "print(len(np.where(val_mask !=0)[0]) + len(np.where(test_mask !=0)[0]) + len(np.where(train_mask !=0)[0]))"
   ]
  },
  {
   "cell_type": "code",
   "execution_count": 63,
   "metadata": {},
   "outputs": [],
   "source": [
    "def cal_weights_model_torch_dataset(dataset):\n",
    "\tlabels = []\n",
    "\tfor data in dataset:\n",
    "\t\tlabels += data.y.tolist()\n",
    "\tlabels_tensor = torch.tensor(labels).squeeze()\n",
    "\tn_positive = labels_tensor.nonzero().size(0)\n",
    "\tn_negative = labels_tensor.size(0) - n_positive\n",
    "\tn_full = labels_tensor.size(0)\n",
    "\treturn torch.tensor([n_full / (2 * n_negative), n_full / (2 * n_positive)])"
   ]
  },
  {
   "cell_type": "code",
   "execution_count": 64,
   "metadata": {},
   "outputs": [],
   "source": [
    "def cal_weights_model(tensor_data):\n",
    "\tn_positive = tensor_data.y.sum()\n",
    "\tn_negative = tensor_data.train_mask.sum() + tensor_data.val_mask.sum() + tensor_data.test_mask.sum() - tensor_data.y.sum()\n",
    "\tn_full = tensor_data.train_mask.sum() + tensor_data.val_mask.sum() + tensor_data.test_mask.sum()\n",
    "\treturn torch.tensor([n_full / (2 * n_negative), n_full / (2 * n_positive)])"
   ]
  },
  {
   "cell_type": "code",
   "execution_count": 65,
   "metadata": {},
   "outputs": [],
   "source": [
    "diziomario = {\"cane\":10, \"gatto\":20}"
   ]
  },
  {
   "cell_type": "code",
   "execution_count": 66,
   "metadata": {},
   "outputs": [
    {
     "data": {
      "text/plain": [
       "2"
      ]
     },
     "execution_count": 66,
     "metadata": {},
     "output_type": "execute_result"
    }
   ],
   "source": [
    "len(diziomario)"
   ]
  },
  {
   "cell_type": "code",
   "execution_count": 70,
   "metadata": {},
   "outputs": [
    {
     "data": {
      "text/plain": [
       "tensor([0, 0, 0,  ..., 0, 0, 1], dtype=torch.uint8)"
      ]
     },
     "execution_count": 70,
     "metadata": {},
     "output_type": "execute_result"
    }
   ],
   "source": [
    "mask_all = np.logical_or(emogi_data.train_mask, emogi_data.val_mask)\n",
    "mask_all"
   ]
  },
  {
   "cell_type": "code",
   "execution_count": 72,
   "metadata": {},
   "outputs": [
    {
     "data": {
      "text/plain": [
       "tensor(True)"
      ]
     },
     "execution_count": 72,
     "metadata": {},
     "output_type": "execute_result"
    }
   ],
   "source": [
    "mask_all.sum() == emogi_data.train_mask.sum() + emogi_data.val_mask.sum()"
   ]
  },
  {
   "cell_type": "code",
   "execution_count": null,
   "metadata": {},
   "outputs": [],
   "source": [
    "y_all = np.logical_end(emogi_data.y, y_val)"
   ]
  },
  {
   "cell_type": "code",
   "execution_count": 167,
   "metadata": {},
   "outputs": [],
   "source": [
    "def k_fold_test(lista, folds):\n",
    "    #mock data\n",
    "    y = (lista % 4 == 0).astype(int)\n",
    "    mask = np.zeros_like(lista)\n",
    "    mask[np.where((lista % 2) == 0)[0]] = 1\n",
    "    \n",
    "    skf = StratifiedKFold(folds, shuffle=True, random_state=12345)\n",
    "    label_idx = np.where(mask == 1)[0] # get indices of labeled genes\n",
    "    skf = StratifiedKFold(n_splits=folds, shuffle=True)\n",
    "    splits = skf.split(label_idx, y[label_idx])   \n",
    "    \n",
    "    k_sets = []\n",
    "    for train, test in splits:\n",
    "        train_idx = label_idx[train]\n",
    "        test_idx = label_idx[test]\n",
    "        train_mask = np.zeros_like(mask)\n",
    "        train_mask[train_idx] = 1\n",
    "        test_mask = np.zeros_like(mask)\n",
    "        test_mask[test_idx] = 1\n",
    "        k_sets.append((train_mask, test_mask))\n",
    "         \n",
    "    \n",
    "    return k_sets, y, mask"
   ]
  },
  {
   "cell_type": "code",
   "execution_count": 200,
   "metadata": {},
   "outputs": [
    {
     "data": {
      "text/plain": [
       "Data(edge_index=[2, 510036], x=[5541, 2], y=[5541], train_mask=[5541], test_mask=[5541], val_mask=[5541])"
      ]
     },
     "execution_count": 200,
     "metadata": {},
     "output_type": "execute_result"
    }
   ],
   "source": [
    "emogi_data"
   ]
  },
  {
   "cell_type": "code",
   "execution_count": 217,
   "metadata": {},
   "outputs": [
    {
     "data": {
      "text/plain": [
       "tensor(952)"
      ]
     },
     "execution_count": 217,
     "metadata": {},
     "output_type": "execute_result"
    }
   ],
   "source": [
    "sum(emogi_data.train_mask + emogi_data.val_mask)"
   ]
  },
  {
   "cell_type": "code",
   "execution_count": 220,
   "metadata": {},
   "outputs": [
    {
     "data": {
      "text/plain": [
       "array([ 0,  1,  2,  3,  4,  5,  6,  7,  8,  9, 10, 11, 12, 13, 14, 15, 16,\n",
       "       17, 18, 19, 20, 21, 22, 23, 24, 25, 26, 27, 28, 29, 30, 31, 32, 33,\n",
       "       34, 35, 36, 37, 38, 39, 40, 41, 42, 43, 44, 45, 46, 47, 48, 49])"
      ]
     },
     "execution_count": 220,
     "metadata": {},
     "output_type": "execute_result"
    }
   ],
   "source": [
    "np.arange(50)"
   ]
  },
  {
   "cell_type": "code",
   "execution_count": 215,
   "metadata": {},
   "outputs": [
    {
     "data": {
      "text/plain": [
       "tensor([True, True, True, True])"
      ]
     },
     "execution_count": 215,
     "metadata": {},
     "output_type": "execute_result"
    }
   ],
   "source": [
    "torch.tensor([0,0,1,1], dtype=torch.bool) + torch.tensor([1,1,0,0], dtype=torch.bool)"
   ]
  },
  {
   "cell_type": "code",
   "execution_count": 207,
   "metadata": {},
   "outputs": [
    {
     "data": {
      "text/plain": [
       "tensor(128)"
      ]
     },
     "execution_count": 207,
     "metadata": {},
     "output_type": "execute_result"
    }
   ],
   "source": [
    "sum(emogi_data.val_mask)"
   ]
  },
  {
   "cell_type": "code",
   "execution_count": 107,
   "metadata": {},
   "outputs": [],
   "source": [
    "lista = np.arange(100)"
   ]
  },
  {
   "cell_type": "code",
   "execution_count": 192,
   "metadata": {},
   "outputs": [],
   "source": [
    "k_sets, y, mask = k_fold_test(lista, 5)"
   ]
  },
  {
   "cell_type": "code",
   "execution_count": 193,
   "metadata": {},
   "outputs": [
    {
     "data": {
      "text/plain": [
       "array([1, 0, 0, 0, 0, 0, 1, 0, 0, 0, 1, 0, 1, 0, 1, 0, 1, 0, 0, 0, 1, 0,\n",
       "       1, 0, 1, 0, 0, 0, 1, 0, 1, 0, 1, 0, 0, 0, 0, 0, 0, 0, 0, 0, 1, 0,\n",
       "       1, 0, 1, 0, 0, 0, 0, 0, 0, 0, 1, 0, 0, 0, 1, 0, 0, 0, 1, 0, 1, 0,\n",
       "       1, 0, 1, 0, 0, 0, 1, 0, 0, 0, 0, 0, 1, 0, 1, 0, 1, 0, 1, 0, 1, 0,\n",
       "       0, 0, 0, 0, 1, 0, 1, 0, 1, 0, 0, 0])"
      ]
     },
     "execution_count": 193,
     "metadata": {},
     "output_type": "execute_result"
    }
   ],
   "source": [
    "k_sets[0][1] + k_sets[1][1] + k_sets[2][1]"
   ]
  },
  {
   "cell_type": "code",
   "execution_count": 199,
   "metadata": {},
   "outputs": [
    {
     "data": {
      "text/plain": [
       "array([1, 0, 1, 0, 1, 0, 1, 0, 1, 0, 1, 0, 1, 0, 1, 0, 1, 0, 1, 0, 1, 0,\n",
       "       1, 0, 1, 0, 1, 0, 1, 0, 1, 0, 1, 0, 1, 0, 1, 0, 1, 0, 1, 0, 1, 0,\n",
       "       1, 0, 1, 0, 1, 0, 1, 0, 1, 0, 1, 0, 1, 0, 1, 0, 1, 0, 1, 0, 1, 0,\n",
       "       1, 0, 1, 0, 1, 0, 1, 0, 1, 0, 1, 0, 1, 0, 1, 0, 1, 0, 1, 0, 1, 0,\n",
       "       1, 0, 1, 0, 1, 0, 1, 0, 1, 0, 1, 0])"
      ]
     },
     "execution_count": 199,
     "metadata": {},
     "output_type": "execute_result"
    }
   ],
   "source": [
    "k_sets[0][1] + k_sets[1][1] + k_sets[2][1] + k_sets[3][1] + k_sets[4][1] "
   ]
  },
  {
   "cell_type": "code",
   "execution_count": 177,
   "metadata": {},
   "outputs": [
    {
     "data": {
      "text/plain": [
       "array([2, 0, 2, 0, 2, 0, 2, 0, 2, 0, 2, 0, 2, 0, 2, 0, 2, 0, 2, 0, 2, 0,\n",
       "       2, 0, 2, 0, 2, 0, 2, 0, 2, 0, 2, 0, 2, 0, 2, 0, 2, 0, 2, 0, 2, 0,\n",
       "       2, 0, 2, 0, 2, 0, 2, 0, 2, 0, 2, 0, 2, 0, 2, 0, 2, 0, 2, 0, 2, 0,\n",
       "       2, 0, 2, 0, 2, 0, 2, 0, 2, 0, 2, 0, 2, 0, 2, 0, 2, 0, 2, 0, 2, 0,\n",
       "       2, 0, 2, 0, 2, 0, 2, 0, 2, 0, 2, 0])"
      ]
     },
     "execution_count": 177,
     "metadata": {},
     "output_type": "execute_result"
    }
   ],
   "source": [
    "k_sets[0][0] + k_sets[1][0] + k_sets[2][0]"
   ]
  },
  {
   "cell_type": "code",
   "execution_count": 191,
   "metadata": {},
   "outputs": [
    {
     "data": {
      "text/plain": [
       "9"
      ]
     },
     "execution_count": 191,
     "metadata": {},
     "output_type": "execute_result"
    }
   ],
   "source": [
    "sum(y[k_sets[0][1] == 1])"
   ]
  },
  {
   "cell_type": "code",
   "execution_count": 187,
   "metadata": {},
   "outputs": [
    {
     "data": {
      "text/plain": [
       "50"
      ]
     },
     "execution_count": 187,
     "metadata": {},
     "output_type": "execute_result"
    }
   ],
   "source": [
    "sum(k_sets[0][1]) + sum(k_sets[0][0])"
   ]
  },
  {
   "cell_type": "code",
   "execution_count": 182,
   "metadata": {},
   "outputs": [
    {
     "data": {
      "text/plain": [
       "array([1, 0, 0, 0, 1, 0, 0, 0, 1, 0, 0, 0, 1, 0, 0, 0, 1, 0, 0, 0, 1, 0,\n",
       "       0, 0, 1, 0, 0, 0, 1, 0, 0, 0, 1, 0, 0, 0, 1, 0, 0, 0, 1, 0, 0, 0,\n",
       "       1, 0, 0, 0, 1, 0, 0, 0, 1, 0, 0, 0, 1, 0, 0, 0, 1, 0, 0, 0, 1, 0,\n",
       "       0, 0, 1, 0, 0, 0, 1, 0, 0, 0, 1, 0, 0, 0, 1, 0, 0, 0, 1, 0, 0, 0,\n",
       "       1, 0, 0, 0, 1, 0, 0, 0, 1, 0, 0, 0])"
      ]
     },
     "execution_count": 182,
     "metadata": {},
     "output_type": "execute_result"
    }
   ],
   "source": [
    "y"
   ]
  },
  {
   "cell_type": "code",
   "execution_count": 221,
   "metadata": {},
   "outputs": [
    {
     "data": {
      "text/plain": [
       "28.265382589016657"
      ]
     },
     "execution_count": 221,
     "metadata": {},
     "output_type": "execute_result"
    }
   ],
   "source": [
    "#!/usr/bin/env python\n",
    "import psutil\n",
    "# gives a single float value\n",
    "psutil.cpu_percent()\n",
    "# gives an object with many fields\n",
    "psutil.virtual_memory()\n",
    "# you can convert that object to a dictionary \n",
    "dict(psutil.virtual_memory()._asdict())\n",
    "# you can have the percentage of used RAM\n",
    "psutil.virtual_memory().percent\n",
    "# you can calculate percentage of available memory\n",
    "psutil.virtual_memory().available * 100 / psutil.virtual_memory().total"
   ]
  },
  {
   "cell_type": "code",
   "execution_count": 253,
   "metadata": {},
   "outputs": [
    {
     "data": {
      "text/plain": [
       "50.4"
      ]
     },
     "execution_count": 253,
     "metadata": {},
     "output_type": "execute_result"
    }
   ],
   "source": [
    "psutil.cpu_percent()"
   ]
  },
  {
   "cell_type": "code",
   "execution_count": 255,
   "metadata": {},
   "outputs": [
    {
     "data": {
      "text/plain": [
       "84.9"
      ]
     },
     "execution_count": 255,
     "metadata": {},
     "output_type": "execute_result"
    }
   ],
   "source": [
    "psutil.virtual_memory().percent"
   ]
  }
 ],
 "metadata": {
  "kernelspec": {
   "display_name": "Python 3 (ipykernel)",
   "language": "python",
   "name": "python3"
  },
  "language_info": {
   "codemirror_mode": {
    "name": "ipython",
    "version": 3
   },
   "file_extension": ".py",
   "mimetype": "text/x-python",
   "name": "python",
   "nbconvert_exporter": "python",
   "pygments_lexer": "ipython3",
   "version": "3.7.12"
  },
  "vscode": {
   "interpreter": {
    "hash": "f538d2fd2bf94073c6bb91393107c0cbcc01df77ad245e3e93e29c1df7680122"
   }
  }
 },
 "nbformat": 4,
 "nbformat_minor": 4
}
