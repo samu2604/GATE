{
 "cells": [
  {
   "cell_type": "markdown",
   "metadata": {},
   "source": [
    "### Join strong host factors together"
   ]
  },
  {
   "cell_type": "code",
   "execution_count": 66,
   "metadata": {},
   "outputs": [],
   "source": [
    "import pandas as pd\n",
    "\n",
    "data = pd.ExcelFile(\"/home/samuele/GhostFreePro/data_preprocessing_pipeline/artivir_data/ARTIvir_CoV_minimal_combined_dset.xlsx\")"
   ]
  },
  {
   "cell_type": "code",
   "execution_count": 67,
   "metadata": {},
   "outputs": [
    {
     "data": {
      "text/plain": [
       "['PPIs',\n",
       " 'EFF',\n",
       " 'Tx',\n",
       " 'FP',\n",
       " 'Ux',\n",
       " 'PPx',\n",
       " 'NHBE_FPs',\n",
       " 'Internal_SARSCoV2',\n",
       " 'HostFactors_Baggen_A549s',\n",
       " 'HostFactors_Baggen_2_studies']"
      ]
     },
     "execution_count": 67,
     "metadata": {},
     "output_type": "execute_result"
    }
   ],
   "source": [
    "data.sheet_names"
   ]
  },
  {
   "cell_type": "code",
   "execution_count": 68,
   "metadata": {},
   "outputs": [
    {
     "name": "stderr",
     "output_type": "stream",
     "text": [
      "/home/samuele/mambaforge/envs/pytorch_geometric/lib/python3.9/site-packages/openpyxl/worksheet/_reader.py:312: UserWarning: Unknown extension is not supported and will be removed\n",
      "  warn(msg)\n",
      "/home/samuele/mambaforge/envs/pytorch_geometric/lib/python3.9/site-packages/openpyxl/worksheet/_reader.py:312: UserWarning: Conditional Formatting extension is not supported and will be removed\n",
      "  warn(msg)\n",
      "/home/samuele/mambaforge/envs/pytorch_geometric/lib/python3.9/site-packages/openpyxl/worksheet/_reader.py:312: UserWarning: Unknown extension is not supported and will be removed\n",
      "  warn(msg)\n",
      "/home/samuele/mambaforge/envs/pytorch_geometric/lib/python3.9/site-packages/openpyxl/worksheet/_reader.py:312: UserWarning: Conditional Formatting extension is not supported and will be removed\n",
      "  warn(msg)\n",
      "/home/samuele/mambaforge/envs/pytorch_geometric/lib/python3.9/site-packages/openpyxl/worksheet/_reader.py:312: UserWarning: Unknown extension is not supported and will be removed\n",
      "  warn(msg)\n",
      "/home/samuele/mambaforge/envs/pytorch_geometric/lib/python3.9/site-packages/openpyxl/worksheet/_reader.py:312: UserWarning: Conditional Formatting extension is not supported and will be removed\n",
      "  warn(msg)\n",
      "/home/samuele/mambaforge/envs/pytorch_geometric/lib/python3.9/site-packages/openpyxl/worksheet/_reader.py:312: UserWarning: Unknown extension is not supported and will be removed\n",
      "  warn(msg)\n",
      "/home/samuele/mambaforge/envs/pytorch_geometric/lib/python3.9/site-packages/openpyxl/worksheet/_reader.py:312: UserWarning: Conditional Formatting extension is not supported and will be removed\n",
      "  warn(msg)\n",
      "/home/samuele/mambaforge/envs/pytorch_geometric/lib/python3.9/site-packages/openpyxl/worksheet/_reader.py:312: UserWarning: Unknown extension is not supported and will be removed\n",
      "  warn(msg)\n",
      "/home/samuele/mambaforge/envs/pytorch_geometric/lib/python3.9/site-packages/openpyxl/worksheet/_reader.py:312: UserWarning: Conditional Formatting extension is not supported and will be removed\n",
      "  warn(msg)\n"
     ]
    }
   ],
   "source": [
    "dfs =  {sheet_name: data.parse(sheet_name) for sheet_name in data.sheet_names}"
   ]
  },
  {
   "cell_type": "code",
   "execution_count": 70,
   "metadata": {},
   "outputs": [
    {
     "data": {
      "text/plain": [
       "dict_keys(['PPIs', 'EFF', 'Tx', 'FP', 'Ux', 'PPx', 'NHBE_FPs', 'Internal_SARSCoV2', 'HostFactors_Baggen_A549s', 'HostFactors_Baggen_2_studies'])"
      ]
     },
     "execution_count": 70,
     "metadata": {},
     "output_type": "execute_result"
    }
   ],
   "source": [
    "dfs.keys()"
   ]
  },
  {
   "cell_type": "code",
   "execution_count": 71,
   "metadata": {},
   "outputs": [],
   "source": [
    "df_host_factors_baggen = dfs[\"HostFactors_Baggen_A549s\"]"
   ]
  },
  {
   "cell_type": "code",
   "execution_count": 72,
   "metadata": {},
   "outputs": [
    {
     "data": {
      "text/html": [
       "<div>\n",
       "<style scoped>\n",
       "    .dataframe tbody tr th:only-of-type {\n",
       "        vertical-align: middle;\n",
       "    }\n",
       "\n",
       "    .dataframe tbody tr th {\n",
       "        vertical-align: top;\n",
       "    }\n",
       "\n",
       "    .dataframe thead th {\n",
       "        text-align: right;\n",
       "    }\n",
       "</style>\n",
       "<table border=\"1\" class=\"dataframe\">\n",
       "  <thead>\n",
       "    <tr style=\"text-align: right;\">\n",
       "      <th></th>\n",
       "      <th>Reference</th>\n",
       "      <th>Assay type</th>\n",
       "      <th>Assay cell line</th>\n",
       "      <th>Method</th>\n",
       "      <th>Bait</th>\n",
       "      <th>Gene name</th>\n",
       "      <th>Uniprot accession</th>\n",
       "      <th>Functionally validated by authors</th>\n",
       "      <th>Validated in cell line</th>\n",
       "    </tr>\n",
       "  </thead>\n",
       "  <tbody>\n",
       "    <tr>\n",
       "      <th>0</th>\n",
       "      <td>Gordon et al.</td>\n",
       "      <td>Protein interactome</td>\n",
       "      <td>HEK293T</td>\n",
       "      <td>AP-MS</td>\n",
       "      <td>orf8</td>\n",
       "      <td>ADAM9</td>\n",
       "      <td>Q13443</td>\n",
       "      <td>Yes</td>\n",
       "      <td>A549-ACE2</td>\n",
       "    </tr>\n",
       "    <tr>\n",
       "      <th>1</th>\n",
       "      <td>Gordon et al.</td>\n",
       "      <td>Protein interactome</td>\n",
       "      <td>HEK293T</td>\n",
       "      <td>AP-MS</td>\n",
       "      <td>nsp4</td>\n",
       "      <td>ALG11</td>\n",
       "      <td>Q2TAA5</td>\n",
       "      <td>Yes</td>\n",
       "      <td>A549-ACE2</td>\n",
       "    </tr>\n",
       "    <tr>\n",
       "      <th>2</th>\n",
       "      <td>Gordon et al.</td>\n",
       "      <td>Protein interactome</td>\n",
       "      <td>HEK293T</td>\n",
       "      <td>AP-MS</td>\n",
       "      <td>nsp15</td>\n",
       "      <td>ARF6</td>\n",
       "      <td>P62330</td>\n",
       "      <td>Yes</td>\n",
       "      <td>A549-ACE2</td>\n",
       "    </tr>\n",
       "    <tr>\n",
       "      <th>3</th>\n",
       "      <td>Gordon et al.</td>\n",
       "      <td>Protein interactome</td>\n",
       "      <td>HEK293T</td>\n",
       "      <td>AP-MS</td>\n",
       "      <td>nsp6</td>\n",
       "      <td>ATP6AP1</td>\n",
       "      <td>Q15904</td>\n",
       "      <td>Yes</td>\n",
       "      <td>A549-ACE2/Caco-2</td>\n",
       "    </tr>\n",
       "    <tr>\n",
       "      <th>4</th>\n",
       "      <td>Gordon et al.</td>\n",
       "      <td>Protein interactome</td>\n",
       "      <td>HEK293T</td>\n",
       "      <td>AP-MS</td>\n",
       "      <td>orf9c</td>\n",
       "      <td>BCS1L</td>\n",
       "      <td>Q9Y276</td>\n",
       "      <td>Yes</td>\n",
       "      <td>A549-ACE2</td>\n",
       "    </tr>\n",
       "  </tbody>\n",
       "</table>\n",
       "</div>"
      ],
      "text/plain": [
       "       Reference           Assay type Assay cell line Method   Bait Gene name  \\\n",
       "0  Gordon et al.  Protein interactome         HEK293T  AP-MS   orf8     ADAM9   \n",
       "1  Gordon et al.  Protein interactome         HEK293T  AP-MS   nsp4     ALG11   \n",
       "2  Gordon et al.  Protein interactome         HEK293T  AP-MS  nsp15      ARF6   \n",
       "3  Gordon et al.  Protein interactome         HEK293T  AP-MS   nsp6   ATP6AP1   \n",
       "4  Gordon et al.  Protein interactome         HEK293T  AP-MS  orf9c     BCS1L   \n",
       "\n",
       "  Uniprot accession Functionally validated by authors Validated in cell line  \n",
       "0            Q13443                               Yes              A549-ACE2  \n",
       "1            Q2TAA5                               Yes              A549-ACE2  \n",
       "2            P62330                               Yes              A549-ACE2  \n",
       "3            Q15904                               Yes       A549-ACE2/Caco-2  \n",
       "4            Q9Y276                               Yes              A549-ACE2  "
      ]
     },
     "execution_count": 72,
     "metadata": {},
     "output_type": "execute_result"
    }
   ],
   "source": [
    "df_host_factors_baggen.head()"
   ]
  },
  {
   "cell_type": "code",
   "execution_count": 76,
   "metadata": {},
   "outputs": [
    {
     "data": {
      "text/plain": [
       "array(['Functional validation', 'Genome-wide functional screen ',\n",
       "       'Protein interactome', 'RNA interactome',\n",
       "       'Targeted functional screen'], dtype=object)"
      ]
     },
     "execution_count": 76,
     "metadata": {},
     "output_type": "execute_result"
    }
   ],
   "source": [
    "import numpy as np\n",
    "np.unique(df_host_factors_baggen[\"Assay type\"].values)"
   ]
  },
  {
   "cell_type": "code",
   "execution_count": 83,
   "metadata": {},
   "outputs": [
    {
     "name": "stderr",
     "output_type": "stream",
     "text": [
      "/tmp/ipykernel_240670/407891942.py:1: UserWarning: Boolean Series key will be reindexed to match DataFrame index.\n",
      "  strong_host_factors = np.unique(df_host_factors_baggen[df_host_factors_baggen[\"Assay type\"] != \"RNA interactome\"][df_host_factors_baggen[\"Assay type\"] != \"Protein interactome\"][\"Gene name\"].values)\n"
     ]
    }
   ],
   "source": [
    "strong_host_factors = np.unique(df_host_factors_baggen[df_host_factors_baggen[\"Assay type\"] != \"RNA interactome\"][df_host_factors_baggen[\"Assay type\"] != \"Protein interactome\"][\"Gene name\"].values)"
   ]
  },
  {
   "cell_type": "code",
   "execution_count": 84,
   "metadata": {},
   "outputs": [
    {
     "data": {
      "text/plain": [
       "61"
      ]
     },
     "execution_count": 84,
     "metadata": {},
     "output_type": "execute_result"
    }
   ],
   "source": [
    "len(strong_host_factors)"
   ]
  },
  {
   "cell_type": "code",
   "execution_count": 85,
   "metadata": {},
   "outputs": [],
   "source": [
    "with open(\"/home/samuele/GhostFreePro/data_preprocessing_pipeline/artivir_data/strong_host_factors.txt\", \"r\") as f:\n",
    "    host_factors_baggen_2_studies = f.read().splitlines()"
   ]
  },
  {
   "cell_type": "code",
   "execution_count": 86,
   "metadata": {},
   "outputs": [],
   "source": [
    "host_factors_baggen_2_studies = np.unique(host_factors_baggen_2_studies)"
   ]
  },
  {
   "cell_type": "code",
   "execution_count": 87,
   "metadata": {},
   "outputs": [
    {
     "data": {
      "text/plain": [
       "64"
      ]
     },
     "execution_count": 87,
     "metadata": {},
     "output_type": "execute_result"
    }
   ],
   "source": [
    "len(host_factors_baggen_2_studies)"
   ]
  },
  {
   "cell_type": "code",
   "execution_count": 152,
   "metadata": {},
   "outputs": [],
   "source": [
    "host_factors = np.unique(np.concatenate((strong_host_factors, host_factors_baggen_2_studies))).astype('str')"
   ]
  },
  {
   "cell_type": "code",
   "execution_count": 153,
   "metadata": {},
   "outputs": [
    {
     "data": {
      "text/plain": [
       "89"
      ]
     },
     "execution_count": 153,
     "metadata": {},
     "output_type": "execute_result"
    }
   ],
   "source": [
    "len(host_factors)"
   ]
  },
  {
   "cell_type": "code",
   "execution_count": 91,
   "metadata": {},
   "outputs": [],
   "source": [
    "np.save(\"/home/samuele/GhostFreePro/data_preprocessing_pipeline/artivir_data/strong_host_factors.npy\", host_factors)    "
   ]
  },
  {
   "cell_type": "code",
   "execution_count": 92,
   "metadata": {},
   "outputs": [],
   "source": [
    "test = np.load(\"/home/samuele/GhostFreePro/data_preprocessing_pipeline/artivir_data/strong_host_factors.npy\")"
   ]
  },
  {
   "cell_type": "code",
   "execution_count": 93,
   "metadata": {},
   "outputs": [
    {
     "data": {
      "text/plain": [
       "89"
      ]
     },
     "execution_count": 93,
     "metadata": {},
     "output_type": "execute_result"
    }
   ],
   "source": [
    "len(test)"
   ]
  },
  {
   "cell_type": "markdown",
   "metadata": {},
   "source": [
    "### Select most frequent host factors and functionally validated host factors in publications"
   ]
  },
  {
   "cell_type": "code",
   "execution_count": 154,
   "metadata": {},
   "outputs": [],
   "source": [
    "host_factors_xlsx = pd.ExcelFile(\"/home/samuele/GhostFreePro/data_preprocessing_pipeline/artivir_data/host_factors_from_publications.xlsx\")\n",
    "\n",
    "host_factors_dfs = {sheet_name: host_factors_xlsx.parse(sheet_name) for sheet_name in host_factors_xlsx.sheet_names}"
   ]
  },
  {
   "cell_type": "code",
   "execution_count": 155,
   "metadata": {},
   "outputs": [],
   "source": [
    "host_factors_df = host_factors_dfs[\"host_factors\"]"
   ]
  },
  {
   "cell_type": "code",
   "execution_count": 157,
   "metadata": {},
   "outputs": [
    {
     "data": {
      "text/html": [
       "<div>\n",
       "<style scoped>\n",
       "    .dataframe tbody tr th:only-of-type {\n",
       "        vertical-align: middle;\n",
       "    }\n",
       "\n",
       "    .dataframe tbody tr th {\n",
       "        vertical-align: top;\n",
       "    }\n",
       "\n",
       "    .dataframe thead th {\n",
       "        text-align: right;\n",
       "    }\n",
       "</style>\n",
       "<table border=\"1\" class=\"dataframe\">\n",
       "  <thead>\n",
       "    <tr style=\"text-align: right;\">\n",
       "      <th></th>\n",
       "      <th>Reference</th>\n",
       "      <th>Assay type</th>\n",
       "      <th>Assay cell line</th>\n",
       "      <th>Method</th>\n",
       "      <th>Bait</th>\n",
       "      <th>Gene name</th>\n",
       "      <th>Uniprot accession</th>\n",
       "      <th>Functionally validated by authors</th>\n",
       "    </tr>\n",
       "  </thead>\n",
       "  <tbody>\n",
       "    <tr>\n",
       "      <th>0</th>\n",
       "      <td>Gordon et al.</td>\n",
       "      <td>Protein interactome</td>\n",
       "      <td>HEK293T</td>\n",
       "      <td>AP-MS</td>\n",
       "      <td>M</td>\n",
       "      <td>AAR2</td>\n",
       "      <td>Q9Y312</td>\n",
       "      <td>NaN</td>\n",
       "    </tr>\n",
       "    <tr>\n",
       "      <th>1</th>\n",
       "      <td>Li et al.</td>\n",
       "      <td>Protein interactome</td>\n",
       "      <td>HEK293T</td>\n",
       "      <td>AP-MS</td>\n",
       "      <td>nsp10</td>\n",
       "      <td>AARS1</td>\n",
       "      <td>P49588</td>\n",
       "      <td>NaN</td>\n",
       "    </tr>\n",
       "    <tr>\n",
       "      <th>2</th>\n",
       "      <td>Li et al.</td>\n",
       "      <td>Protein interactome</td>\n",
       "      <td>HEK293T</td>\n",
       "      <td>AP-MS</td>\n",
       "      <td>nsp10</td>\n",
       "      <td>AASDHPPT</td>\n",
       "      <td>Q9NRN7</td>\n",
       "      <td>NaN</td>\n",
       "    </tr>\n",
       "    <tr>\n",
       "      <th>3</th>\n",
       "      <td>Gordon et al.</td>\n",
       "      <td>Protein interactome</td>\n",
       "      <td>HEK293T</td>\n",
       "      <td>AP-MS</td>\n",
       "      <td>M</td>\n",
       "      <td>AASS</td>\n",
       "      <td>Q9UDR5</td>\n",
       "      <td>NaN</td>\n",
       "    </tr>\n",
       "    <tr>\n",
       "      <th>4</th>\n",
       "      <td>Gordon et al.</td>\n",
       "      <td>Protein interactome</td>\n",
       "      <td>HEK293T</td>\n",
       "      <td>AP-MS</td>\n",
       "      <td>nsp8</td>\n",
       "      <td>AATF</td>\n",
       "      <td>Q9NY61</td>\n",
       "      <td>NaN</td>\n",
       "    </tr>\n",
       "  </tbody>\n",
       "</table>\n",
       "</div>"
      ],
      "text/plain": [
       "       Reference           Assay type Assay cell line Method   Bait Gene name  \\\n",
       "0  Gordon et al.  Protein interactome         HEK293T  AP-MS      M      AAR2   \n",
       "1      Li et al.  Protein interactome         HEK293T  AP-MS  nsp10     AARS1   \n",
       "2      Li et al.  Protein interactome         HEK293T  AP-MS  nsp10  AASDHPPT   \n",
       "3  Gordon et al.  Protein interactome         HEK293T  AP-MS      M      AASS   \n",
       "4  Gordon et al.  Protein interactome         HEK293T  AP-MS   nsp8      AATF   \n",
       "\n",
       "  Uniprot accession Functionally validated by authors  \n",
       "0            Q9Y312                               NaN  \n",
       "1            P49588                               NaN  \n",
       "2            Q9NRN7                               NaN  \n",
       "3            Q9UDR5                               NaN  \n",
       "4            Q9NY61                               NaN  "
      ]
     },
     "execution_count": 157,
     "metadata": {},
     "output_type": "execute_result"
    }
   ],
   "source": [
    "host_factors_df.head()"
   ]
  },
  {
   "cell_type": "code",
   "execution_count": 186,
   "metadata": {},
   "outputs": [
    {
     "data": {
      "text/plain": [
       "array(['Baggen et al.', 'Biering et al.', 'Clausen et al.', 'Daly et al.',\n",
       "       'Daniloski et al.', 'Davies et al.', 'Flynn et al.',\n",
       "       'Flynn et al. ', 'Gordon et al.', 'Grodzki et al.',\n",
       "       'Hoffman et al. ', 'Kamel et al.', 'Kratzel et al.',\n",
       "       'Labeau et al.', 'Laurent et al.', 'Lee et al.', 'Li et al.',\n",
       "       'Rebendenne et al.', 'Samavarch-Tehrani et al. ', 'Schmidt et al.',\n",
       "       'Schneider et al.', 'St Germain et al.', 'Stukalov et al.',\n",
       "       'Sun et al.', 'Wang Ke et al. ', 'Wang Shuai et al.',\n",
       "       'Wang et al.', 'Wei Congwen et al.', 'Wei et al.', 'White et al.',\n",
       "       'Zhu Shiyou et al. ', 'Zhu et al.', 'Zhu et al. '], dtype=object)"
      ]
     },
     "execution_count": 186,
     "metadata": {},
     "output_type": "execute_result"
    }
   ],
   "source": [
    "# list of collected studies\n",
    "np.unique(host_factors_df[\"Reference\"].values)"
   ]
  },
  {
   "cell_type": "code",
   "execution_count": 158,
   "metadata": {},
   "outputs": [],
   "source": [
    "host_factors_from_publications = np.unique(host_factors_df[\"Gene name\"].values)"
   ]
  },
  {
   "cell_type": "code",
   "execution_count": 159,
   "metadata": {},
   "outputs": [
    {
     "data": {
      "text/plain": [
       "5075"
      ]
     },
     "execution_count": 159,
     "metadata": {},
     "output_type": "execute_result"
    }
   ],
   "source": [
    "len(host_factors_from_publications)"
   ]
  },
  {
   "cell_type": "code",
   "execution_count": 160,
   "metadata": {},
   "outputs": [
    {
     "data": {
      "text/plain": [
       "array(['Functional validation', 'Genome-wide functional screen ',\n",
       "       'Protein interactome', 'RNA interactome',\n",
       "       'Targeted functional screen'], dtype=object)"
      ]
     },
     "execution_count": 160,
     "metadata": {},
     "output_type": "execute_result"
    }
   ],
   "source": [
    "np.unique(host_factors_df[\"Assay type\"].values)"
   ]
  },
  {
   "cell_type": "code",
   "execution_count": 183,
   "metadata": {},
   "outputs": [
    {
     "data": {
      "text/html": [
       "<div>\n",
       "<style scoped>\n",
       "    .dataframe tbody tr th:only-of-type {\n",
       "        vertical-align: middle;\n",
       "    }\n",
       "\n",
       "    .dataframe tbody tr th {\n",
       "        vertical-align: top;\n",
       "    }\n",
       "\n",
       "    .dataframe thead th {\n",
       "        text-align: right;\n",
       "    }\n",
       "</style>\n",
       "<table border=\"1\" class=\"dataframe\">\n",
       "  <thead>\n",
       "    <tr style=\"text-align: right;\">\n",
       "      <th></th>\n",
       "      <th>Reference</th>\n",
       "      <th>Assay type</th>\n",
       "      <th>Assay cell line</th>\n",
       "      <th>Method</th>\n",
       "      <th>Bait</th>\n",
       "      <th>Gene name</th>\n",
       "      <th>Uniprot accession</th>\n",
       "      <th>Functionally validated by authors</th>\n",
       "    </tr>\n",
       "  </thead>\n",
       "  <tbody>\n",
       "    <tr>\n",
       "      <th>34</th>\n",
       "      <td>Gordon et al.</td>\n",
       "      <td>Protein interactome</td>\n",
       "      <td>HEK293T</td>\n",
       "      <td>AP-MS</td>\n",
       "      <td>orf8</td>\n",
       "      <td>ADAM9</td>\n",
       "      <td>Q13443</td>\n",
       "      <td>Yes</td>\n",
       "    </tr>\n",
       "    <tr>\n",
       "      <th>65</th>\n",
       "      <td>Gordon et al.</td>\n",
       "      <td>Protein interactome</td>\n",
       "      <td>HEK293T</td>\n",
       "      <td>AP-MS</td>\n",
       "      <td>nsp4</td>\n",
       "      <td>ALG11</td>\n",
       "      <td>Q2TAA5</td>\n",
       "      <td>Yes</td>\n",
       "    </tr>\n",
       "    <tr>\n",
       "      <th>91</th>\n",
       "      <td>Gordon et al.</td>\n",
       "      <td>Protein interactome</td>\n",
       "      <td>HEK293T</td>\n",
       "      <td>AP-MS</td>\n",
       "      <td>nsp15</td>\n",
       "      <td>ARF6</td>\n",
       "      <td>P62330</td>\n",
       "      <td>Yes</td>\n",
       "    </tr>\n",
       "    <tr>\n",
       "      <th>139</th>\n",
       "      <td>Gordon et al.</td>\n",
       "      <td>Protein interactome</td>\n",
       "      <td>HEK293T</td>\n",
       "      <td>AP-MS</td>\n",
       "      <td>nsp6</td>\n",
       "      <td>ATP6AP1</td>\n",
       "      <td>Q15904</td>\n",
       "      <td>Yes</td>\n",
       "    </tr>\n",
       "    <tr>\n",
       "      <th>166</th>\n",
       "      <td>Gordon et al.</td>\n",
       "      <td>Protein interactome</td>\n",
       "      <td>HEK293T</td>\n",
       "      <td>AP-MS</td>\n",
       "      <td>orf9c</td>\n",
       "      <td>BCS1L</td>\n",
       "      <td>Q9Y276</td>\n",
       "      <td>Yes</td>\n",
       "    </tr>\n",
       "  </tbody>\n",
       "</table>\n",
       "</div>"
      ],
      "text/plain": [
       "         Reference           Assay type Assay cell line Method   Bait  \\\n",
       "34   Gordon et al.  Protein interactome         HEK293T  AP-MS   orf8   \n",
       "65   Gordon et al.  Protein interactome         HEK293T  AP-MS   nsp4   \n",
       "91   Gordon et al.  Protein interactome         HEK293T  AP-MS  nsp15   \n",
       "139  Gordon et al.  Protein interactome         HEK293T  AP-MS   nsp6   \n",
       "166  Gordon et al.  Protein interactome         HEK293T  AP-MS  orf9c   \n",
       "\n",
       "    Gene name Uniprot accession Functionally validated by authors  \n",
       "34      ADAM9            Q13443                               Yes  \n",
       "65      ALG11            Q2TAA5                               Yes  \n",
       "91       ARF6            P62330                               Yes  \n",
       "139   ATP6AP1            Q15904                               Yes  \n",
       "166     BCS1L            Q9Y276                               Yes  "
      ]
     },
     "execution_count": 183,
     "metadata": {},
     "output_type": "execute_result"
    }
   ],
   "source": [
    "# filter for functionally validated host factors\n",
    "functionally_validated_host_factors_df = host_factors_df[host_factors_df[\"Functionally validated by authors\"] ==  \"Yes\"]\n",
    "functionally_validated_host_factors_df.head()"
   ]
  },
  {
   "cell_type": "code",
   "execution_count": 184,
   "metadata": {},
   "outputs": [
    {
     "data": {
      "text/plain": [
       "196"
      ]
     },
     "execution_count": 184,
     "metadata": {},
     "output_type": "execute_result"
    }
   ],
   "source": [
    "len(np.unique(functionally_validated_host_factors_df[\"Gene name\"].values))"
   ]
  },
  {
   "cell_type": "code",
   "execution_count": 236,
   "metadata": {},
   "outputs": [],
   "source": [
    "strong_functionally_validated_host_factors = np.unique(np.concatenate((host_factors, np.unique(functionally_validated_host_factors_df[\"Gene name\"].values)))).astype('str')"
   ]
  },
  {
   "cell_type": "code",
   "execution_count": 240,
   "metadata": {},
   "outputs": [
    {
     "data": {
      "text/plain": [
       "198"
      ]
     },
     "execution_count": 240,
     "metadata": {},
     "output_type": "execute_result"
    }
   ],
   "source": [
    "len(strong_functionally_validated_host_factors)"
   ]
  },
  {
   "cell_type": "code",
   "execution_count": 241,
   "metadata": {},
   "outputs": [],
   "source": [
    "np.save(\"/home/samuele/GhostFreePro/data_preprocessing_pipeline/artivir_data/strong_functionally_validated_host_factors.npy\", strong_functionally_validated_host_factors)"
   ]
  },
  {
   "cell_type": "code",
   "execution_count": 161,
   "metadata": {},
   "outputs": [
    {
     "name": "stderr",
     "output_type": "stream",
     "text": [
      "/tmp/ipykernel_240670/3237915194.py:1: UserWarning: Boolean Series key will be reindexed to match DataFrame index.\n",
      "  len(np.unique(host_factors_df[host_factors_df[\"Assay type\"] !=  \"Protein interactome\"][host_factors_df[\"Assay type\"] !=  \"RNA interactome\"][\"Gene name\"].values))\n"
     ]
    },
    {
     "data": {
      "text/plain": [
       "753"
      ]
     },
     "execution_count": 161,
     "metadata": {},
     "output_type": "execute_result"
    }
   ],
   "source": [
    "# filter for assay type, avoid Protein Interactome and RNA interactome biases\n",
    "len(np.unique(host_factors_df[host_factors_df[\"Assay type\"] !=  \"Protein interactome\"][host_factors_df[\"Assay type\"] !=  \"RNA interactome\"][\"Gene name\"].values))"
   ]
  },
  {
   "cell_type": "code",
   "execution_count": 162,
   "metadata": {},
   "outputs": [
    {
     "name": "stderr",
     "output_type": "stream",
     "text": [
      "/tmp/ipykernel_240670/2204499336.py:1: UserWarning: Boolean Series key will be reindexed to match DataFrame index.\n",
      "  filtered_host_factors_df = host_factors_df[host_factors_df[\"Assay type\"] !=  \"Protein interactome\"][host_factors_df[\"Assay type\"] !=  \"RNA interactome\"]\n"
     ]
    },
    {
     "data": {
      "text/html": [
       "<div>\n",
       "<style scoped>\n",
       "    .dataframe tbody tr th:only-of-type {\n",
       "        vertical-align: middle;\n",
       "    }\n",
       "\n",
       "    .dataframe tbody tr th {\n",
       "        vertical-align: top;\n",
       "    }\n",
       "\n",
       "    .dataframe thead th {\n",
       "        text-align: right;\n",
       "    }\n",
       "</style>\n",
       "<table border=\"1\" class=\"dataframe\">\n",
       "  <thead>\n",
       "    <tr style=\"text-align: right;\">\n",
       "      <th></th>\n",
       "      <th>Reference</th>\n",
       "      <th>Assay type</th>\n",
       "      <th>Assay cell line</th>\n",
       "      <th>Method</th>\n",
       "      <th>Bait</th>\n",
       "      <th>Gene name</th>\n",
       "      <th>Uniprot accession</th>\n",
       "      <th>Functionally validated by authors</th>\n",
       "    </tr>\n",
       "  </thead>\n",
       "  <tbody>\n",
       "    <tr>\n",
       "      <th>19133</th>\n",
       "      <td>Biering et al.</td>\n",
       "      <td>Genome-wide functional screen</td>\n",
       "      <td>Calu-3</td>\n",
       "      <td>CRISPR KO</td>\n",
       "      <td>NaN</td>\n",
       "      <td>AADACL4</td>\n",
       "      <td>Q5VUY2</td>\n",
       "      <td>NaN</td>\n",
       "    </tr>\n",
       "    <tr>\n",
       "      <th>19134</th>\n",
       "      <td>Biering et al.</td>\n",
       "      <td>Genome-wide functional screen</td>\n",
       "      <td>Calu-3</td>\n",
       "      <td>CRISPR KO</td>\n",
       "      <td>NaN</td>\n",
       "      <td>AAGAB</td>\n",
       "      <td>Q6PD74</td>\n",
       "      <td>NaN</td>\n",
       "    </tr>\n",
       "    <tr>\n",
       "      <th>19135</th>\n",
       "      <td>Biering et al.</td>\n",
       "      <td>Genome-wide functional screen</td>\n",
       "      <td>Calu-3</td>\n",
       "      <td>CRISPR KO</td>\n",
       "      <td>NaN</td>\n",
       "      <td>ACE2</td>\n",
       "      <td>Q9BYF1</td>\n",
       "      <td>Yes</td>\n",
       "    </tr>\n",
       "    <tr>\n",
       "      <th>19136</th>\n",
       "      <td>Rebendenne et al.</td>\n",
       "      <td>Genome-wide functional screen</td>\n",
       "      <td>Vero-E6</td>\n",
       "      <td>CRISPR KO</td>\n",
       "      <td>NaN</td>\n",
       "      <td>ACE2</td>\n",
       "      <td>Q9BYF1</td>\n",
       "      <td>Yes</td>\n",
       "    </tr>\n",
       "    <tr>\n",
       "      <th>19137</th>\n",
       "      <td>Rebendenne et al.</td>\n",
       "      <td>Genome-wide functional screen</td>\n",
       "      <td>Caco-2</td>\n",
       "      <td>CRISPR KO</td>\n",
       "      <td>NaN</td>\n",
       "      <td>ACE2</td>\n",
       "      <td>Q9BYF1</td>\n",
       "      <td>Yes</td>\n",
       "    </tr>\n",
       "  </tbody>\n",
       "</table>\n",
       "</div>"
      ],
      "text/plain": [
       "               Reference                      Assay type Assay cell line  \\\n",
       "19133     Biering et al.  Genome-wide functional screen           Calu-3   \n",
       "19134     Biering et al.  Genome-wide functional screen           Calu-3   \n",
       "19135     Biering et al.  Genome-wide functional screen           Calu-3   \n",
       "19136  Rebendenne et al.  Genome-wide functional screen          Vero-E6   \n",
       "19137  Rebendenne et al.  Genome-wide functional screen           Caco-2   \n",
       "\n",
       "          Method Bait Gene name Uniprot accession  \\\n",
       "19133  CRISPR KO  NaN   AADACL4            Q5VUY2   \n",
       "19134  CRISPR KO  NaN     AAGAB            Q6PD74   \n",
       "19135  CRISPR KO  NaN      ACE2            Q9BYF1   \n",
       "19136  CRISPR KO  NaN      ACE2            Q9BYF1   \n",
       "19137  CRISPR KO  NaN      ACE2            Q9BYF1   \n",
       "\n",
       "      Functionally validated by authors  \n",
       "19133                               NaN  \n",
       "19134                               NaN  \n",
       "19135                               Yes  \n",
       "19136                               Yes  \n",
       "19137                               Yes  "
      ]
     },
     "execution_count": 162,
     "metadata": {},
     "output_type": "execute_result"
    }
   ],
   "source": [
    "filtered_host_factors_df = host_factors_df[host_factors_df[\"Assay type\"] !=  \"Protein interactome\"][host_factors_df[\"Assay type\"] !=  \"RNA interactome\"]\n",
    "filtered_host_factors_df.head()"
   ]
  },
  {
   "cell_type": "code",
   "execution_count": 163,
   "metadata": {},
   "outputs": [
    {
     "data": {
      "text/plain": [
       "899"
      ]
     },
     "execution_count": 163,
     "metadata": {},
     "output_type": "execute_result"
    }
   ],
   "source": [
    "len(filtered_host_factors_df)"
   ]
  },
  {
   "cell_type": "code",
   "execution_count": 165,
   "metadata": {},
   "outputs": [
    {
     "data": {
      "text/plain": [
       "22"
      ]
     },
     "execution_count": 165,
     "metadata": {},
     "output_type": "execute_result"
    }
   ],
   "source": [
    "# remaining publications after filtering\n",
    "len(np.unique(filtered_host_factors_df[\"Reference\"].values))"
   ]
  },
  {
   "cell_type": "code",
   "execution_count": 166,
   "metadata": {},
   "outputs": [],
   "source": [
    "unique_genes, pub_counts = np.unique(filtered_host_factors_df[\"Gene name\"].values, return_counts = True)"
   ]
  },
  {
   "cell_type": "code",
   "execution_count": 167,
   "metadata": {},
   "outputs": [
    {
     "data": {
      "text/plain": [
       "753"
      ]
     },
     "execution_count": 167,
     "metadata": {},
     "output_type": "execute_result"
    }
   ],
   "source": [
    "len(unique_genes)"
   ]
  },
  {
   "cell_type": "code",
   "execution_count": 168,
   "metadata": {},
   "outputs": [
    {
     "name": "stdout",
     "output_type": "stream",
     "text": [
      "101\n"
     ]
    }
   ],
   "source": [
    "# select filtered host factors shared by at least 2 publications\n",
    "host_factors_from_pubs = []\n",
    "for gene, pub_number in zip(unique_genes, pub_counts):\n",
    "    if pub_number >= 2:\n",
    "        host_factors_from_pubs.append(gene)\n",
    "\n",
    "print(len(host_factors_from_pubs))        "
   ]
  },
  {
   "cell_type": "code",
   "execution_count": 235,
   "metadata": {},
   "outputs": [
    {
     "data": {
      "text/plain": [
       "131"
      ]
     },
     "execution_count": 235,
     "metadata": {},
     "output_type": "execute_result"
    }
   ],
   "source": [
    "strong_host_factors_list_from_publications = np.unique(np.concatenate((host_factors, host_factors_from_pubs))).astype('str')\n",
    "len(strong_host_factors_list_from_publications)"
   ]
  },
  {
   "cell_type": "code",
   "execution_count": 171,
   "metadata": {},
   "outputs": [
    {
     "data": {
      "text/plain": [
       "89"
      ]
     },
     "execution_count": 171,
     "metadata": {},
     "output_type": "execute_result"
    }
   ],
   "source": [
    "len(host_factors)"
   ]
  },
  {
   "cell_type": "code",
   "execution_count": 172,
   "metadata": {},
   "outputs": [],
   "source": [
    "np.save(\"/home/samuele/GhostFreePro/data_preprocessing_pipeline/artivir_data/strong_host_factors_list_from_publications.npy\", strong_host_factors_list_from_publications)    "
   ]
  },
  {
   "cell_type": "code",
   "execution_count": 173,
   "metadata": {},
   "outputs": [
    {
     "name": "stdout",
     "output_type": "stream",
     "text": [
      "753\n"
     ]
    }
   ],
   "source": [
    "# select filtered host factors shared by at least 1 publications\n",
    "weak_host_factors_from_pubs = []\n",
    "for gene, pub_number in zip(unique_genes, pub_counts):\n",
    "    if pub_number >= 1:\n",
    "        weak_host_factors_from_pubs.append(gene)\n",
    "\n",
    "print(len(weak_host_factors_from_pubs)) "
   ]
  },
  {
   "cell_type": "code",
   "execution_count": 174,
   "metadata": {},
   "outputs": [
    {
     "data": {
      "text/plain": [
       "755"
      ]
     },
     "execution_count": 174,
     "metadata": {},
     "output_type": "execute_result"
    }
   ],
   "source": [
    "weak_host_factors_list_from_publications = np.unique(np.concatenate((host_factors, weak_host_factors_from_pubs))).astype('str')\n",
    "len(weak_host_factors_list_from_publications)"
   ]
  },
  {
   "cell_type": "code",
   "execution_count": 175,
   "metadata": {},
   "outputs": [],
   "source": [
    "np.save(\"/home/samuele/GhostFreePro/data_preprocessing_pipeline/artivir_data/weak_host_factors_list_from_publications.npy\", weak_host_factors_list_from_publications)"
   ]
  },
  {
   "cell_type": "code",
   "execution_count": 58,
   "metadata": {},
   "outputs": [],
   "source": [
    "# I recreate the set of positives starting from Stukalov and then checking the repetitions in other indipendent publications\n",
    "#stukalov_genes = host_factors_df[host_factors_df[\"Reference\"] == 'Stukalov et al.'][\"Gene name\"].values\n",
    "#unique_genes, pub_counts = np.unique(host_factors_df[\"Gene name\"].values, return_counts = True)"
   ]
  },
  {
   "cell_type": "markdown",
   "metadata": {},
   "source": [
    "### Multiscale  interactome Network"
   ]
  },
  {
   "cell_type": "code",
   "execution_count": 244,
   "metadata": {},
   "outputs": [],
   "source": [
    "df_multiscale_interactome = pd.read_csv(\"/home/samuele/GhostFreePro/data_preprocessing_pipeline/artivir_data/multiscale_interactome.txt\", sep=\"\\t\")"
   ]
  },
  {
   "cell_type": "code",
   "execution_count": 246,
   "metadata": {},
   "outputs": [
    {
     "data": {
      "text/html": [
       "<div>\n",
       "<style scoped>\n",
       "    .dataframe tbody tr th:only-of-type {\n",
       "        vertical-align: middle;\n",
       "    }\n",
       "\n",
       "    .dataframe tbody tr th {\n",
       "        vertical-align: top;\n",
       "    }\n",
       "\n",
       "    .dataframe thead th {\n",
       "        text-align: right;\n",
       "    }\n",
       "</style>\n",
       "<table border=\"1\" class=\"dataframe\">\n",
       "  <thead>\n",
       "    <tr style=\"text-align: right;\">\n",
       "      <th></th>\n",
       "      <th>node_1</th>\n",
       "      <th>node_2</th>\n",
       "      <th>node_1_type</th>\n",
       "      <th>node_2_type</th>\n",
       "      <th>node_1_name</th>\n",
       "      <th>node_2_name</th>\n",
       "    </tr>\n",
       "  </thead>\n",
       "  <tbody>\n",
       "    <tr>\n",
       "      <th>0</th>\n",
       "      <td>6416</td>\n",
       "      <td>2318</td>\n",
       "      <td>protein</td>\n",
       "      <td>protein</td>\n",
       "      <td>MAP2K4</td>\n",
       "      <td>FLNC</td>\n",
       "    </tr>\n",
       "    <tr>\n",
       "      <th>1</th>\n",
       "      <td>6416</td>\n",
       "      <td>9043</td>\n",
       "      <td>protein</td>\n",
       "      <td>protein</td>\n",
       "      <td>MAP2K4</td>\n",
       "      <td>SPAG9</td>\n",
       "    </tr>\n",
       "    <tr>\n",
       "      <th>2</th>\n",
       "      <td>6416</td>\n",
       "      <td>5599</td>\n",
       "      <td>protein</td>\n",
       "      <td>protein</td>\n",
       "      <td>MAP2K4</td>\n",
       "      <td>MAPK8</td>\n",
       "    </tr>\n",
       "    <tr>\n",
       "      <th>3</th>\n",
       "      <td>6416</td>\n",
       "      <td>5871</td>\n",
       "      <td>protein</td>\n",
       "      <td>protein</td>\n",
       "      <td>MAP2K4</td>\n",
       "      <td>MAP4K2</td>\n",
       "    </tr>\n",
       "    <tr>\n",
       "      <th>4</th>\n",
       "      <td>6416</td>\n",
       "      <td>1326</td>\n",
       "      <td>protein</td>\n",
       "      <td>protein</td>\n",
       "      <td>MAP2K4</td>\n",
       "      <td>MAP3K8</td>\n",
       "    </tr>\n",
       "  </tbody>\n",
       "</table>\n",
       "</div>"
      ],
      "text/plain": [
       "   node_1  node_2 node_1_type node_2_type node_1_name node_2_name\n",
       "0    6416    2318     protein     protein      MAP2K4        FLNC\n",
       "1    6416    9043     protein     protein      MAP2K4       SPAG9\n",
       "2    6416    5599     protein     protein      MAP2K4       MAPK8\n",
       "3    6416    5871     protein     protein      MAP2K4      MAP4K2\n",
       "4    6416    1326     protein     protein      MAP2K4      MAP3K8"
      ]
     },
     "execution_count": 246,
     "metadata": {},
     "output_type": "execute_result"
    }
   ],
   "source": [
    "df_multiscale_interactome.head()"
   ]
  },
  {
   "cell_type": "code",
   "execution_count": 248,
   "metadata": {},
   "outputs": [
    {
     "data": {
      "text/html": [
       "<div>\n",
       "<style scoped>\n",
       "    .dataframe tbody tr th:only-of-type {\n",
       "        vertical-align: middle;\n",
       "    }\n",
       "\n",
       "    .dataframe tbody tr th {\n",
       "        vertical-align: top;\n",
       "    }\n",
       "\n",
       "    .dataframe thead th {\n",
       "        text-align: right;\n",
       "    }\n",
       "</style>\n",
       "<table border=\"1\" class=\"dataframe\">\n",
       "  <thead>\n",
       "    <tr style=\"text-align: right;\">\n",
       "      <th></th>\n",
       "      <th>protein1</th>\n",
       "      <th>protein2</th>\n",
       "      <th>experimental</th>\n",
       "      <th>database</th>\n",
       "      <th>textmining</th>\n",
       "      <th>combined_score</th>\n",
       "      <th>gene_name_1</th>\n",
       "      <th>gene_name_2</th>\n",
       "    </tr>\n",
       "  </thead>\n",
       "  <tbody>\n",
       "    <tr>\n",
       "      <th>0</th>\n",
       "      <td>9606.ENSP00000000233</td>\n",
       "      <td>9606.ENSP00000264718</td>\n",
       "      <td>157</td>\n",
       "      <td>0</td>\n",
       "      <td>0</td>\n",
       "      <td>156</td>\n",
       "      <td>ARF5</td>\n",
       "      <td>GPN1</td>\n",
       "    </tr>\n",
       "    <tr>\n",
       "      <th>1</th>\n",
       "      <td>9606.ENSP00000000233</td>\n",
       "      <td>9606.ENSP00000346046</td>\n",
       "      <td>178</td>\n",
       "      <td>0</td>\n",
       "      <td>0</td>\n",
       "      <td>177</td>\n",
       "      <td>ARF5</td>\n",
       "      <td>RPS17</td>\n",
       "    </tr>\n",
       "    <tr>\n",
       "      <th>2</th>\n",
       "      <td>9606.ENSP00000000233</td>\n",
       "      <td>9606.ENSP00000347134</td>\n",
       "      <td>143</td>\n",
       "      <td>0</td>\n",
       "      <td>63</td>\n",
       "      <td>162</td>\n",
       "      <td>ARF5</td>\n",
       "      <td>NET1</td>\n",
       "    </tr>\n",
       "    <tr>\n",
       "      <th>3</th>\n",
       "      <td>9606.ENSP00000000233</td>\n",
       "      <td>9606.ENSP00000317469</td>\n",
       "      <td>345</td>\n",
       "      <td>0</td>\n",
       "      <td>92</td>\n",
       "      <td>379</td>\n",
       "      <td>ARF5</td>\n",
       "      <td>BBS1</td>\n",
       "    </tr>\n",
       "    <tr>\n",
       "      <th>4</th>\n",
       "      <td>9606.ENSP00000000233</td>\n",
       "      <td>9606.ENSP00000302393</td>\n",
       "      <td>288</td>\n",
       "      <td>0</td>\n",
       "      <td>0</td>\n",
       "      <td>287</td>\n",
       "      <td>ARF5</td>\n",
       "      <td>LDHAL6B</td>\n",
       "    </tr>\n",
       "  </tbody>\n",
       "</table>\n",
       "</div>"
      ],
      "text/plain": [
       "               protein1              protein2  experimental  database  \\\n",
       "0  9606.ENSP00000000233  9606.ENSP00000264718           157         0   \n",
       "1  9606.ENSP00000000233  9606.ENSP00000346046           178         0   \n",
       "2  9606.ENSP00000000233  9606.ENSP00000347134           143         0   \n",
       "3  9606.ENSP00000000233  9606.ENSP00000317469           345         0   \n",
       "4  9606.ENSP00000000233  9606.ENSP00000302393           288         0   \n",
       "\n",
       "   textmining  combined_score gene_name_1 gene_name_2  \n",
       "0           0             156        ARF5        GPN1  \n",
       "1           0             177        ARF5       RPS17  \n",
       "2          63             162        ARF5        NET1  \n",
       "3          92             379        ARF5        BBS1  \n",
       "4           0             287        ARF5     LDHAL6B  "
      ]
     },
     "execution_count": 248,
     "metadata": {},
     "output_type": "execute_result"
    }
   ],
   "source": [
    "# let's recreate the string starting database with gene names with the same used column names\n",
    "df_example_string = pd.read_csv(\"/home/samuele/GhostFreePro/data_preprocessing_pipeline/artivir_data/df_string_ppi_with_gene_names.zip\")\n",
    "df_example_string.head()"
   ]
  },
  {
   "cell_type": "code",
   "execution_count": 249,
   "metadata": {},
   "outputs": [
    {
     "data": {
      "text/plain": [
       "array(['FLNC', 'SPAG9', 'MAPK8', ..., 'CHRNB2', 'CPN2', nan], dtype=object)"
      ]
     },
     "execution_count": 249,
     "metadata": {},
     "output_type": "execute_result"
    }
   ],
   "source": [
    "df_multiscale_interactome[\"node_2_name\"].values"
   ]
  },
  {
   "cell_type": "code",
   "execution_count": 250,
   "metadata": {},
   "outputs": [
    {
     "data": {
      "text/plain": [
       "0.026825432999088423"
      ]
     },
     "execution_count": 250,
     "metadata": {},
     "output_type": "execute_result"
    }
   ],
   "source": [
    "# percentage nan values links\n",
    "sum(df_example_string[\"gene_name_2\"].values.astype(str) == 'nan')/len(df_example_string[\"gene_name_2\"].values.astype(str))"
   ]
  },
  {
   "cell_type": "code",
   "execution_count": 251,
   "metadata": {},
   "outputs": [
    {
     "data": {
      "text/plain": [
       "0.004852615665615826"
      ]
     },
     "execution_count": 251,
     "metadata": {},
     "output_type": "execute_result"
    }
   ],
   "source": [
    "# percentage nan values links\n",
    "sum(df_multiscale_interactome[\"node_2_name\"].values.astype(str) == 'nan')/len(df_multiscale_interactome[\"node_2_name\"].values.astype(str))"
   ]
  },
  {
   "cell_type": "code",
   "execution_count": 254,
   "metadata": {},
   "outputs": [
    {
     "data": {
      "text/html": [
       "<div>\n",
       "<style scoped>\n",
       "    .dataframe tbody tr th:only-of-type {\n",
       "        vertical-align: middle;\n",
       "    }\n",
       "\n",
       "    .dataframe tbody tr th {\n",
       "        vertical-align: top;\n",
       "    }\n",
       "\n",
       "    .dataframe thead th {\n",
       "        text-align: right;\n",
       "    }\n",
       "</style>\n",
       "<table border=\"1\" class=\"dataframe\">\n",
       "  <thead>\n",
       "    <tr style=\"text-align: right;\">\n",
       "      <th></th>\n",
       "      <th>node_1</th>\n",
       "      <th>node_2</th>\n",
       "      <th>node_1_type</th>\n",
       "      <th>node_2_type</th>\n",
       "      <th>gene_name_1</th>\n",
       "      <th>gene_name_2</th>\n",
       "    </tr>\n",
       "  </thead>\n",
       "  <tbody>\n",
       "    <tr>\n",
       "      <th>0</th>\n",
       "      <td>6416</td>\n",
       "      <td>2318</td>\n",
       "      <td>protein</td>\n",
       "      <td>protein</td>\n",
       "      <td>MAP2K4</td>\n",
       "      <td>FLNC</td>\n",
       "    </tr>\n",
       "    <tr>\n",
       "      <th>1</th>\n",
       "      <td>6416</td>\n",
       "      <td>9043</td>\n",
       "      <td>protein</td>\n",
       "      <td>protein</td>\n",
       "      <td>MAP2K4</td>\n",
       "      <td>SPAG9</td>\n",
       "    </tr>\n",
       "    <tr>\n",
       "      <th>2</th>\n",
       "      <td>6416</td>\n",
       "      <td>5599</td>\n",
       "      <td>protein</td>\n",
       "      <td>protein</td>\n",
       "      <td>MAP2K4</td>\n",
       "      <td>MAPK8</td>\n",
       "    </tr>\n",
       "    <tr>\n",
       "      <th>3</th>\n",
       "      <td>6416</td>\n",
       "      <td>5871</td>\n",
       "      <td>protein</td>\n",
       "      <td>protein</td>\n",
       "      <td>MAP2K4</td>\n",
       "      <td>MAP4K2</td>\n",
       "    </tr>\n",
       "    <tr>\n",
       "      <th>4</th>\n",
       "      <td>6416</td>\n",
       "      <td>1326</td>\n",
       "      <td>protein</td>\n",
       "      <td>protein</td>\n",
       "      <td>MAP2K4</td>\n",
       "      <td>MAP3K8</td>\n",
       "    </tr>\n",
       "  </tbody>\n",
       "</table>\n",
       "</div>"
      ],
      "text/plain": [
       "   node_1  node_2 node_1_type node_2_type gene_name_1 gene_name_2\n",
       "0    6416    2318     protein     protein      MAP2K4        FLNC\n",
       "1    6416    9043     protein     protein      MAP2K4       SPAG9\n",
       "2    6416    5599     protein     protein      MAP2K4       MAPK8\n",
       "3    6416    5871     protein     protein      MAP2K4      MAP4K2\n",
       "4    6416    1326     protein     protein      MAP2K4      MAP3K8"
      ]
     },
     "execution_count": 254,
     "metadata": {},
     "output_type": "execute_result"
    }
   ],
   "source": [
    "df_multiscale_interactome = df_multiscale_interactome.rename({'node_1_name': 'gene_name_1', 'node_2_name': 'gene_name_2'}, axis=1)\n",
    "df_multiscale_interactome.head()"
   ]
  },
  {
   "cell_type": "code",
   "execution_count": 255,
   "metadata": {},
   "outputs": [
    {
     "data": {
      "text/html": [
       "<div>\n",
       "<style scoped>\n",
       "    .dataframe tbody tr th:only-of-type {\n",
       "        vertical-align: middle;\n",
       "    }\n",
       "\n",
       "    .dataframe tbody tr th {\n",
       "        vertical-align: top;\n",
       "    }\n",
       "\n",
       "    .dataframe thead th {\n",
       "        text-align: right;\n",
       "    }\n",
       "</style>\n",
       "<table border=\"1\" class=\"dataframe\">\n",
       "  <thead>\n",
       "    <tr style=\"text-align: right;\">\n",
       "      <th></th>\n",
       "      <th>node_1</th>\n",
       "      <th>node_2</th>\n",
       "      <th>node_1_type</th>\n",
       "      <th>node_2_type</th>\n",
       "      <th>gene_name_1</th>\n",
       "      <th>gene_name_2</th>\n",
       "      <th>experimental</th>\n",
       "    </tr>\n",
       "  </thead>\n",
       "  <tbody>\n",
       "    <tr>\n",
       "      <th>0</th>\n",
       "      <td>6416</td>\n",
       "      <td>2318</td>\n",
       "      <td>protein</td>\n",
       "      <td>protein</td>\n",
       "      <td>MAP2K4</td>\n",
       "      <td>FLNC</td>\n",
       "      <td>1.0</td>\n",
       "    </tr>\n",
       "    <tr>\n",
       "      <th>1</th>\n",
       "      <td>6416</td>\n",
       "      <td>9043</td>\n",
       "      <td>protein</td>\n",
       "      <td>protein</td>\n",
       "      <td>MAP2K4</td>\n",
       "      <td>SPAG9</td>\n",
       "      <td>1.0</td>\n",
       "    </tr>\n",
       "    <tr>\n",
       "      <th>2</th>\n",
       "      <td>6416</td>\n",
       "      <td>5599</td>\n",
       "      <td>protein</td>\n",
       "      <td>protein</td>\n",
       "      <td>MAP2K4</td>\n",
       "      <td>MAPK8</td>\n",
       "      <td>1.0</td>\n",
       "    </tr>\n",
       "    <tr>\n",
       "      <th>3</th>\n",
       "      <td>6416</td>\n",
       "      <td>5871</td>\n",
       "      <td>protein</td>\n",
       "      <td>protein</td>\n",
       "      <td>MAP2K4</td>\n",
       "      <td>MAP4K2</td>\n",
       "      <td>1.0</td>\n",
       "    </tr>\n",
       "    <tr>\n",
       "      <th>4</th>\n",
       "      <td>6416</td>\n",
       "      <td>1326</td>\n",
       "      <td>protein</td>\n",
       "      <td>protein</td>\n",
       "      <td>MAP2K4</td>\n",
       "      <td>MAP3K8</td>\n",
       "      <td>1.0</td>\n",
       "    </tr>\n",
       "  </tbody>\n",
       "</table>\n",
       "</div>"
      ],
      "text/plain": [
       "   node_1  node_2 node_1_type node_2_type gene_name_1 gene_name_2  \\\n",
       "0    6416    2318     protein     protein      MAP2K4        FLNC   \n",
       "1    6416    9043     protein     protein      MAP2K4       SPAG9   \n",
       "2    6416    5599     protein     protein      MAP2K4       MAPK8   \n",
       "3    6416    5871     protein     protein      MAP2K4      MAP4K2   \n",
       "4    6416    1326     protein     protein      MAP2K4      MAP3K8   \n",
       "\n",
       "   experimental  \n",
       "0           1.0  \n",
       "1           1.0  \n",
       "2           1.0  \n",
       "3           1.0  \n",
       "4           1.0  "
      ]
     },
     "execution_count": 255,
     "metadata": {},
     "output_type": "execute_result"
    }
   ],
   "source": [
    "# add experimental columns of all ones\n",
    "df_multiscale_interactome[\"experimental\"] = np.ones(len(df_multiscale_interactome))\n",
    "df_multiscale_interactome.head()"
   ]
  },
  {
   "cell_type": "code",
   "execution_count": 256,
   "metadata": {},
   "outputs": [],
   "source": [
    "df_multiscale_interactome.to_csv(\"/home/samuele/GhostFreePro/data_preprocessing_pipeline/artivir_data/df_multiscale_interactome.zip\", index=False, compression = dict(method='zip',archive_name='df_multiscale_interactome.csv'))"
   ]
  },
  {
   "cell_type": "code",
   "execution_count": null,
   "metadata": {},
   "outputs": [],
   "source": []
  }
 ],
 "metadata": {
  "kernelspec": {
   "display_name": "Python 3 (ipykernel)",
   "language": "python",
   "name": "python3"
  },
  "language_info": {
   "codemirror_mode": {
    "name": "ipython",
    "version": 3
   },
   "file_extension": ".py",
   "mimetype": "text/x-python",
   "name": "python",
   "nbconvert_exporter": "python",
   "pygments_lexer": "ipython3",
   "version": "3.10.9"
  },
  "vscode": {
   "interpreter": {
    "hash": "f538d2fd2bf94073c6bb91393107c0cbcc01df77ad245e3e93e29c1df7680122"
   }
  }
 },
 "nbformat": 4,
 "nbformat_minor": 4
}
