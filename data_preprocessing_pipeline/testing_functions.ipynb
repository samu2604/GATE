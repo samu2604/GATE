{
 "cells": [
  {
   "cell_type": "code",
   "execution_count": 1,
   "id": "691e03db-ad48-4582-8d5b-8e1beb9d0ba9",
   "metadata": {},
   "outputs": [
    {
     "name": "stderr",
     "output_type": "stream",
     "text": [
      "/home/icb/samuele.firmani/miniconda3/envs/pytorch_geometric/lib/python3.7/site-packages/tqdm/auto.py:22: TqdmWarning: IProgress not found. Please update jupyter and ipywidgets. See https://ipywidgets.readthedocs.io/en/stable/user_install.html\n",
      "  from .autonotebook import tqdm as notebook_tqdm\n"
     ]
    }
   ],
   "source": [
    "import numpy as np\n",
    "import pandas as pd\n",
    "import sys, os, h5py\n",
    "sys.path.append(os.path.abspath('/home/icb/samuele.firmani/GhostFreePro/GCN_experiment'))\n",
    "import utils\n",
    "import train"
   ]
  },
  {
   "cell_type": "code",
   "execution_count": 2,
   "id": "bca869c7-58e4-4513-a711-7ba26c9c0618",
   "metadata": {},
   "outputs": [],
   "source": [
    "proteome_multiscale_interactome = \"/lustre/groups/crna01/datasets/arti_vir/input_data_transcriptome_proteome_effectome_2022_12_7_17_22/transcriptome-proteome-effectometranscriptome-proteome-effectome_abs_feature_values_False_are_missing_values_imputed_True_mulstiscale_interactome_imputed.h5\"\n"
   ]
  },
  {
   "cell_type": "markdown",
   "id": "cdd387d3-1376-4290-b734-aeb52a3da09a",
   "metadata": {},
   "source": [
    "# Testing functions"
   ]
  },
  {
   "cell_type": "code",
   "execution_count": 3,
   "id": "7877a303-7cfd-4300-9e13-ac202893b0dd",
   "metadata": {},
   "outputs": [
    {
     "name": "stdout",
     "output_type": "stream",
     "text": [
      "Use all omic layers\n",
      "Features matrix shape torch.Size([13594, 26])\n",
      "Number of node features 26\n"
     ]
    }
   ],
   "source": [
    "data_torch_tensor = train.import_artivir_dataset(proteome_multiscale_interactome, omic_specific_type=\"all\")"
   ]
  },
  {
   "cell_type": "code",
   "execution_count": 4,
   "id": "812befca-20f8-4902-ba68-e7465193324f",
   "metadata": {},
   "outputs": [
    {
     "data": {
      "text/plain": [
       "1.0"
      ]
     },
     "execution_count": 4,
     "metadata": {},
     "output_type": "execute_result"
    }
   ],
   "source": [
    "np.max(data_torch_tensor.edge_weights.tolist())"
   ]
  },
  {
   "cell_type": "code",
   "execution_count": null,
   "id": "05c5207b-930c-4f81-a11c-435c11f34b29",
   "metadata": {},
   "outputs": [],
   "source": [
    "np.sum(data_torch_tensor.train_mask.tolist())"
   ]
  },
  {
   "cell_type": "code",
   "execution_count": null,
   "id": "96ffbe18-f8f3-4a7d-8d68-e1fb06d9f1fc",
   "metadata": {},
   "outputs": [],
   "source": [
    "np.sum(data_torch_tensor.test_mask.tolist())"
   ]
  },
  {
   "cell_type": "code",
   "execution_count": null,
   "id": "9f5d66ff-372e-4db5-8a91-0553da40b600",
   "metadata": {},
   "outputs": [],
   "source": [
    "np.sum(data_torch_tensor.val_mask.tolist())"
   ]
  },
  {
   "cell_type": "code",
   "execution_count": null,
   "id": "7c8fffe5-7df1-406a-94fd-a83c1cc1d88a",
   "metadata": {},
   "outputs": [],
   "source": [
    "np.sum(data_torch_tensor.y[data_torch_tensor.train_mask].tolist())"
   ]
  },
  {
   "cell_type": "code",
   "execution_count": null,
   "id": "9bf19d28-2b7f-4710-84ac-ded080cbe36e",
   "metadata": {},
   "outputs": [],
   "source": [
    "np.sum(data_torch_tensor.y[data_torch_tensor.test_mask].tolist())"
   ]
  },
  {
   "cell_type": "code",
   "execution_count": null,
   "id": "4a6f69cf-9387-4647-86dc-6f2751d4ad95",
   "metadata": {},
   "outputs": [],
   "source": [
    "np.sum(data_torch_tensor.y[data_torch_tensor.val_mask].tolist())"
   ]
  },
  {
   "cell_type": "markdown",
   "id": "f19a5bad-f2ed-44f0-b181-f1c09054c9a8",
   "metadata": {},
   "source": [
    "- test cross validation splits k_fold(...) from utils"
   ]
  },
  {
   "cell_type": "code",
   "execution_count": 3,
   "id": "d3dedd96-2317-4fa5-9f61-0c00c8731323",
   "metadata": {},
   "outputs": [
    {
     "ename": "NameError",
     "evalue": "name 'data_torch_tensor' is not defined",
     "output_type": "error",
     "traceback": [
      "\u001b[0;31m---------------------------------------------------------------------------\u001b[0m",
      "\u001b[0;31mNameError\u001b[0m                                 Traceback (most recent call last)",
      "\u001b[0;32m/tmp/ipykernel_2424071/279103285.py\u001b[0m in \u001b[0;36m<module>\u001b[0;34m\u001b[0m\n\u001b[0;32m----> 1\u001b[0;31m \u001b[0mmask\u001b[0m \u001b[0;34m=\u001b[0m \u001b[0mdata_torch_tensor\u001b[0m\u001b[0;34m.\u001b[0m\u001b[0mtrain_mask\u001b[0m \u001b[0;34m+\u001b[0m \u001b[0mdata_torch_tensor\u001b[0m\u001b[0;34m.\u001b[0m\u001b[0mval_mask\u001b[0m\u001b[0;34m\u001b[0m\u001b[0;34m\u001b[0m\u001b[0m\n\u001b[0m\u001b[1;32m      2\u001b[0m \u001b[0mk_folds\u001b[0m \u001b[0;34m=\u001b[0m \u001b[0mutils\u001b[0m\u001b[0;34m.\u001b[0m\u001b[0mk_fold\u001b[0m\u001b[0;34m(\u001b[0m\u001b[0mmask\u001b[0m\u001b[0;34m,\u001b[0m \u001b[0mdata_torch_tensor\u001b[0m\u001b[0;34m.\u001b[0m\u001b[0my\u001b[0m\u001b[0;34m,\u001b[0m \u001b[0;36m5\u001b[0m\u001b[0;34m)\u001b[0m\u001b[0;34m\u001b[0m\u001b[0;34m\u001b[0m\u001b[0m\n",
      "\u001b[0;31mNameError\u001b[0m: name 'data_torch_tensor' is not defined"
     ]
    }
   ],
   "source": [
    "mask = data_torch_tensor.train_mask + data_torch_tensor.val_mask \n",
    "k_folds = utils.k_fold(mask, data_torch_tensor.y, 5)"
   ]
  },
  {
   "cell_type": "code",
   "execution_count": null,
   "id": "2fdf39e4-e39a-4da8-909f-c68f1ddc4f3b",
   "metadata": {},
   "outputs": [],
   "source": [
    "for cv_index in np.arange(5):\n",
    "    print(f\"number of positives in {cv_index} k-fold split in training set {np.sum(data_torch_tensor.y[k_folds[cv_index][0]].tolist())} on a total of {np.sum(mask[k_folds[cv_index][0]].tolist())} labeled samples\")\n",
    "    print(f\"number of positives in {cv_index} k-fold split in test set {np.sum(data_torch_tensor.y[k_folds[cv_index][1]].tolist())} on a total of {np.sum(mask[k_folds[cv_index][1]].tolist())} labeled samples\")"
   ]
  },
  {
   "cell_type": "markdown",
   "id": "b21dd742-e6ef-4c95-9cf7-5df834716735",
   "metadata": {},
   "source": [
    "### See how to add the viral interactome to the features matrix"
   ]
  },
  {
   "cell_type": "code",
   "execution_count": 7,
   "id": "608fd3fb-d3fa-486f-9b0a-408d578f208b",
   "metadata": {},
   "outputs": [],
   "source": [
    "import importlib\n",
    "import feature_preselection_transcriptome_proteome"
   ]
  },
  {
   "cell_type": "code",
   "execution_count": 6,
   "id": "d97c09eb-3e82-4a86-885b-c5a001892bad",
   "metadata": {},
   "outputs": [
    {
     "data": {
      "text/plain": [
       "<module 'feature_preselection_transcriptome_proteome' from '/home/icb/samuele.firmani/GhostFreePro/data_preprocessing_pipeline/feature_preselection_transcriptome_proteome.py'>"
      ]
     },
     "execution_count": 6,
     "metadata": {},
     "output_type": "execute_result"
    }
   ],
   "source": [
    "importlib.reload(feature_preselection_transcriptome_proteome)"
   ]
  },
  {
   "cell_type": "code",
   "execution_count": 18,
   "id": "2fc5bf64-a99e-44e7-9926-b2c62641c238",
   "metadata": {},
   "outputs": [],
   "source": [
    "artivir_data_dir = \"/lustre/groups/crna01/datasets/arti_vir/\"\n",
    "df_proteomics, df_transcriptomics, df_effectome, df_interactome, genes_for_input_dataset = feature_preselection_transcriptome_proteome.find_detected_genes(\"transcriptome-proteome-effectome-interactome\", artivir_data_dir + \"proteome_cell_lines.zip\",artivir_data_dir + \"transcriptome.zip\", \\\n",
    "                                                        artivir_data_dir + \"effectome.zip\",artivir_data_dir + \"viral_host_interactome.zip\",True)"
   ]
  },
  {
   "cell_type": "code",
   "execution_count": 16,
   "id": "4d731089-20f5-4771-9feb-c4e95587d534",
   "metadata": {},
   "outputs": [
    {
     "data": {
      "text/plain": [
       "13576"
      ]
     },
     "execution_count": 16,
     "metadata": {},
     "output_type": "execute_result"
    }
   ],
   "source": [
    "len(genes_for_input_dataset)"
   ]
  },
  {
   "cell_type": "markdown",
   "id": "931f1097-5b97-4e1f-97b8-13a16243608f",
   "metadata": {},
   "source": [
    "### Read the virus host interactome file"
   ]
  },
  {
   "cell_type": "code",
   "execution_count": 75,
   "id": "a0c2b388-08e8-4d81-9e9d-ce9eafbd576a",
   "metadata": {},
   "outputs": [
    {
     "data": {
      "text/html": [
       "<div>\n",
       "<style scoped>\n",
       "    .dataframe tbody tr th:only-of-type {\n",
       "        vertical-align: middle;\n",
       "    }\n",
       "\n",
       "    .dataframe tbody tr th {\n",
       "        vertical-align: top;\n",
       "    }\n",
       "\n",
       "    .dataframe thead th {\n",
       "        text-align: right;\n",
       "    }\n",
       "</style>\n",
       "<table border=\"1\" class=\"dataframe\">\n",
       "  <thead>\n",
       "    <tr style=\"text-align: right;\">\n",
       "      <th></th>\n",
       "      <th>bait_organism</th>\n",
       "      <th>bait_name</th>\n",
       "      <th>gene_name</th>\n",
       "      <th>protein_description</th>\n",
       "      <th>majority_protein_acs</th>\n",
       "      <th>fold_change_log2</th>\n",
       "      <th>p_value</th>\n",
       "      <th>fold change_threshold</th>\n",
       "    </tr>\n",
       "  </thead>\n",
       "  <tbody>\n",
       "    <tr>\n",
       "      <th>8</th>\n",
       "      <td>SARS-CoV-2</td>\n",
       "      <td>E</td>\n",
       "      <td>ATP6V1B1...</td>\n",
       "      <td>V-type proton ATPase subunit B, kidney isoform...</td>\n",
       "      <td>P15313;P21281</td>\n",
       "      <td>7.188133</td>\n",
       "      <td>1.807074e-04</td>\n",
       "      <td>2</td>\n",
       "    </tr>\n",
       "    <tr>\n",
       "      <th>9</th>\n",
       "      <td>SARS-CoV-2</td>\n",
       "      <td>E</td>\n",
       "      <td>CAAP1</td>\n",
       "      <td>Caspase activity and apoptosis inhibitor 1...</td>\n",
       "      <td>Q9H8G2;Q9H8G2-2</td>\n",
       "      <td>2.207975</td>\n",
       "      <td>1.595611e-13</td>\n",
       "      <td>2</td>\n",
       "    </tr>\n",
       "    <tr>\n",
       "      <th>10</th>\n",
       "      <td>SARS-CoV-2</td>\n",
       "      <td>E</td>\n",
       "      <td>CS</td>\n",
       "      <td>Citrate synthase, mitochondrial</td>\n",
       "      <td>O75390</td>\n",
       "      <td>10.025748</td>\n",
       "      <td>7.507785e-49</td>\n",
       "      <td>2</td>\n",
       "    </tr>\n",
       "    <tr>\n",
       "      <th>11</th>\n",
       "      <td>SARS-CoV-2</td>\n",
       "      <td>E</td>\n",
       "      <td>MDH1</td>\n",
       "      <td>Malate dehydrogenase, cytoplasmic...</td>\n",
       "      <td>P40925;P40925-2;P40925-3</td>\n",
       "      <td>7.884942</td>\n",
       "      <td>2.629954e-05</td>\n",
       "      <td>2</td>\n",
       "    </tr>\n",
       "    <tr>\n",
       "      <th>12</th>\n",
       "      <td>SARS-CoV-2</td>\n",
       "      <td>E</td>\n",
       "      <td>NOP53</td>\n",
       "      <td>Ribosome biogenesis protein NOP53</td>\n",
       "      <td>Q9NZM5</td>\n",
       "      <td>2.108266</td>\n",
       "      <td>5.522225e-23</td>\n",
       "      <td>2</td>\n",
       "    </tr>\n",
       "  </tbody>\n",
       "</table>\n",
       "</div>"
      ],
      "text/plain": [
       "   bait_organism bait_name    gene_name  \\\n",
       "8     SARS-CoV-2         E  ATP6V1B1...   \n",
       "9     SARS-CoV-2         E        CAAP1   \n",
       "10    SARS-CoV-2         E           CS   \n",
       "11    SARS-CoV-2         E         MDH1   \n",
       "12    SARS-CoV-2         E        NOP53   \n",
       "\n",
       "                                  protein_description  \\\n",
       "8   V-type proton ATPase subunit B, kidney isoform...   \n",
       "9       Caspase activity and apoptosis inhibitor 1...   \n",
       "10                    Citrate synthase, mitochondrial   \n",
       "11               Malate dehydrogenase, cytoplasmic...   \n",
       "12                  Ribosome biogenesis protein NOP53   \n",
       "\n",
       "        majority_protein_acs  fold_change_log2       p_value  \\\n",
       "8              P15313;P21281          7.188133  1.807074e-04   \n",
       "9            Q9H8G2;Q9H8G2-2          2.207975  1.595611e-13   \n",
       "10                    O75390         10.025748  7.507785e-49   \n",
       "11  P40925;P40925-2;P40925-3          7.884942  2.629954e-05   \n",
       "12                    Q9NZM5          2.108266  5.522225e-23   \n",
       "\n",
       "    fold change_threshold  \n",
       "8                       2  \n",
       "9                       2  \n",
       "10                      2  \n",
       "11                      2  \n",
       "12                      2  "
      ]
     },
     "execution_count": 75,
     "metadata": {},
     "output_type": "execute_result"
    }
   ],
   "source": [
    "df_interactome_original = pd.read_csv(artivir_data_dir + \"viral_host_interactome.zip\")\n",
    "df_interactome_original = df_interactome_original[df_interactome_original[\"bait_organism\"] == \"SARS-CoV-2\"]\n",
    "df_interactome_original.head()"
   ]
  },
  {
   "cell_type": "code",
   "execution_count": null,
   "id": "52eb8a2f-242b-4d81-8d9b-106b7ec8e6e1",
   "metadata": {},
   "outputs": [
    {
     "data": {
      "text/html": [
       "<div>\n",
       "<style scoped>\n",
       "    .dataframe tbody tr th:only-of-type {\n",
       "        vertical-align: middle;\n",
       "    }\n",
       "\n",
       "    .dataframe tbody tr th {\n",
       "        vertical-align: top;\n",
       "    }\n",
       "\n",
       "    .dataframe thead th {\n",
       "        text-align: right;\n",
       "    }\n",
       "</style>\n",
       "<table border=\"1\" class=\"dataframe\">\n",
       "  <thead>\n",
       "    <tr style=\"text-align: right;\">\n",
       "      <th></th>\n",
       "      <th>bait_organism</th>\n",
       "      <th>bait_name</th>\n",
       "      <th>gene_name</th>\n",
       "      <th>protein_description</th>\n",
       "      <th>majority_protein_acs</th>\n",
       "      <th>fold_change_log2</th>\n",
       "      <th>p_value</th>\n",
       "      <th>fold change_threshold</th>\n",
       "    </tr>\n",
       "  </thead>\n",
       "  <tbody>\n",
       "    <tr>\n",
       "      <th>8</th>\n",
       "      <td>SARS-CoV-2</td>\n",
       "      <td>E</td>\n",
       "      <td>ATP6V1B1</td>\n",
       "      <td>V-type proton ATPase subunit B, kidney isoform...</td>\n",
       "      <td>P15313;P21281</td>\n",
       "      <td>7.188133</td>\n",
       "      <td>1.807074e-04</td>\n",
       "      <td>2</td>\n",
       "    </tr>\n",
       "    <tr>\n",
       "      <th>9</th>\n",
       "      <td>SARS-CoV-2</td>\n",
       "      <td>E</td>\n",
       "      <td>CAAP1</td>\n",
       "      <td>Caspase activity and apoptosis inhibitor 1...</td>\n",
       "      <td>Q9H8G2;Q9H8G2-2</td>\n",
       "      <td>2.207975</td>\n",
       "      <td>1.595611e-13</td>\n",
       "      <td>2</td>\n",
       "    </tr>\n",
       "    <tr>\n",
       "      <th>10</th>\n",
       "      <td>SARS-CoV-2</td>\n",
       "      <td>E</td>\n",
       "      <td>CS</td>\n",
       "      <td>Citrate synthase, mitochondrial</td>\n",
       "      <td>O75390</td>\n",
       "      <td>10.025748</td>\n",
       "      <td>7.507785e-49</td>\n",
       "      <td>2</td>\n",
       "    </tr>\n",
       "    <tr>\n",
       "      <th>11</th>\n",
       "      <td>SARS-CoV-2</td>\n",
       "      <td>E</td>\n",
       "      <td>MDH1</td>\n",
       "      <td>Malate dehydrogenase, cytoplasmic...</td>\n",
       "      <td>P40925;P40925-2;P40925-3</td>\n",
       "      <td>7.884942</td>\n",
       "      <td>2.629954e-05</td>\n",
       "      <td>2</td>\n",
       "    </tr>\n",
       "    <tr>\n",
       "      <th>12</th>\n",
       "      <td>SARS-CoV-2</td>\n",
       "      <td>E</td>\n",
       "      <td>NOP53</td>\n",
       "      <td>Ribosome biogenesis protein NOP53</td>\n",
       "      <td>Q9NZM5</td>\n",
       "      <td>2.108266</td>\n",
       "      <td>5.522225e-23</td>\n",
       "      <td>2</td>\n",
       "    </tr>\n",
       "  </tbody>\n",
       "</table>\n",
       "</div>"
      ],
      "text/plain": [
       "   bait_organism bait_name gene_name  \\\n",
       "8     SARS-CoV-2         E  ATP6V1B1   \n",
       "9     SARS-CoV-2         E     CAAP1   \n",
       "10    SARS-CoV-2         E        CS   \n",
       "11    SARS-CoV-2         E      MDH1   \n",
       "12    SARS-CoV-2         E     NOP53   \n",
       "\n",
       "                                  protein_description  \\\n",
       "8   V-type proton ATPase subunit B, kidney isoform...   \n",
       "9       Caspase activity and apoptosis inhibitor 1...   \n",
       "10                    Citrate synthase, mitochondrial   \n",
       "11               Malate dehydrogenase, cytoplasmic...   \n",
       "12                  Ribosome biogenesis protein NOP53   \n",
       "\n",
       "        majority_protein_acs  fold_change_log2       p_value  \\\n",
       "8              P15313;P21281          7.188133  1.807074e-04   \n",
       "9            Q9H8G2;Q9H8G2-2          2.207975  1.595611e-13   \n",
       "10                    O75390         10.025748  7.507785e-49   \n",
       "11  P40925;P40925-2;P40925-3          7.884942  2.629954e-05   \n",
       "12                    Q9NZM5          2.108266  5.522225e-23   \n",
       "\n",
       "    fold change_threshold  \n",
       "8                       2  \n",
       "9                       2  \n",
       "10                      2  \n",
       "11                      2  \n",
       "12                      2  "
      ]
     },
     "execution_count": 18,
     "metadata": {},
     "output_type": "execute_result"
    }
   ],
   "source": [
    "df_interactome.head()"
   ]
  },
  {
   "cell_type": "code",
   "execution_count": 19,
   "id": "d8f11884-e5d9-43f0-bd1a-dd2c26a80a45",
   "metadata": {},
   "outputs": [
    {
     "data": {
      "text/plain": [
       "0.0009981711396624"
      ]
     },
     "execution_count": 19,
     "metadata": {},
     "output_type": "execute_result"
    }
   ],
   "source": [
    "np.max(df_interactome[\"p_value\"].values)"
   ]
  },
  {
   "cell_type": "code",
   "execution_count": 78,
   "id": "625e9243-8c65-41c2-9b96-c9d8791ac1a0",
   "metadata": {},
   "outputs": [
    {
     "data": {
      "text/plain": [
       "896"
      ]
     },
     "execution_count": 78,
     "metadata": {},
     "output_type": "execute_result"
    }
   ],
   "source": [
    "len(df_interactome[\"gene_name\"].unique())"
   ]
  },
  {
   "cell_type": "markdown",
   "id": "432378bd-bda0-4e89-bf88-617db943dbdd",
   "metadata": {},
   "source": [
    "### Test the ppi network preparation"
   ]
  },
  {
   "cell_type": "code",
   "execution_count": 8,
   "id": "5be42f64-2e61-43fd-b44d-672f6a238f6e",
   "metadata": {},
   "outputs": [],
   "source": [
    "return_detected_genes = lambda: feature_preselection_transcriptome_proteome.find_detected_genes(\"transcriptome-proteome-effectome-interactome\", artivir_data_dir + \"proteome_cell_lines.zip\",artivir_data_dir + \"transcriptome.zip\", \\\n",
    "                                                        artivir_data_dir + \"effectome.zip\",artivir_data_dir + \"viral_host_interactome.zip\",True)"
   ]
  },
  {
   "cell_type": "code",
   "execution_count": 21,
   "id": "1debe31d-6978-44b8-bc34-b3a5fad59026",
   "metadata": {},
   "outputs": [],
   "source": [
    "#df_string_ppi = feature_preselection_transcriptome_proteome.multiomics_ppi_prep(return_detected_genes, \"transcriptome-proteome-effectome\", \"STRING\") "
   ]
  },
  {
   "cell_type": "code",
   "execution_count": 147,
   "id": "74141909-8c3e-44b1-b540-81ef7d2dd99c",
   "metadata": {},
   "outputs": [
    {
     "data": {
      "text/plain": [
       "387626"
      ]
     },
     "execution_count": 147,
     "metadata": {},
     "output_type": "execute_result"
    }
   ],
   "source": [
    "#df_string_ppi.to_csv(artivir_data_dir + 'df_string_ppi_tmp.zip', index=False, compression = dict(method='zip',archive_name='df_string_ppi_tmp.csv'))\n",
    "df_string_ppi = pd.read_csv(artivir_data_dir + 'df_string_ppi_tmp.zip')\n",
    "df_multiscale = pd.read_csv(artivir_data_dir + \"df_multiscale_interactome.zip\")\n",
    "len(df_multiscale)"
   ]
  },
  {
   "cell_type": "code",
   "execution_count": 23,
   "id": "62e9c043-cefa-4475-aef1-c04453029151",
   "metadata": {},
   "outputs": [
    {
     "data": {
      "text/html": [
       "<div>\n",
       "<style scoped>\n",
       "    .dataframe tbody tr th:only-of-type {\n",
       "        vertical-align: middle;\n",
       "    }\n",
       "\n",
       "    .dataframe tbody tr th {\n",
       "        vertical-align: top;\n",
       "    }\n",
       "\n",
       "    .dataframe thead th {\n",
       "        text-align: right;\n",
       "    }\n",
       "</style>\n",
       "<table border=\"1\" class=\"dataframe\">\n",
       "  <thead>\n",
       "    <tr style=\"text-align: right;\">\n",
       "      <th></th>\n",
       "      <th>node_1</th>\n",
       "      <th>node_2</th>\n",
       "      <th>node_1_type</th>\n",
       "      <th>node_2_type</th>\n",
       "      <th>gene_name_1</th>\n",
       "      <th>gene_name_2</th>\n",
       "      <th>experimental</th>\n",
       "    </tr>\n",
       "  </thead>\n",
       "  <tbody>\n",
       "    <tr>\n",
       "      <th>0</th>\n",
       "      <td>6416</td>\n",
       "      <td>2318</td>\n",
       "      <td>protein</td>\n",
       "      <td>protein</td>\n",
       "      <td>MAP2K4</td>\n",
       "      <td>FLNC</td>\n",
       "      <td>1.0</td>\n",
       "    </tr>\n",
       "    <tr>\n",
       "      <th>1</th>\n",
       "      <td>6416</td>\n",
       "      <td>9043</td>\n",
       "      <td>protein</td>\n",
       "      <td>protein</td>\n",
       "      <td>MAP2K4</td>\n",
       "      <td>SPAG9</td>\n",
       "      <td>1.0</td>\n",
       "    </tr>\n",
       "    <tr>\n",
       "      <th>2</th>\n",
       "      <td>6416</td>\n",
       "      <td>5599</td>\n",
       "      <td>protein</td>\n",
       "      <td>protein</td>\n",
       "      <td>MAP2K4</td>\n",
       "      <td>MAPK8</td>\n",
       "      <td>1.0</td>\n",
       "    </tr>\n",
       "    <tr>\n",
       "      <th>3</th>\n",
       "      <td>6416</td>\n",
       "      <td>5871</td>\n",
       "      <td>protein</td>\n",
       "      <td>protein</td>\n",
       "      <td>MAP2K4</td>\n",
       "      <td>MAP4K2</td>\n",
       "      <td>1.0</td>\n",
       "    </tr>\n",
       "    <tr>\n",
       "      <th>4</th>\n",
       "      <td>6416</td>\n",
       "      <td>1326</td>\n",
       "      <td>protein</td>\n",
       "      <td>protein</td>\n",
       "      <td>MAP2K4</td>\n",
       "      <td>MAP3K8</td>\n",
       "      <td>1.0</td>\n",
       "    </tr>\n",
       "  </tbody>\n",
       "</table>\n",
       "</div>"
      ],
      "text/plain": [
       "   node_1  node_2 node_1_type node_2_type gene_name_1 gene_name_2  \\\n",
       "0    6416    2318     protein     protein      MAP2K4        FLNC   \n",
       "1    6416    9043     protein     protein      MAP2K4       SPAG9   \n",
       "2    6416    5599     protein     protein      MAP2K4       MAPK8   \n",
       "3    6416    5871     protein     protein      MAP2K4      MAP4K2   \n",
       "4    6416    1326     protein     protein      MAP2K4      MAP3K8   \n",
       "\n",
       "   experimental  \n",
       "0           1.0  \n",
       "1           1.0  \n",
       "2           1.0  \n",
       "3           1.0  \n",
       "4           1.0  "
      ]
     },
     "execution_count": 23,
     "metadata": {},
     "output_type": "execute_result"
    }
   ],
   "source": [
    "df_multiscale.head()"
   ]
  },
  {
   "cell_type": "code",
   "execution_count": 24,
   "id": "064d6305-601b-4c17-a288-bcc5e281d6bf",
   "metadata": {},
   "outputs": [],
   "source": [
    "df_multiscale = df_multiscale.dropna()"
   ]
  },
  {
   "cell_type": "code",
   "execution_count": 25,
   "id": "14b8a7a7-87c4-4049-8366-e6a664f39897",
   "metadata": {},
   "outputs": [],
   "source": [
    "multiscale_gene_1 = df_multiscale[\"gene_name_1\"].unique()\n",
    "multiscale_gene_2 = df_multiscale[\"gene_name_2\"].unique()"
   ]
  },
  {
   "cell_type": "code",
   "execution_count": 26,
   "id": "8344bf5d-aa9c-4215-bcff-6fcdc4f7d6cf",
   "metadata": {},
   "outputs": [
    {
     "name": "stdout",
     "output_type": "stream",
     "text": [
      "11971\n",
      "17381\n"
     ]
    }
   ],
   "source": [
    "print(len(multiscale_gene_1))\n",
    "print(len(multiscale_gene_2))"
   ]
  },
  {
   "cell_type": "code",
   "execution_count": 27,
   "id": "0cb78835-84ca-4431-82f4-02133b177dad",
   "metadata": {},
   "outputs": [],
   "source": [
    "gene_name_1 = df_multiscale[\"gene_name_1\"].values\n",
    "gene_name_2 = df_multiscale[\"gene_name_2\"].values"
   ]
  },
  {
   "cell_type": "code",
   "execution_count": 28,
   "id": "66f545d2-2723-4473-a3ae-a4b54390c3e5",
   "metadata": {},
   "outputs": [],
   "source": [
    "node_1 = df_multiscale[\"node_1\"].values\n",
    "node_2 = df_multiscale[\"node_2\"].values"
   ]
  },
  {
   "cell_type": "markdown",
   "id": "ad7f383d-e8a9-47f7-8a2f-8154c65f13e9",
   "metadata": {},
   "source": [
    "### Count the total number of connections in the multiscale interactome, considering that it is undirected"
   ]
  },
  {
   "cell_type": "code",
   "execution_count": 29,
   "id": "0b596235-3fec-49af-beb0-f0a68505adde",
   "metadata": {},
   "outputs": [
    {
     "data": {
      "text/plain": [
       "array(['01-Sep', '02-Sep', '04-Sep', ..., 'ZYX', 'ZZEF1', 'ZZZ3'],\n",
       "      dtype=object)"
      ]
     },
     "execution_count": 29,
     "metadata": {},
     "output_type": "execute_result"
    }
   ],
   "source": [
    "np.unique(gene_name_1)"
   ]
  },
  {
   "cell_type": "code",
   "execution_count": 30,
   "id": "f1767245-e718-4e3b-a93c-eb7cde041a92",
   "metadata": {},
   "outputs": [],
   "source": [
    "combinations = np.stack((node_1, node_2), axis=1) "
   ]
  },
  {
   "cell_type": "code",
   "execution_count": 31,
   "id": "37062455-2866-461a-a5c4-fa69bf5afc61",
   "metadata": {},
   "outputs": [
    {
     "data": {
      "text/plain": [
       "array([[  6416,   2318],\n",
       "       [  6416,   9043],\n",
       "       [  6416,   5599],\n",
       "       ...,\n",
       "       [643866,    869],\n",
       "       [  1135,   1141],\n",
       "       [  1369,   1370]])"
      ]
     },
     "execution_count": 31,
     "metadata": {},
     "output_type": "execute_result"
    }
   ],
   "source": [
    "combinations"
   ]
  },
  {
   "cell_type": "code",
   "execution_count": 32,
   "id": "8ba187b7-643c-438a-bb22-91bdf38d6fe8",
   "metadata": {},
   "outputs": [],
   "source": [
    "ordered_combinations = np.array([np.unique(combinations[i]) for i in np.arange(len(combinations))])"
   ]
  },
  {
   "cell_type": "code",
   "execution_count": 33,
   "id": "6b4a7c1e-cc36-4e58-927f-61e108a93c9a",
   "metadata": {},
   "outputs": [
    {
     "data": {
      "text/plain": [
       "385692"
      ]
     },
     "execution_count": 33,
     "metadata": {},
     "output_type": "execute_result"
    }
   ],
   "source": [
    "len(ordered_combinations)"
   ]
  },
  {
   "cell_type": "code",
   "execution_count": 34,
   "id": "8e67154c-9a49-49cd-bbc4-a5a2b2cbfff1",
   "metadata": {},
   "outputs": [],
   "source": [
    "unique_combinations = np.unique(ordered_combinations, axis=0)"
   ]
  },
  {
   "cell_type": "code",
   "execution_count": 35,
   "id": "0d0876f2-ab96-4601-8b3c-070e1a273967",
   "metadata": {},
   "outputs": [
    {
     "name": "stdout",
     "output_type": "stream",
     "text": [
      "Number of undirected edges: 385692\n"
     ]
    }
   ],
   "source": [
    "print(f\"Number of undirected edges: {len(unique_combinations)}\")"
   ]
  },
  {
   "cell_type": "code",
   "execution_count": 36,
   "id": "ff8e3018-5461-437b-a219-7d48b2389190",
   "metadata": {},
   "outputs": [
    {
     "data": {
      "text/html": [
       "<div>\n",
       "<style scoped>\n",
       "    .dataframe tbody tr th:only-of-type {\n",
       "        vertical-align: middle;\n",
       "    }\n",
       "\n",
       "    .dataframe tbody tr th {\n",
       "        vertical-align: top;\n",
       "    }\n",
       "\n",
       "    .dataframe thead th {\n",
       "        text-align: right;\n",
       "    }\n",
       "</style>\n",
       "<table border=\"1\" class=\"dataframe\">\n",
       "  <thead>\n",
       "    <tr style=\"text-align: right;\">\n",
       "      <th></th>\n",
       "      <th>protein1</th>\n",
       "      <th>protein2</th>\n",
       "      <th>experimental</th>\n",
       "      <th>database</th>\n",
       "      <th>textmining</th>\n",
       "      <th>combined_score</th>\n",
       "      <th>gene_name_1</th>\n",
       "      <th>gene_name_2</th>\n",
       "    </tr>\n",
       "  </thead>\n",
       "  <tbody>\n",
       "    <tr>\n",
       "      <th>0</th>\n",
       "      <td>9606.ENSP00000000233</td>\n",
       "      <td>9606.ENSP00000264718</td>\n",
       "      <td>157</td>\n",
       "      <td>0</td>\n",
       "      <td>0</td>\n",
       "      <td>156</td>\n",
       "      <td>ARF5</td>\n",
       "      <td>GPN1</td>\n",
       "    </tr>\n",
       "    <tr>\n",
       "      <th>1</th>\n",
       "      <td>9606.ENSP00000000233</td>\n",
       "      <td>9606.ENSP00000346046</td>\n",
       "      <td>178</td>\n",
       "      <td>0</td>\n",
       "      <td>0</td>\n",
       "      <td>177</td>\n",
       "      <td>ARF5</td>\n",
       "      <td>RPS17</td>\n",
       "    </tr>\n",
       "    <tr>\n",
       "      <th>2</th>\n",
       "      <td>9606.ENSP00000000233</td>\n",
       "      <td>9606.ENSP00000347134</td>\n",
       "      <td>143</td>\n",
       "      <td>0</td>\n",
       "      <td>63</td>\n",
       "      <td>162</td>\n",
       "      <td>ARF5</td>\n",
       "      <td>NET1</td>\n",
       "    </tr>\n",
       "    <tr>\n",
       "      <th>3</th>\n",
       "      <td>9606.ENSP00000000233</td>\n",
       "      <td>9606.ENSP00000354876</td>\n",
       "      <td>153</td>\n",
       "      <td>0</td>\n",
       "      <td>0</td>\n",
       "      <td>152</td>\n",
       "      <td>ARF5</td>\n",
       "      <td>MT-CO2</td>\n",
       "    </tr>\n",
       "    <tr>\n",
       "      <th>4</th>\n",
       "      <td>9606.ENSP00000000233</td>\n",
       "      <td>9606.ENSP00000381607</td>\n",
       "      <td>169</td>\n",
       "      <td>0</td>\n",
       "      <td>0</td>\n",
       "      <td>169</td>\n",
       "      <td>ARF5</td>\n",
       "      <td>GSTP1</td>\n",
       "    </tr>\n",
       "  </tbody>\n",
       "</table>\n",
       "</div>"
      ],
      "text/plain": [
       "               protein1              protein2  experimental  database  \\\n",
       "0  9606.ENSP00000000233  9606.ENSP00000264718           157         0   \n",
       "1  9606.ENSP00000000233  9606.ENSP00000346046           178         0   \n",
       "2  9606.ENSP00000000233  9606.ENSP00000347134           143         0   \n",
       "3  9606.ENSP00000000233  9606.ENSP00000354876           153         0   \n",
       "4  9606.ENSP00000000233  9606.ENSP00000381607           169         0   \n",
       "\n",
       "   textmining  combined_score gene_name_1 gene_name_2  \n",
       "0           0             156        ARF5        GPN1  \n",
       "1           0             177        ARF5       RPS17  \n",
       "2          63             162        ARF5        NET1  \n",
       "3           0             152        ARF5      MT-CO2  \n",
       "4           0             169        ARF5       GSTP1  "
      ]
     },
     "execution_count": 36,
     "metadata": {},
     "output_type": "execute_result"
    }
   ],
   "source": [
    "df_string_ppi.head()"
   ]
  },
  {
   "cell_type": "code",
   "execution_count": 37,
   "id": "5cac5436-99be-4ff0-8535-2cda8665f227",
   "metadata": {},
   "outputs": [],
   "source": [
    "string_gene_1 = df_string_ppi[\"gene_name_1\"].unique()\n",
    "string_gene_2 = df_string_ppi[\"gene_name_2\"].unique()"
   ]
  },
  {
   "cell_type": "code",
   "execution_count": 38,
   "id": "87ae4871-842d-4dd0-a488-dabdff876fb2",
   "metadata": {},
   "outputs": [
    {
     "name": "stdout",
     "output_type": "stream",
     "text": [
      "11171\n",
      "11171\n"
     ]
    }
   ],
   "source": [
    "print(len(string_gene_1))\n",
    "print(len(string_gene_2))"
   ]
  },
  {
   "cell_type": "code",
   "execution_count": null,
   "id": "583aa9a4-893b-4ee5-9b7c-5fc959a395f8",
   "metadata": {},
   "outputs": [
    {
     "name": "stderr",
     "output_type": "stream",
     "text": [
      "Selecting connected genes among genes detected in the data: 100%|███████████████████████████████████████████████████████████████████████████████████████| 13576/13576 [00:04<00:00, 3271.99it/s]\n",
      "Assigning features to connected genes:  74%|█████████████████████████████████████████████████████████████████████████████████▋                             | 8178/11114 [03:23<01:08, 42.78it/s]"
     ]
    }
   ],
   "source": [
    "importlib.reload(feature_preselection_transcriptome_proteome)\n",
    "time_stamp_list = [\".SARS_CoV2@6h_vs_mock@6h\", \".SARS_CoV2@12h_vs_mock@12h\", \".SARS_CoV2@24h_vs_mock@24h\"]\n",
    "\n",
    "viral_proteins_names, import_artivir_dataset, genes_with_imputed_feature_values = feature_preselection_transcriptome_proteome.proteomics_trascriptomics_effectome_interactome_features_prep(time_stamp_list, \n",
    "                                                                                                                              time_stamp_list, False,\n",
    "                                                                                                                              return_detected_genes=return_detected_genes,\n",
    "                                                                                                                              df_ppi = df_multiscale)"
   ]
  },
  {
   "cell_type": "code",
   "execution_count": 51,
   "id": "f35da428-d1eb-4a30-bb68-96964eaffabe",
   "metadata": {
    "tags": []
   },
   "outputs": [
    {
     "data": {
      "text/plain": [
       "11114"
      ]
     },
     "execution_count": 51,
     "metadata": {},
     "output_type": "execute_result"
    }
   ],
   "source": [
    "len(feature_dict.keys())"
   ]
  },
  {
   "cell_type": "code",
   "execution_count": 63,
   "id": "c69159d9-924e-4187-9ef2-a6f82fbae948",
   "metadata": {},
   "outputs": [],
   "source": [
    "connected_genes = np.unique(np.concatenate((df_multiscale[\"gene_name_2\"].values, df_multiscale[\"gene_name_1\"].values), axis=0))"
   ]
  },
  {
   "cell_type": "code",
   "execution_count": 68,
   "id": "27bf23dd-d016-4f38-a779-5bcb66142683",
   "metadata": {},
   "outputs": [
    {
     "data": {
      "text/plain": [
       "11114"
      ]
     },
     "execution_count": 68,
     "metadata": {},
     "output_type": "execute_result"
    }
   ],
   "source": [
    "len(feature_dict.keys())"
   ]
  },
  {
   "cell_type": "code",
   "execution_count": 65,
   "id": "793ebce5-73c8-4ad4-893b-ddc6d435d451",
   "metadata": {},
   "outputs": [],
   "source": [
    "imputed_genes_with_no_connection = []\n",
    "for gene in genes_with_imputed_feature_values:\n",
    "    if gene not in connected_genes:\n",
    "        imputed_genes_with_no_connection.append(gene)"
   ]
  },
  {
   "cell_type": "code",
   "execution_count": 66,
   "id": "1ea9fbbe-23a3-4456-bb50-d94a1580735c",
   "metadata": {},
   "outputs": [
    {
     "name": "stdout",
     "output_type": "stream",
     "text": [
      "number of imputed genes that have no connection 0\n"
     ]
    }
   ],
   "source": [
    "print(f\"number of imputed genes that have no connection {len(imputed_genes_with_no_connection)}\")"
   ]
  },
  {
   "cell_type": "code",
   "execution_count": 69,
   "id": "21325d0e-83f3-4e1e-8e76-9ad69af6bae4",
   "metadata": {},
   "outputs": [],
   "source": [
    "genes_with_features_with_no_connection = []\n",
    "for gene in feature_dict.keys():\n",
    "    if gene not in connected_genes:\n",
    "        genes_with_features_with_no_connection.append(gene)"
   ]
  },
  {
   "cell_type": "code",
   "execution_count": 70,
   "id": "bff0ccbf-4721-42e4-9b74-2abb99070c49",
   "metadata": {},
   "outputs": [
    {
     "name": "stdout",
     "output_type": "stream",
     "text": [
      "total number of genes that have no connection 0\n"
     ]
    }
   ],
   "source": [
    "print(f\"total number of genes that have no connection {len(genes_with_features_with_no_connection)}\")"
   ]
  },
  {
   "cell_type": "code",
   "execution_count": 74,
   "id": "584dd7bf-4338-4a01-b19b-e02a2c546a16",
   "metadata": {},
   "outputs": [
    {
     "data": {
      "text/html": [
       "<div>\n",
       "<style scoped>\n",
       "    .dataframe tbody tr th:only-of-type {\n",
       "        vertical-align: middle;\n",
       "    }\n",
       "\n",
       "    .dataframe tbody tr th {\n",
       "        vertical-align: top;\n",
       "    }\n",
       "\n",
       "    .dataframe thead th {\n",
       "        text-align: right;\n",
       "    }\n",
       "</style>\n",
       "<table border=\"1\" class=\"dataframe\">\n",
       "  <thead>\n",
       "    <tr style=\"text-align: right;\">\n",
       "      <th></th>\n",
       "      <th>bait_organism</th>\n",
       "      <th>bait_name</th>\n",
       "      <th>gene_name</th>\n",
       "      <th>protein_description</th>\n",
       "      <th>majority_protein_acs</th>\n",
       "      <th>fold_change_log2</th>\n",
       "      <th>p_value</th>\n",
       "      <th>fold change_threshold</th>\n",
       "    </tr>\n",
       "  </thead>\n",
       "  <tbody>\n",
       "    <tr>\n",
       "      <th>8</th>\n",
       "      <td>SARS-CoV-2</td>\n",
       "      <td>E</td>\n",
       "      <td>ATP6V1B1</td>\n",
       "      <td>V-type proton ATPase subunit B, kidney isoform...</td>\n",
       "      <td>P15313;P21281</td>\n",
       "      <td>7.188133</td>\n",
       "      <td>1.807074e-04</td>\n",
       "      <td>2</td>\n",
       "    </tr>\n",
       "    <tr>\n",
       "      <th>9</th>\n",
       "      <td>SARS-CoV-2</td>\n",
       "      <td>E</td>\n",
       "      <td>CAAP1</td>\n",
       "      <td>Caspase activity and apoptosis inhibitor 1...</td>\n",
       "      <td>Q9H8G2;Q9H8G2-2</td>\n",
       "      <td>2.207975</td>\n",
       "      <td>1.595611e-13</td>\n",
       "      <td>2</td>\n",
       "    </tr>\n",
       "    <tr>\n",
       "      <th>10</th>\n",
       "      <td>SARS-CoV-2</td>\n",
       "      <td>E</td>\n",
       "      <td>CS</td>\n",
       "      <td>Citrate synthase, mitochondrial</td>\n",
       "      <td>O75390</td>\n",
       "      <td>10.025748</td>\n",
       "      <td>7.507785e-49</td>\n",
       "      <td>2</td>\n",
       "    </tr>\n",
       "    <tr>\n",
       "      <th>11</th>\n",
       "      <td>SARS-CoV-2</td>\n",
       "      <td>E</td>\n",
       "      <td>MDH1</td>\n",
       "      <td>Malate dehydrogenase, cytoplasmic...</td>\n",
       "      <td>P40925;P40925-2;P40925-3</td>\n",
       "      <td>7.884942</td>\n",
       "      <td>2.629954e-05</td>\n",
       "      <td>2</td>\n",
       "    </tr>\n",
       "    <tr>\n",
       "      <th>12</th>\n",
       "      <td>SARS-CoV-2</td>\n",
       "      <td>E</td>\n",
       "      <td>NOP53</td>\n",
       "      <td>Ribosome biogenesis protein NOP53</td>\n",
       "      <td>Q9NZM5</td>\n",
       "      <td>2.108266</td>\n",
       "      <td>5.522225e-23</td>\n",
       "      <td>2</td>\n",
       "    </tr>\n",
       "    <tr>\n",
       "      <th>...</th>\n",
       "      <td>...</td>\n",
       "      <td>...</td>\n",
       "      <td>...</td>\n",
       "      <td>...</td>\n",
       "      <td>...</td>\n",
       "      <td>...</td>\n",
       "      <td>...</td>\n",
       "      <td>...</td>\n",
       "    </tr>\n",
       "    <tr>\n",
       "      <th>1790</th>\n",
       "      <td>SARS-CoV-2</td>\n",
       "      <td>ORF9b</td>\n",
       "      <td>SARS_CoV2_ORF9b</td>\n",
       "      <td>Accessory protein 9b</td>\n",
       "      <td>P0DTD2</td>\n",
       "      <td>18.850882</td>\n",
       "      <td>0.000000e+00</td>\n",
       "      <td>2</td>\n",
       "    </tr>\n",
       "    <tr>\n",
       "      <th>1791</th>\n",
       "      <td>SARS-CoV-2</td>\n",
       "      <td>ORF9b</td>\n",
       "      <td>TOMM70</td>\n",
       "      <td>Mitochondrial import receptor subunit TOM70</td>\n",
       "      <td>O94826</td>\n",
       "      <td>15.669644</td>\n",
       "      <td>3.263133e-05</td>\n",
       "      <td>2</td>\n",
       "    </tr>\n",
       "    <tr>\n",
       "      <th>1794</th>\n",
       "      <td>SARS-CoV-2</td>\n",
       "      <td>S</td>\n",
       "      <td>GOLGA7</td>\n",
       "      <td>Golgin subfamily A member 7...</td>\n",
       "      <td>Q7Z5G4;Q7Z5G4-3</td>\n",
       "      <td>7.566474</td>\n",
       "      <td>1.689030e-04</td>\n",
       "      <td>2</td>\n",
       "    </tr>\n",
       "    <tr>\n",
       "      <th>1795</th>\n",
       "      <td>SARS-CoV-2</td>\n",
       "      <td>S</td>\n",
       "      <td>SARS_CoV2_S</td>\n",
       "      <td>Spike glycoprotein</td>\n",
       "      <td>P0DTC2</td>\n",
       "      <td>17.171125</td>\n",
       "      <td>0.000000e+00</td>\n",
       "      <td>2</td>\n",
       "    </tr>\n",
       "    <tr>\n",
       "      <th>1796</th>\n",
       "      <td>SARS-CoV-2</td>\n",
       "      <td>S</td>\n",
       "      <td>ZDHHC5</td>\n",
       "      <td>Palmitoyltransferase ZDHHC5...</td>\n",
       "      <td>Q9C0B5;Q9C0B5-2</td>\n",
       "      <td>7.446649</td>\n",
       "      <td>7.353729e-06</td>\n",
       "      <td>2</td>\n",
       "    </tr>\n",
       "  </tbody>\n",
       "</table>\n",
       "<p>1114 rows × 8 columns</p>\n",
       "</div>"
      ],
      "text/plain": [
       "     bait_organism bait_name        gene_name  \\\n",
       "8       SARS-CoV-2         E         ATP6V1B1   \n",
       "9       SARS-CoV-2         E            CAAP1   \n",
       "10      SARS-CoV-2         E               CS   \n",
       "11      SARS-CoV-2         E             MDH1   \n",
       "12      SARS-CoV-2         E            NOP53   \n",
       "...            ...       ...              ...   \n",
       "1790    SARS-CoV-2     ORF9b  SARS_CoV2_ORF9b   \n",
       "1791    SARS-CoV-2     ORF9b           TOMM70   \n",
       "1794    SARS-CoV-2         S           GOLGA7   \n",
       "1795    SARS-CoV-2         S      SARS_CoV2_S   \n",
       "1796    SARS-CoV-2         S           ZDHHC5   \n",
       "\n",
       "                                    protein_description  \\\n",
       "8     V-type proton ATPase subunit B, kidney isoform...   \n",
       "9         Caspase activity and apoptosis inhibitor 1...   \n",
       "10                      Citrate synthase, mitochondrial   \n",
       "11                 Malate dehydrogenase, cytoplasmic...   \n",
       "12                    Ribosome biogenesis protein NOP53   \n",
       "...                                                 ...   \n",
       "1790                               Accessory protein 9b   \n",
       "1791        Mitochondrial import receptor subunit TOM70   \n",
       "1794                     Golgin subfamily A member 7...   \n",
       "1795                                 Spike glycoprotein   \n",
       "1796                     Palmitoyltransferase ZDHHC5...   \n",
       "\n",
       "          majority_protein_acs  fold_change_log2       p_value  \\\n",
       "8                P15313;P21281          7.188133  1.807074e-04   \n",
       "9              Q9H8G2;Q9H8G2-2          2.207975  1.595611e-13   \n",
       "10                      O75390         10.025748  7.507785e-49   \n",
       "11    P40925;P40925-2;P40925-3          7.884942  2.629954e-05   \n",
       "12                      Q9NZM5          2.108266  5.522225e-23   \n",
       "...                        ...               ...           ...   \n",
       "1790                    P0DTD2         18.850882  0.000000e+00   \n",
       "1791                    O94826         15.669644  3.263133e-05   \n",
       "1794           Q7Z5G4;Q7Z5G4-3          7.566474  1.689030e-04   \n",
       "1795                    P0DTC2         17.171125  0.000000e+00   \n",
       "1796           Q9C0B5;Q9C0B5-2          7.446649  7.353729e-06   \n",
       "\n",
       "      fold change_threshold  \n",
       "8                         2  \n",
       "9                         2  \n",
       "10                        2  \n",
       "11                        2  \n",
       "12                        2  \n",
       "...                     ...  \n",
       "1790                      2  \n",
       "1791                      2  \n",
       "1794                      2  \n",
       "1795                      2  \n",
       "1796                      2  \n",
       "\n",
       "[1114 rows x 8 columns]"
      ]
     },
     "execution_count": 74,
     "metadata": {},
     "output_type": "execute_result"
    }
   ],
   "source": [
    "df_interactome"
   ]
  },
  {
   "cell_type": "code",
   "execution_count": 81,
   "id": "f9b18d81-ca33-4cce-b5ba-ebe30d514094",
   "metadata": {},
   "outputs": [],
   "source": [
    "p_values = df_interactome[df_interactome[\"gene_name\"] == \"CAV2\"][df_interactome[df_interactome[\"gene_name\"] == \"CAV2\"]['bait_name'] == 'M'][\"p_value\"].values\n",
    "l2fc_values = df_interactome[df_interactome[\"gene_name\"] == \"CAV2\"][df_interactome[df_interactome[\"gene_name\"] == \"CAV2\"]['bait_name'] == 'M'][\"fold_change_log2\"].values"
   ]
  },
  {
   "cell_type": "code",
   "execution_count": 82,
   "id": "12fb28ca-f11e-4cbc-9acd-80f45645b693",
   "metadata": {},
   "outputs": [
    {
     "data": {
      "text/plain": [
       "[10.205852831765041, 8.931359386175576]"
      ]
     },
     "execution_count": 82,
     "metadata": {},
     "output_type": "execute_result"
    }
   ],
   "source": [
    "[feature_preselection_transcriptome_proteome.feature_fold_change_pvalue_combination(l2fc, pval, False) for l2fc, pval in zip(l2fc_values,p_values)]"
   ]
  },
  {
   "cell_type": "code",
   "execution_count": 9,
   "id": "dec9d1b3-448a-4ea1-8d3b-6319354cadbd",
   "metadata": {},
   "outputs": [],
   "source": [
    "import preprocessing_utils"
   ]
  },
  {
   "cell_type": "code",
   "execution_count": 105,
   "id": "76c82531-9a1c-450d-84d3-624e07317d50",
   "metadata": {},
   "outputs": [
    {
     "name": "stdout",
     "output_type": "stream",
     "text": [
      "Create randomized gene list\n",
      "Create adjacency matrix  \n"
     ]
    },
    {
     "name": "stderr",
     "output_type": "stream",
     "text": [
      "100%|█████████████████████████████████████████████████████████████████████████████████████████████████████████████████████████████████████████████████████| 11114/11114 [07:18<00:00, 25.37it/s]\n"
     ]
    },
    {
     "name": "stdout",
     "output_type": "stream",
     "text": [
      "Feature matrix creation\n"
     ]
    }
   ],
   "source": [
    "importlib.reload(preprocessing_utils)\n",
    "network, features, node_names, feat_names, container_data_path = preprocessing_utils.create_adjacency_matrix_and_feature_matrix(df_multiscale, feature_dict, viral_proteins_names, \"transcriptome-proteome-effectome-interactome\", is_debug = False)"
   ]
  },
  {
   "cell_type": "code",
   "execution_count": 113,
   "id": "b1ca3458-1836-4e3f-acb0-d3e4a517d9e7",
   "metadata": {},
   "outputs": [
    {
     "data": {
      "text/plain": [
       "12.0"
      ]
     },
     "execution_count": 113,
     "metadata": {},
     "output_type": "execute_result"
    }
   ],
   "source": [
    "np.sum(network[0])"
   ]
  },
  {
   "cell_type": "code",
   "execution_count": 140,
   "id": "d9a38a08-c89f-46d4-b788-3dca14501189",
   "metadata": {},
   "outputs": [],
   "source": [
    "degrees = []\n",
    "for array in network:\n",
    "    degrees.append(np.sum(array != 0))"
   ]
  },
  {
   "cell_type": "code",
   "execution_count": 145,
   "id": "b65eadc3-964e-43da-bfaa-c64bafe1dc01",
   "metadata": {},
   "outputs": [],
   "source": [
    "degrees = sorted(degrees, reverse=True)"
   ]
  },
  {
   "cell_type": "code",
   "execution_count": 146,
   "id": "d0d17652-f535-4e24-8944-3035a01369bb",
   "metadata": {},
   "outputs": [],
   "source": [
    "x = np.arange(len(degrees))"
   ]
  },
  {
   "cell_type": "code",
   "execution_count": 5,
   "id": "bf18b07b-6102-4cd4-ad46-770b40a2873a",
   "metadata": {},
   "outputs": [],
   "source": [
    "import matplotlib.pyplot as plt"
   ]
  },
  {
   "cell_type": "code",
   "execution_count": 152,
   "id": "96b9fe50-8a41-4e1b-98c2-7a2d6cc82eb0",
   "metadata": {
    "collapsed": true,
    "jupyter": {
     "outputs_hidden": true
    },
    "tags": []
   },
   "outputs": [
    {
     "data": {
      "image/png": "[encoded data removed]",
      "text/plain": [
       "<Figure size 3200x3200 with 1 Axes>"
      ]
     },
     "metadata": {},
     "output_type": "display_data"
    }
   ],
   "source": [
    "plt.figure(figsize=(32,32))\n",
    "plt.bar(x, degrees)\n",
    "plt.title(\"Degree plot\")\n",
    "plt.show()"
   ]
  },
  {
   "cell_type": "code",
   "execution_count": 106,
   "id": "7b5a8b69-70b2-4261-8223-77380891004e",
   "metadata": {},
   "outputs": [
    {
     "data": {
      "text/plain": [
       "PosixPath('/lustre/groups/crna01/datasets/arti_vir/input_data_transcriptome_proteome_effectome_effectome_2023_1_31_17_27')"
      ]
     },
     "execution_count": 106,
     "metadata": {},
     "output_type": "execute_result"
    }
   ],
   "source": [
    "container_data_path"
   ]
  },
  {
   "cell_type": "code",
   "execution_count": 149,
   "id": "9e6e1084-fc5b-4dca-ae68-14e68c899c5a",
   "metadata": {},
   "outputs": [
    {
     "data": {
      "text/plain": [
       "577258"
      ]
     },
     "execution_count": 149,
     "metadata": {},
     "output_type": "execute_result"
    }
   ],
   "source": [
    "np.sum(network != 0)"
   ]
  },
  {
   "cell_type": "code",
   "execution_count": 150,
   "id": "1090597d-4a27-42b1-a5bf-dae0cb1d3b41",
   "metadata": {},
   "outputs": [
    {
     "data": {
      "text/plain": [
       "50"
      ]
     },
     "execution_count": 150,
     "metadata": {},
     "output_type": "execute_result"
    }
   ],
   "source": [
    "len(features[0])"
   ]
  },
  {
   "cell_type": "code",
   "execution_count": 151,
   "id": "6a09194f-74d5-4625-bc22-18ce8004ad90",
   "metadata": {},
   "outputs": [
    {
     "data": {
      "text/plain": [
       "54"
      ]
     },
     "execution_count": 151,
     "metadata": {},
     "output_type": "execute_result"
    }
   ],
   "source": [
    "len(feature_dict['A2M'])"
   ]
  },
  {
   "cell_type": "code",
   "execution_count": 49,
   "id": "0c726285-538a-4784-a8b7-a346eec62b8b",
   "metadata": {},
   "outputs": [
    {
     "data": {
      "text/plain": [
       "array([-7.15243573e-05, -1.84378434e-04, -1.36141334e-04, -3.92388224e-04,\n",
       "       -8.51573889e-05, -4.98548297e-06,  3.31816584e-04, -9.40856737e-05,\n",
       "        2.17032979e-04,  1.35316579e-04, -1.31152322e-04, -2.56015135e-04,\n",
       "        9.51523992e-05, -7.19261779e-04, -2.02022739e-04, -3.75215248e-04,\n",
       "        2.35545363e-05,  4.64950876e-05,  3.00862186e-04,  4.23025182e-05,\n",
       "        1.56647123e-04, -2.10733352e-05,  3.72450842e-04])"
      ]
     },
     "execution_count": 49,
     "metadata": {},
     "output_type": "execute_result"
    }
   ],
   "source": [
    "features[0][-24:-1]"
   ]
  },
  {
   "cell_type": "markdown",
   "id": "87b40bdc-7123-49d0-a540-e7e40eaeadb2",
   "metadata": {},
   "source": [
    "### Model Testing, dropout edges"
   ]
  },
  {
   "cell_type": "code",
   "execution_count": 10,
   "id": "90242dc5-14d9-4550-9bba-e49a95604881",
   "metadata": {},
   "outputs": [],
   "source": [
    "import importlib\n",
    "import preprocessing_utils\n",
    "import feature_preselection_transcriptome_proteome"
   ]
  },
  {
   "cell_type": "code",
   "execution_count": 11,
   "id": "1330cc82-b372-4b5e-bea9-78b4bb341736",
   "metadata": {},
   "outputs": [
    {
     "data": {
      "text/plain": [
       "<module 'feature_preselection_transcriptome_proteome' from '/home/icb/samuele.firmani/GhostFreePro/data_preprocessing_pipeline/feature_preselection_transcriptome_proteome.py'>"
      ]
     },
     "execution_count": 11,
     "metadata": {},
     "output_type": "execute_result"
    }
   ],
   "source": [
    "importlib.reload(preprocessing_utils)\n",
    "importlib.reload(feature_preselection_transcriptome_proteome)"
   ]
  },
  {
   "cell_type": "code",
   "execution_count": 12,
   "id": "c4778e6d-a4db-4b4d-bc3b-342525f17e1f",
   "metadata": {},
   "outputs": [],
   "source": [
    "import models, dropout"
   ]
  },
  {
   "cell_type": "code",
   "execution_count": 8,
   "id": "e19029eb-e8bf-4ffb-843b-33a26b44f3dc",
   "metadata": {},
   "outputs": [
    {
     "data": {
      "text/plain": [
       "<module 'dropout' from '/home/icb/samuele.firmani/GhostFreePro/GCN_experiment/dropout.py'>"
      ]
     },
     "execution_count": 8,
     "metadata": {},
     "output_type": "execute_result"
    }
   ],
   "source": [
    "importlib.reload(utils)\n",
    "#importlib.reload(train)\n",
    "importlib.reload(models)\n",
    "importlib.reload(dropout)"
   ]
  },
  {
   "cell_type": "code",
   "execution_count": 20,
   "id": "3e2bded6-bf8e-4c2e-916f-4a03334ab7e1",
   "metadata": {},
   "outputs": [
    {
     "name": "stdout",
     "output_type": "stream",
     "text": [
      "Use all omic layers\n",
      "Features matrix shape torch.Size([11040, 50])\n"
     ]
    }
   ],
   "source": [
    "data_multiscale = train.import_artivir_dataset(\"/lustre/groups/crna01/datasets/arti_vir/input_data_transcriptome_proteome_effectome_interactome_2023_1_31_18_42/transcriptome-proteome-effectome-interactometranscriptome-proteome-effectome-interactome_abs_feature_values_False_are_missing_values_imputed_True_mulstiscale_interactome_imputed.h5\", \"all\")"
   ]
  },
  {
   "cell_type": "code",
   "execution_count": 14,
   "id": "2a42cc32-e251-4c58-a589-4545c0a716a5",
   "metadata": {},
   "outputs": [
    {
     "name": "stdout",
     "output_type": "stream",
     "text": [
      "Use all omic layers\n",
      "Features matrix shape torch.Size([11171, 50])\n"
     ]
    }
   ],
   "source": [
    "data_string = train.import_artivir_dataset(\"/lustre/groups/crna01/datasets/arti_vir/input_data_transcriptome_proteome_effectome_interactome_2023_2_2_12_11/transcriptome-proteome-effectome-interactometranscriptome-proteome-effectome-interactome_abs_feature_values_False_are_missing_values_imputed_True_STRING_imputed.h5\", \"all\")"
   ]
  },
  {
   "cell_type": "code",
   "execution_count": 8,
   "id": "578ac86f-543f-44d9-9bf3-cdfa2a636d51",
   "metadata": {},
   "outputs": [],
   "source": [
    "from utils import load_hdf_data"
   ]
  },
  {
   "cell_type": "code",
   "execution_count": 50,
   "id": "f185203a-ba01-4b80-b16b-d1d58d4f908e",
   "metadata": {},
   "outputs": [],
   "source": [
    "raw_data_multiscale = utils.load_hdf_data(\"/lustre/groups/crna01/datasets/arti_vir/input_data_transcriptome_proteome_effectome_interactome_2023_1_31_18_42/transcriptome-proteome-effectome-interactometranscriptome-proteome-effectome-interactome_abs_feature_values_False_are_missing_values_imputed_True_mulstiscale_interactome_imputed.h5\")"
   ]
  },
  {
   "cell_type": "code",
   "execution_count": 51,
   "id": "50fe5695-da84-4af0-901d-a190db22c473",
   "metadata": {},
   "outputs": [],
   "source": [
    "network, features, y_train, y_val, y_test, train_mask, val_mask, test_mask, node_names, feat_names = raw_data_multiscale"
   ]
  },
  {
   "cell_type": "code",
   "execution_count": 58,
   "id": "3cab36d2-2776-4c47-9591-6d3982a2e85e",
   "metadata": {},
   "outputs": [
    {
     "data": {
      "text/plain": [
       "array([[-8.97606671e-02, -8.73884696e-02, -1.79252844e+00, ...,\n",
       "         5.10049390e-04, -2.32858794e-04,  1.36309196e-04],\n",
       "       [-2.82915995e-01,  1.53622768e-01, -2.16121287e-02, ...,\n",
       "         1.15759660e-04,  4.76922561e-05,  7.28549164e-05],\n",
       "       [ 2.07692345e-01,  1.89997609e-01, -8.64068467e-01, ...,\n",
       "        -5.75945819e-05, -2.91736629e-04, -4.44878208e-05],\n",
       "       ...,\n",
       "       [-9.49600206e-02,  2.97172727e-01,  9.13779415e-01, ...,\n",
       "        -2.94870787e-05,  2.84273788e-04,  1.36699519e-04],\n",
       "       [ 1.79110564e-01,  1.09114553e-01,  7.87520876e-02, ...,\n",
       "        -1.44567445e-04,  2.53916817e-04,  2.48468172e-04],\n",
       "       [ 3.59665592e-01,  1.22461115e-01,  4.51229279e-01, ...,\n",
       "         2.78523188e-04, -4.33414094e-05,  4.28888790e-05]])"
      ]
     },
     "execution_count": 58,
     "metadata": {},
     "output_type": "execute_result"
    }
   ],
   "source": [
    "features"
   ]
  },
  {
   "cell_type": "code",
   "execution_count": 53,
   "id": "5495cd47-605b-4f2e-aa72-5e4abee3a841",
   "metadata": {},
   "outputs": [
    {
     "data": {
      "text/plain": [
       "(11040, 1)"
      ]
     },
     "execution_count": 53,
     "metadata": {},
     "output_type": "execute_result"
    }
   ],
   "source": [
    "np.shape(features[:,0:1])"
   ]
  },
  {
   "cell_type": "code",
   "execution_count": 57,
   "id": "0050df40-6cdf-4277-97f9-a7670adb363b",
   "metadata": {},
   "outputs": [],
   "source": [
    "np.random.shuffle(features)"
   ]
  },
  {
   "cell_type": "code",
   "execution_count": 45,
   "id": "f5539ea2-ab1d-49d4-b328-3aaaff569195",
   "metadata": {},
   "outputs": [
    {
     "data": {
      "text/plain": [
       "numpy.ndarray"
      ]
     },
     "execution_count": 45,
     "metadata": {},
     "output_type": "execute_result"
    }
   ],
   "source": [
    "type(features[:,0:1])"
   ]
  },
  {
   "cell_type": "code",
   "execution_count": 42,
   "id": "bca10486-7e99-4302-a54e-dd750f3c7821",
   "metadata": {},
   "outputs": [
    {
     "data": {
      "text/plain": [
       "(11040, 1)"
      ]
     },
     "execution_count": 42,
     "metadata": {},
     "output_type": "execute_result"
    }
   ],
   "source": [
    "np.shape(features[:,1:2])"
   ]
  },
  {
   "cell_type": "code",
   "execution_count": 37,
   "id": "9750981e-22ae-4b2d-871a-266902d8bc4b",
   "metadata": {},
   "outputs": [
    {
     "data": {
      "text/plain": [
       "(11040, 24)"
      ]
     },
     "execution_count": 37,
     "metadata": {},
     "output_type": "execute_result"
    }
   ],
   "source": [
    "np.shape(features[:,2:26])"
   ]
  },
  {
   "cell_type": "code",
   "execution_count": 39,
   "id": "a0ba8881-ae38-4eda-9df4-f6843240c8cd",
   "metadata": {},
   "outputs": [
    {
     "data": {
      "text/plain": [
       "(11040, 24)"
      ]
     },
     "execution_count": 39,
     "metadata": {},
     "output_type": "execute_result"
    }
   ],
   "source": [
    "np.shape(features[:,26:50])"
   ]
  },
  {
   "cell_type": "code",
   "execution_count": 13,
   "id": "1c915296-e40c-4139-b380-e50db2c99f89",
   "metadata": {},
   "outputs": [
    {
     "data": {
      "text/plain": [
       "Data(edge_index=[2, 1076998], edge_weights=[1076998], x=[11171, 50], y=[11171], train_mask=[11171], test_mask=[11171], val_mask=[11171], num_node_features=50)"
      ]
     },
     "execution_count": 13,
     "metadata": {},
     "output_type": "execute_result"
    }
   ],
   "source": [
    "data_string"
   ]
  },
  {
   "cell_type": "code",
   "execution_count": 14,
   "id": "6dbd8a49-281b-4837-ad58-96819de4c2c4",
   "metadata": {},
   "outputs": [
    {
     "data": {
      "text/plain": [
       "Data(edge_index=[2, 577258], edge_weights=[577258], x=[11040, 50], y=[11040], train_mask=[11040], test_mask=[11040], val_mask=[11040], num_node_features=50)"
      ]
     },
     "execution_count": 14,
     "metadata": {},
     "output_type": "execute_result"
    }
   ],
   "source": [
    "data_multiscale"
   ]
  },
  {
   "cell_type": "code",
   "execution_count": 14,
   "id": "3a3c251f-a8ad-4244-89ab-f802178d0d7a",
   "metadata": {},
   "outputs": [
    {
     "data": {
      "text/plain": [
       "torch.Size([11040, 50])"
      ]
     },
     "execution_count": 14,
     "metadata": {},
     "output_type": "execute_result"
    }
   ],
   "source": [
    "data_multiscale.x.size()"
   ]
  },
  {
   "cell_type": "code",
   "execution_count": 13,
   "id": "80262691-7ae1-4680-9b42-19c2fe088a68",
   "metadata": {},
   "outputs": [
    {
     "data": {
      "text/plain": [
       "torch.Size([11171, 50])"
      ]
     },
     "execution_count": 13,
     "metadata": {},
     "output_type": "execute_result"
    }
   ],
   "source": [
    "data_string.x.size()"
   ]
  },
  {
   "cell_type": "code",
   "execution_count": 18,
   "id": "96e7d39a-5ee0-4254-b85b-954825bea187",
   "metadata": {},
   "outputs": [
    {
     "data": {
      "text/plain": [
       "tensor([[-6.5824e-02,  5.6316e-02, -9.8554e-02,  ..., -1.9263e-04,\n",
       "         -1.5616e-04, -6.9960e-04],\n",
       "        [ 5.8445e-02, -6.5545e-01,  5.5571e-01,  ..., -1.9164e-04,\n",
       "          5.0174e-04, -1.0325e-04],\n",
       "        [-4.1737e-01, -5.8481e-02, -1.6943e-01,  ...,  4.2142e-04,\n",
       "         -6.9509e-04,  1.6275e-04],\n",
       "        ...,\n",
       "        [ 2.2245e-01, -1.1073e-01,  2.7193e-01,  ..., -2.7900e-04,\n",
       "         -7.5796e-05,  1.7955e-04],\n",
       "        [-5.3680e-02,  2.9871e-01,  3.1936e-02,  ...,  8.3029e+00,\n",
       "         -5.6659e-04,  8.4219e-05],\n",
       "        [-1.1760e+00,  1.2655e-02, -1.7465e-01,  ..., -2.3180e-04,\n",
       "         -1.3039e-04, -2.9266e-04]])"
      ]
     },
     "execution_count": 18,
     "metadata": {},
     "output_type": "execute_result"
    }
   ],
   "source": [
    "data_string.x"
   ]
  },
  {
   "cell_type": "code",
   "execution_count": null,
   "id": "1c040836-bbf4-44f9-bdcb-46a1b1f4a826",
   "metadata": {},
   "outputs": [],
   "source": [
    "# transcriptome\n",
    "data_string.x[:, 0:1]"
   ]
  },
  {
   "cell_type": "code",
   "execution_count": 20,
   "id": "ed32de0a-e568-49a2-8029-6d9cdd494d17",
   "metadata": {},
   "outputs": [
    {
     "data": {
      "text/plain": [
       "tensor([[ 0.0563],\n",
       "        [-0.6554],\n",
       "        [-0.0585],\n",
       "        ...,\n",
       "        [-0.1107],\n",
       "        [ 0.2987],\n",
       "        [ 0.0127]])"
      ]
     },
     "execution_count": 20,
     "metadata": {},
     "output_type": "execute_result"
    }
   ],
   "source": [
    "# proteome\n",
    "data_string.x[:, 1:2]"
   ]
  },
  {
   "cell_type": "code",
   "execution_count": null,
   "id": "3d0e9535-240b-4fc9-a421-780cc28a780a",
   "metadata": {},
   "outputs": [],
   "source": [
    "data_string.x[:, 1:2]"
   ]
  },
  {
   "cell_type": "code",
   "execution_count": null,
   "id": "0bb98b58-6cc7-48fe-b830-649a1ae209a4",
   "metadata": {},
   "outputs": [],
   "source": [
    "dropout.dropout_edge(data.edge_index)"
   ]
  },
  {
   "cell_type": "code",
   "execution_count": null,
   "id": "16a5693b-f1ca-43e8-a241-87c564c80a7e",
   "metadata": {},
   "outputs": [],
   "source": [
    "import torch\n",
    "edge_index = torch.tensor([[0, 1, 1, 2, 2, 3],\n",
    "                           [1, 0, 2, 1, 3, 2]])"
   ]
  },
  {
   "cell_type": "code",
   "execution_count": 22,
   "id": "53d2ec21-35fc-4a5f-8198-78281f360855",
   "metadata": {},
   "outputs": [
    {
     "data": {
      "text/plain": [
       "tensor([[0, 1],\n",
       "        [1, 0],\n",
       "        [1, 2],\n",
       "        [2, 1],\n",
       "        [2, 3],\n",
       "        [3, 2]])"
      ]
     },
     "execution_count": 22,
     "metadata": {},
     "output_type": "execute_result"
    }
   ],
   "source": [
    "edge_index.t()"
   ]
  },
  {
   "cell_type": "code",
   "execution_count": 26,
   "id": "75b4e9d6-193f-4e4c-9790-03cdcfeb90c7",
   "metadata": {},
   "outputs": [
    {
     "data": {
      "text/plain": [
       "tensor([1, 0, 2, 1, 3, 2])"
      ]
     },
     "execution_count": 26,
     "metadata": {},
     "output_type": "execute_result"
    }
   ],
   "source": [
    "edge_index.t()[:,1]"
   ]
  },
  {
   "cell_type": "code",
   "execution_count": 29,
   "id": "7a185b71-1e4e-4a70-aa16-72764d960818",
   "metadata": {},
   "outputs": [
    {
     "data": {
      "text/plain": [
       "tensor([0, 0, 1, 0, 1, 1])"
      ]
     },
     "execution_count": 29,
     "metadata": {},
     "output_type": "execute_result"
    }
   ],
   "source": [
    "torch.where(edge_index.t()[:,1] > 1, 1, 0)"
   ]
  },
  {
   "cell_type": "code",
   "execution_count": 13,
   "id": "b06fc1bb-55ec-4d4f-a8fb-8d0a5ba13657",
   "metadata": {},
   "outputs": [
    {
     "data": {
      "text/plain": [
       "tensor([5, 4])"
      ]
     },
     "execution_count": 13,
     "metadata": {},
     "output_type": "execute_result"
    }
   ],
   "source": [
    "edge_index.argmax(dim=1)"
   ]
  },
  {
   "cell_type": "code",
   "execution_count": 28,
   "id": "8889c865-dc6f-4806-a141-32f9e17ff4a5",
   "metadata": {},
   "outputs": [],
   "source": [
    "edge_index, edge_mask = dropout.dropout_edge(edge_index, p=0.25)"
   ]
  },
  {
   "cell_type": "code",
   "execution_count": 29,
   "id": "8d2d4eb1-5634-4979-8506-9e9cf1f9108a",
   "metadata": {},
   "outputs": [
    {
     "data": {
      "text/plain": [
       "tensor([[0, 1, 2, 2],\n",
       "        [1, 0, 1, 3]])"
      ]
     },
     "execution_count": 29,
     "metadata": {},
     "output_type": "execute_result"
    }
   ],
   "source": [
    "edge_index"
   ]
  },
  {
   "cell_type": "code",
   "execution_count": 30,
   "id": "5e68749d-c7ee-41b9-a445-7846b8ca8133",
   "metadata": {},
   "outputs": [
    {
     "data": {
      "text/plain": [
       "tensor([ True,  True, False,  True,  True, False])"
      ]
     },
     "execution_count": 30,
     "metadata": {},
     "output_type": "execute_result"
    }
   ],
   "source": [
    "edge_mask"
   ]
  },
  {
   "cell_type": "code",
   "execution_count": 33,
   "id": "9f4f58eb-ad8d-44e0-9b94-182fe2a72a5b",
   "metadata": {},
   "outputs": [],
   "source": [
    "edge_index, edge_id = dropout.dropout_edge(edge_index,\n",
    "                                    force_undirected=True)"
   ]
  },
  {
   "cell_type": "code",
   "execution_count": 34,
   "id": "820e3567-acb2-4ac3-b31c-eaf5757441d8",
   "metadata": {},
   "outputs": [
    {
     "data": {
      "text/plain": [
       "tensor([[1, 2, 2, 3],\n",
       "        [2, 3, 1, 2]])"
      ]
     },
     "execution_count": 34,
     "metadata": {},
     "output_type": "execute_result"
    }
   ],
   "source": [
    "edge_index"
   ]
  },
  {
   "cell_type": "code",
   "execution_count": 35,
   "id": "659f6f5f-ea33-4bf3-9b69-4f3dae69794f",
   "metadata": {},
   "outputs": [
    {
     "data": {
      "text/plain": [
       "tensor([2, 4, 2, 4])"
      ]
     },
     "execution_count": 35,
     "metadata": {},
     "output_type": "execute_result"
    }
   ],
   "source": [
    "edge_id"
   ]
  },
  {
   "cell_type": "code",
   "execution_count": 37,
   "id": "88ab34d7-3f7c-4bc4-9031-9d76268efdda",
   "metadata": {},
   "outputs": [
    {
     "data": {
      "text/plain": [
       "tensor([1., 1., 1.,  ..., 1., 1., 1.])"
      ]
     },
     "execution_count": 37,
     "metadata": {},
     "output_type": "execute_result"
    }
   ],
   "source": [
    "data.edge_weights"
   ]
  },
  {
   "cell_type": "markdown",
   "id": "71449ce8-12b2-42b6-ac7a-3817e18dc22d",
   "metadata": {},
   "source": [
    "### Test edge dropout on real data"
   ]
  },
  {
   "cell_type": "code",
   "execution_count": 21,
   "id": "b30b594e-f4a6-4e0a-b9fb-74b410dd37e0",
   "metadata": {},
   "outputs": [],
   "source": [
    "# multiscale gene list\n",
    "container_data_path = \"/lustre/groups/crna01/datasets/arti_vir/input_data_transcriptome_proteome_effectome_interactome_2023_1_31_18_42/\"\n",
    "randomized_gene_list = np.genfromtxt( container_data_path + \"randomized_gene_list.txt\", dtype=str)"
   ]
  },
  {
   "cell_type": "code",
   "execution_count": 22,
   "id": "07ace20a-32d6-4634-83bd-242e9076de65",
   "metadata": {},
   "outputs": [
    {
     "data": {
      "text/plain": [
       "11040"
      ]
     },
     "execution_count": 22,
     "metadata": {},
     "output_type": "execute_result"
    }
   ],
   "source": [
    "len(randomized_gene_list)"
   ]
  },
  {
   "cell_type": "code",
   "execution_count": 23,
   "id": "46301e9f-2773-463b-8c1c-e3e19ebfe985",
   "metadata": {},
   "outputs": [
    {
     "data": {
      "text/plain": [
       "198"
      ]
     },
     "execution_count": 23,
     "metadata": {},
     "output_type": "execute_result"
    }
   ],
   "source": [
    "positive_host_factors = np.load(artivir_data_dir + \"strong_functionally_validated_host_factors.npy\")\n",
    "len(positive_host_factors)"
   ]
  },
  {
   "cell_type": "code",
   "execution_count": 24,
   "id": "36445399-e0a4-465d-9bcf-7d6139996b0b",
   "metadata": {},
   "outputs": [
    {
     "data": {
      "text/plain": [
       "array(['AAGAB', 'ACE2', 'ACTR2', 'ACTR3', 'ADAM9', 'ADAR', 'ALG11',\n",
       "       'AP1B1', 'AP1G1', 'APOL1', 'ARF5', 'ARF6', 'ARID1A', 'ARPC3',\n",
       "       'ARPC4', 'ATP6AP1', 'ATP6V1A', 'ATP8B1', 'ATP8B1 ', 'ATXN2L',\n",
       "       'AXL', 'BAX', 'BCS1L', 'BECN1', 'BMPR1A', 'BRD2', 'BRD4', 'BSG',\n",
       "       'BZW2', 'C16orf62', 'C18orf8', 'CCDC22', 'CCDC53', 'CCDC93',\n",
       "       'CCT2', 'CCZ1', 'CCZ1B', 'CDKN2B', 'CHUK', 'CLEC4G', 'CLIP4',\n",
       "       'CNOT4', 'CNTRL', 'COMMD10', 'COMMD2', 'COMMD3', 'COMMD3-BMI1',\n",
       "       'COMMD4', 'COMMD5', 'COMMD7', 'COMMD8', 'CSDE1', 'CTSL', 'CXCL5',\n",
       "       'DCAKD', 'DDX1', 'DDX42', 'DDX5', 'DNMT1', 'DPF2', 'DPH5',\n",
       "       'DYRK1A', 'ECSIT', 'EDC4', 'EEF1A1', 'EIF3D', 'ELOB', 'EMC1',\n",
       "       'EP300', 'ERGIC1', 'ERP44', 'ETFA', 'EWSR1', 'EXOC2', 'EXOC6',\n",
       "       'EXOC8', 'EXT1', 'FAM120A', 'FASTKD5', 'FBXO27', 'FBXO33', 'FKBP8',\n",
       "       'GNB1', 'GOLGA2', 'HDAC9', 'HMGB1', 'HMOX1', 'HNRNPA2B1', 'HNRNPC',\n",
       "       'HNRNPH1', 'HNRNPK', 'HNRNPU', 'HNRNPUL2', 'HSPA4', 'IGF2BP1',\n",
       "       'IL17RA', 'ILF3', 'INO80E', 'JMJD6', 'KDM6A', 'KIAA0196',\n",
       "       'KIAA1033', 'KMT2C', 'LDLRAD3', 'LMAN2', 'MAT2B', 'MBTPS1',\n",
       "       'MBTPS2', 'MEX3B', 'MINAR1', 'MIPOL1', 'MOGS', 'MRPS2', 'MRPS25',\n",
       "       'MRPS27', 'MRPS5', 'NDST1', 'NDUFAF2', 'NDUFB9', 'NFE2', 'NGDN',\n",
       "       'NPC1', 'NPC2', 'NRIP1', 'NRP1', 'NUP62', 'OS9', 'OSBPL9', 'PA2G4',\n",
       "       'PCBD1', 'PCNT', 'PHF6', 'PIGO', 'PIGS', 'PIK3C3', 'PIK3R4',\n",
       "       'POLA1', 'PPIL3', 'PPT1', 'PTBP2', 'PTGES2', 'QKI', 'RAB10',\n",
       "       'RAB14', 'RAB18', 'RAB1A', 'RAB2A', 'RAB5C', 'RAB7A', 'RAD54L2',\n",
       "       'RBM28', 'RIPK4', 'SAAL1', 'SCAP', 'SCARB1', 'SEPSECS', 'SFPQ',\n",
       "       'SIAH1', 'SIGMAR1', 'SIL1', 'SIRT5', 'SLC9A3R1', 'SMAD3',\n",
       "       'SMARCA4', 'SMARCE1', 'SND1', 'SNX27', 'SREBF1', 'SREBF2', 'SRSF3',\n",
       "       'TAPT1', 'TFE3', 'TIA1', 'TMEM106B', 'TMEM165', 'TMEM30A',\n",
       "       'TMEM41B', 'TMPRSS13', 'TMPRSS2', 'TOMM70', 'TOR1AIP1', 'TP73',\n",
       "       'TRIM4', 'TRIM59', 'UBAP2L', 'UBXN7', 'VAC14', 'VPS11', 'VPS16',\n",
       "       'VPS29', 'VPS35', 'VPS39', 'WASHC4', 'WDR81', 'WDR91', 'XRCC5',\n",
       "       'ZC3H18', 'ZYG11B'], dtype='<U11')"
      ]
     },
     "execution_count": 24,
     "metadata": {},
     "output_type": "execute_result"
    }
   ],
   "source": [
    "data_multiscale"
   ]
  },
  {
   "cell_type": "code",
   "execution_count": 26,
   "id": "e9ae2600-36b3-4cee-a5e2-734905bc1a08",
   "metadata": {},
   "outputs": [
    {
     "data": {
      "text/plain": [
       "11040"
      ]
     },
     "execution_count": 26,
     "metadata": {},
     "output_type": "execute_result"
    }
   ],
   "source": [
    "len(randomized_gene_list)"
   ]
  },
  {
   "cell_type": "code",
   "execution_count": 58,
   "id": "05dd285e-0bf5-41b6-a80e-2fbe2e01baf0",
   "metadata": {},
   "outputs": [],
   "source": [
    "proteomics_tensor = data_multiscale.x[:, 1].numpy()"
   ]
  },
  {
   "cell_type": "code",
   "execution_count": 36,
   "id": "d27c150a-13fe-4b7b-a366-5f96dd85e7e2",
   "metadata": {},
   "outputs": [],
   "source": [
    "mask = data_multiscale.train_mask + data_multiscale.val_mask + data_multiscale.test_mask"
   ]
  },
  {
   "cell_type": "code",
   "execution_count": 41,
   "id": "464e270b-68d4-446c-bbaa-0f19f6cd966d",
   "metadata": {},
   "outputs": [
    {
     "data": {
      "text/plain": [
       "tensor(182)"
      ]
     },
     "execution_count": 41,
     "metadata": {},
     "output_type": "execute_result"
    }
   ],
   "source": [
    "data_multiscale.y.sum()"
   ]
  },
  {
   "cell_type": "code",
   "execution_count": 45,
   "id": "3438945a-260e-4ccf-8d06-b1bb141d8769",
   "metadata": {},
   "outputs": [],
   "source": [
    "positive_set = randomized_gene_list[np.where(data_multiscale.y.numpy() == 1)]"
   ]
  },
  {
   "cell_type": "code",
   "execution_count": 53,
   "id": "f4dc0543-b288-4307-8ca2-d958bac9fb3b",
   "metadata": {},
   "outputs": [],
   "source": [
    "negatives = (mask.numpy() - data_multiscale.y.numpy())"
   ]
  },
  {
   "cell_type": "code",
   "execution_count": 54,
   "id": "c5eeef5a-8c29-4211-ae86-360adbba3592",
   "metadata": {},
   "outputs": [],
   "source": [
    "negatives_set = randomized_gene_list[np.where(negatives == 1)]"
   ]
  },
  {
   "cell_type": "code",
   "execution_count": 61,
   "id": "323c3c2e-4340-4884-9c51-862d49ec2d68",
   "metadata": {},
   "outputs": [],
   "source": [
    "proteomics_positives = proteomics_tensor[np.where(data_multiscale.y.numpy() == 1)]"
   ]
  },
  {
   "cell_type": "code",
   "execution_count": 62,
   "id": "ffe6c50b-fa3a-4313-b2e4-542fc1112483",
   "metadata": {},
   "outputs": [],
   "source": [
    "proteomics_negatives = proteomics_tensor[np.where(negatives == 1)]"
   ]
  },
  {
   "cell_type": "code",
   "execution_count": 74,
   "id": "0d66fe23-da82-4e0e-996c-26eb74d0db70",
   "metadata": {},
   "outputs": [
    {
     "data": {
      "image/png": "[encoded data removed]",
      "text/plain": [
       "<Figure size 1400x1400 with 1 Axes>"
      ]
     },
     "metadata": {},
     "output_type": "display_data"
    }
   ],
   "source": [
    "bins = np.linspace(-3, 3, 70)\n",
    "\n",
    "plt.figure(figsize=(14, 14))\n",
    "plt.hist(proteomics_positives, bins, alpha=0.5, label='positives', density = True)\n",
    "plt.hist(proteomics_negatives, bins, alpha=0.5, label='negatives', density = True)\n",
    "plt.legend(loc='upper right')\n",
    "plt.title(\"Proteomics feature at 24h after the infection\")\n",
    "plt.show()"
   ]
  },
  {
   "cell_type": "code",
   "execution_count": 22,
   "id": "a4267c32-20cc-45db-85da-d8d20b67e768",
   "metadata": {},
   "outputs": [],
   "source": [
    "# check if the host factors are correctly selected\n",
    "indices_of_positives = []\n",
    "for item in positive_host_factors:\n",
    "    if len(np.where(randomized_gene_list == item)[0]) > 0:\n",
    "        indices_of_positives.append(np.where(randomized_gene_list == item)[0][0])\n",
    "indices_of_positives = np.array(indices_of_positives)       "
   ]
  },
  {
   "cell_type": "code",
   "execution_count": 34,
   "id": "6f35cbc3-dd71-4ce5-b13b-3b20fe08fc21",
   "metadata": {},
   "outputs": [
    {
     "data": {
      "text/plain": [
       "tensor(182)"
      ]
     },
     "execution_count": 34,
     "metadata": {},
     "output_type": "execute_result"
    }
   ],
   "source": [
    "sum(data_multiscale.y)"
   ]
  },
  {
   "cell_type": "code",
   "execution_count": 24,
   "id": "fb11feec-b71f-497c-9a66-f7c6b9481504",
   "metadata": {},
   "outputs": [
    {
     "data": {
      "text/plain": [
       "182"
      ]
     },
     "execution_count": 24,
     "metadata": {},
     "output_type": "execute_result"
    }
   ],
   "source": [
    "len(indices_of_positives)"
   ]
  },
  {
   "cell_type": "code",
   "execution_count": 35,
   "id": "5d1105ca-c6b6-4862-9557-b3d0c01dadb9",
   "metadata": {},
   "outputs": [],
   "source": [
    "positives_recorded_in_data = randomized_gene_list[data_multiscale.y.bool().numpy()]"
   ]
  },
  {
   "cell_type": "code",
   "execution_count": 36,
   "id": "b12d9c4f-6d9e-4a9b-baa7-aa5c17d376dc",
   "metadata": {},
   "outputs": [],
   "source": [
    "for gene in positives_recorded_in_data:\n",
    "    if gene not in positive_host_factors:\n",
    "        print(gene)"
   ]
  },
  {
   "cell_type": "code",
   "execution_count": 37,
   "id": "86ecc034-28c0-4e2e-98c9-2ca986a671ac",
   "metadata": {},
   "outputs": [],
   "source": [
    "edge_index, edge_mask = dropout.dropout_edge(data_multiscale.edge_index, p=0.25)"
   ]
  },
  {
   "cell_type": "code",
   "execution_count": 38,
   "id": "9d6fd575-1a64-40ea-b9c5-441880a646c9",
   "metadata": {},
   "outputs": [
    {
     "data": {
      "text/plain": [
       "tensor([[    0,     0,     0,  ..., 11039, 11039, 11039],\n",
       "        [  562,   880,  1455,  ..., 10986, 10997, 11026]])"
      ]
     },
     "execution_count": 38,
     "metadata": {},
     "output_type": "execute_result"
    }
   ],
   "source": [
    "edge_index"
   ]
  },
  {
   "cell_type": "code",
   "execution_count": 39,
   "id": "13fd893d-9ce1-4320-b047-4e4cf490f7f5",
   "metadata": {},
   "outputs": [
    {
     "data": {
      "text/plain": [
       "tensor([True, True, True,  ..., True, True, True])"
      ]
     },
     "execution_count": 39,
     "metadata": {},
     "output_type": "execute_result"
    }
   ],
   "source": [
    "edge_mask"
   ]
  },
  {
   "cell_type": "code",
   "execution_count": 40,
   "id": "d3d610a3-5ad6-49d1-a587-ab651007bef8",
   "metadata": {},
   "outputs": [
    {
     "data": {
      "text/plain": [
       "torch.Size([577258])"
      ]
     },
     "execution_count": 40,
     "metadata": {},
     "output_type": "execute_result"
    }
   ],
   "source": [
    "data_multiscale.edge_weights.size()"
   ]
  },
  {
   "cell_type": "code",
   "execution_count": 41,
   "id": "2bf9e25f-e68d-40c5-bf3c-11f6df200e56",
   "metadata": {},
   "outputs": [
    {
     "data": {
      "text/plain": [
       "torch.Size([2, 433048])"
      ]
     },
     "execution_count": 41,
     "metadata": {},
     "output_type": "execute_result"
    }
   ],
   "source": [
    "edge_index.size()"
   ]
  },
  {
   "cell_type": "code",
   "execution_count": 42,
   "id": "eb91a05a-83b8-41ff-a97c-49341ec5d8b3",
   "metadata": {},
   "outputs": [
    {
     "data": {
      "text/plain": [
       "torch.Size([577258])"
      ]
     },
     "execution_count": 42,
     "metadata": {},
     "output_type": "execute_result"
    }
   ],
   "source": [
    "edge_mask.size()"
   ]
  },
  {
   "cell_type": "code",
   "execution_count": 43,
   "id": "490cd3c0-86f3-4e2e-a4aa-cf8767515cd7",
   "metadata": {},
   "outputs": [
    {
     "data": {
      "text/plain": [
       "433048"
      ]
     },
     "execution_count": 43,
     "metadata": {},
     "output_type": "execute_result"
    }
   ],
   "source": [
    "len(data_multiscale.edge_weights[edge_mask])"
   ]
  },
  {
   "cell_type": "markdown",
   "id": "46a0391c-262c-4d6d-9651-dc95284537de",
   "metadata": {},
   "source": [
    "### Let's see how the positives are positional encoded with respect to the negatives in the Multiscale PPI"
   ]
  },
  {
   "cell_type": "code",
   "execution_count": null,
   "id": "5343e2c2-bfda-40f1-ab0f-dad04454adbb",
   "metadata": {},
   "outputs": [],
   "source": [
    "total_mask = data_multiscale.train_mask.numpy() + data_multiscale.test_mask.numpy() + data_multiscale.val_mask.numpy() "
   ]
  },
  {
   "cell_type": "code",
   "execution_count": 45,
   "id": "dc4a1d9c-6438-44a0-b826-10c4344e8afb",
   "metadata": {},
   "outputs": [
    {
     "data": {
      "text/plain": [
       "728"
      ]
     },
     "execution_count": 45,
     "metadata": {},
     "output_type": "execute_result"
    }
   ],
   "source": [
    "np.sum(total_mask)"
   ]
  },
  {
   "cell_type": "code",
   "execution_count": 46,
   "id": "858e7923-c510-40cd-ba38-45e8e6e27552",
   "metadata": {},
   "outputs": [
    {
     "data": {
      "text/plain": [
       "546"
      ]
     },
     "execution_count": 46,
     "metadata": {},
     "output_type": "execute_result"
    }
   ],
   "source": [
    "negative_mask = total_mask - data_multiscale.y.numpy()\n",
    "np.sum(negative_mask)"
   ]
  },
  {
   "cell_type": "code",
   "execution_count": 47,
   "id": "992f3e61-f30e-48dd-8dfe-e91a7aa3e92e",
   "metadata": {},
   "outputs": [],
   "source": [
    "positive_mask = data_multiscale.y.numpy()"
   ]
  },
  {
   "cell_type": "code",
   "execution_count": 48,
   "id": "6baafd06-be09-4d81-98ab-2ac6003618ec",
   "metadata": {},
   "outputs": [],
   "source": [
    "nor_positive_nor_negative_mask = np.ones(len(positive_mask)) - positive_mask - negative_mask"
   ]
  },
  {
   "cell_type": "code",
   "execution_count": 49,
   "id": "6a30ff56-8be7-4359-8902-109f6ccd16fb",
   "metadata": {},
   "outputs": [
    {
     "data": {
      "text/plain": [
       "torch.Size([11040, 50])"
      ]
     },
     "execution_count": 49,
     "metadata": {},
     "output_type": "execute_result"
    }
   ],
   "source": [
    "data.x.size()"
   ]
  },
  {
   "cell_type": "code",
   "execution_count": 13,
   "id": "98786a7e-0cdc-4c8e-a0fe-8c6e9898e8a7",
   "metadata": {},
   "outputs": [],
   "source": [
    "import os.path as osp\n",
    "import sys\n",
    "\n",
    "import matplotlib.pyplot as plt\n",
    "import torch\n",
    "from sklearn.manifold import TSNE\n",
    "\n",
    "from torch_geometric.nn import Node2Vec"
   ]
  },
  {
   "cell_type": "code",
   "execution_count": 14,
   "id": "ed08e2b9-4eb1-42c4-aeef-7f0bfd93cb10",
   "metadata": {},
   "outputs": [],
   "source": [
    "import networkx as nx\n",
    "from torch_geometric.utils import to_networkx"
   ]
  },
  {
   "cell_type": "code",
   "execution_count": 53,
   "id": "052bf4ce-588f-4623-88c5-a03fb40fd737",
   "metadata": {},
   "outputs": [],
   "source": [
    "nx_network = to_networkx(data_multiscale, to_undirected=True)"
   ]
  },
  {
   "cell_type": "code",
   "execution_count": 54,
   "id": "95e06d66-160c-483b-a9cc-cf0d2e0f1cf9",
   "metadata": {},
   "outputs": [
    {
     "data": {
      "text/plain": [
       "2"
      ]
     },
     "execution_count": 54,
     "metadata": {},
     "output_type": "execute_result"
    }
   ],
   "source": [
    "nx.number_connected_components(nx_network)"
   ]
  },
  {
   "cell_type": "code",
   "execution_count": 55,
   "id": "d5a1c6f9-ddc2-4f62-ba89-b6e2976107b8",
   "metadata": {},
   "outputs": [
    {
     "data": {
      "text/plain": [
       "[{5657, 5968}]"
      ]
     },
     "execution_count": 55,
     "metadata": {},
     "output_type": "execute_result"
    }
   ],
   "source": [
    "[c for c in sorted(nx.connected_components(nx_network), key=len, reverse=True)][1:]"
   ]
  },
  {
   "cell_type": "code",
   "execution_count": 56,
   "id": "705ae402-ecb4-4edf-ba87-2e92b28d547f",
   "metadata": {},
   "outputs": [],
   "source": [
    "disconnected_ids = [5657, 5968]\n",
    "for disconnected_id in disconnected_ids:\n",
    "    nx_network.remove_node(disconnected_id)"
   ]
  },
  {
   "cell_type": "code",
   "execution_count": 100,
   "id": "ead1eb90-a82a-48f9-87a0-cfee3c4d40b5",
   "metadata": {},
   "outputs": [
    {
     "data": {
      "text/plain": [
       "7"
      ]
     },
     "execution_count": 100,
     "metadata": {},
     "output_type": "execute_result"
    }
   ],
   "source": [
    "#nx.diameter(nx_network)"
   ]
  },
  {
   "cell_type": "code",
   "execution_count": 57,
   "id": "2fd9e92e-8d77-4994-b210-e895798df64c",
   "metadata": {
    "collapsed": true,
    "jupyter": {
     "outputs_hidden": true
    },
    "tags": []
   },
   "outputs": [
    {
     "name": "stdout",
     "output_type": "stream",
     "text": [
      "Epoch: 01, Loss: 2.9613\n",
      "Epoch: 02, Loss: 2.2243\n",
      "Epoch: 03, Loss: 1.8229\n",
      "Epoch: 04, Loss: 1.6001\n",
      "Epoch: 05, Loss: 1.4404\n",
      "Epoch: 06, Loss: 1.3323\n",
      "Epoch: 07, Loss: 1.2745\n",
      "Epoch: 08, Loss: 1.2428\n",
      "Epoch: 09, Loss: 1.2222\n",
      "Epoch: 10, Loss: 1.2081\n",
      "Epoch: 11, Loss: 1.1969\n",
      "Epoch: 12, Loss: 1.1875\n",
      "Epoch: 13, Loss: 1.1769\n",
      "Epoch: 14, Loss: 1.1685\n",
      "Epoch: 15, Loss: 1.1622\n",
      "Epoch: 16, Loss: 1.1553\n",
      "Epoch: 17, Loss: 1.1501\n",
      "Epoch: 18, Loss: 1.1454\n",
      "Epoch: 19, Loss: 1.1411\n",
      "Epoch: 20, Loss: 1.1384\n",
      "Epoch: 21, Loss: 1.1344\n",
      "Epoch: 22, Loss: 1.1326\n",
      "Epoch: 23, Loss: 1.1301\n",
      "Epoch: 24, Loss: 1.1271\n",
      "Epoch: 25, Loss: 1.1255\n",
      "Epoch: 26, Loss: 1.1241\n",
      "Epoch: 27, Loss: 1.1220\n",
      "Epoch: 28, Loss: 1.1213\n",
      "Epoch: 29, Loss: 1.1202\n",
      "Epoch: 30, Loss: 1.1193\n",
      "Epoch: 31, Loss: 1.1182\n",
      "Epoch: 32, Loss: 1.1171\n",
      "Epoch: 33, Loss: 1.1165\n",
      "Epoch: 34, Loss: 1.1170\n",
      "Epoch: 35, Loss: 1.1157\n",
      "Epoch: 36, Loss: 1.1140\n",
      "Epoch: 37, Loss: 1.1144\n",
      "Epoch: 38, Loss: 1.1128\n",
      "Epoch: 39, Loss: 1.1127\n",
      "Epoch: 40, Loss: 1.1129\n",
      "Epoch: 41, Loss: 1.1110\n",
      "Epoch: 42, Loss: 1.1103\n",
      "Epoch: 43, Loss: 1.1110\n",
      "Epoch: 44, Loss: 1.1114\n",
      "Epoch: 45, Loss: 1.1105\n",
      "Epoch: 46, Loss: 1.1099\n",
      "Epoch: 47, Loss: 1.1093\n",
      "Epoch: 48, Loss: 1.1097\n",
      "Epoch: 49, Loss: 1.1087\n",
      "Epoch: 50, Loss: 1.1101\n",
      "Epoch: 51, Loss: 1.1090\n",
      "Epoch: 52, Loss: 1.1078\n",
      "Epoch: 53, Loss: 1.1084\n",
      "Epoch: 54, Loss: 1.1077\n",
      "Epoch: 55, Loss: 1.1066\n",
      "Epoch: 56, Loss: 1.1069\n",
      "Epoch: 57, Loss: 1.1067\n",
      "Epoch: 58, Loss: 1.1071\n",
      "Epoch: 59, Loss: 1.1073\n",
      "Epoch: 60, Loss: 1.1064\n",
      "Epoch: 61, Loss: 1.1071\n",
      "Epoch: 62, Loss: 1.1058\n",
      "Epoch: 63, Loss: 1.1064\n",
      "Epoch: 64, Loss: 1.1061\n",
      "Epoch: 65, Loss: 1.1056\n",
      "Epoch: 66, Loss: 1.1067\n",
      "Epoch: 67, Loss: 1.1060\n",
      "Epoch: 68, Loss: 1.1063\n",
      "Epoch: 69, Loss: 1.1055\n",
      "Epoch: 70, Loss: 1.1056\n",
      "Epoch: 71, Loss: 1.1062\n",
      "Epoch: 72, Loss: 1.1053\n",
      "Epoch: 73, Loss: 1.1056\n",
      "Epoch: 74, Loss: 1.1054\n",
      "Epoch: 75, Loss: 1.1049\n",
      "Epoch: 76, Loss: 1.1033\n",
      "Epoch: 77, Loss: 1.1056\n",
      "Epoch: 78, Loss: 1.1057\n",
      "Epoch: 79, Loss: 1.1046\n",
      "Epoch: 80, Loss: 1.1034\n",
      "Epoch: 81, Loss: 1.1050\n",
      "Epoch: 82, Loss: 1.1047\n",
      "Epoch: 83, Loss: 1.1036\n",
      "Epoch: 84, Loss: 1.1029\n",
      "Epoch: 85, Loss: 1.1050\n",
      "Epoch: 86, Loss: 1.1047\n",
      "Epoch: 87, Loss: 1.1041\n",
      "Epoch: 88, Loss: 1.1043\n",
      "Epoch: 89, Loss: 1.1037\n",
      "Epoch: 90, Loss: 1.1036\n",
      "Epoch: 91, Loss: 1.1032\n",
      "Epoch: 92, Loss: 1.1044\n",
      "Epoch: 93, Loss: 1.1023\n",
      "Epoch: 94, Loss: 1.1041\n",
      "Epoch: 95, Loss: 1.1030\n",
      "Epoch: 96, Loss: 1.1040\n",
      "Epoch: 97, Loss: 1.1027\n",
      "Epoch: 98, Loss: 1.1038\n",
      "Epoch: 99, Loss: 1.1028\n"
     ]
    }
   ],
   "source": [
    "device = 'cuda' if torch.cuda.is_available() else 'cpu'\n",
    "model = Node2Vec(data_multiscale.edge_index, embedding_dim=16, walk_length=6, context_size=4, walks_per_node=10, num_negative_samples=1, p=1, q=1, sparse=True).to(device)\n",
    "\n",
    "num_workers = 0 if sys.platform.startswith('win') else 4\n",
    "loader = model.loader(batch_size=128, shuffle=True, num_workers=num_workers)\n",
    "optimizer = torch.optim.SparseAdam(list(model.parameters()), lr=0.01)\n",
    "\n",
    "def train():\n",
    "    model.train()\n",
    "    total_loss = 0\n",
    "    for pos_rw, neg_rw in loader:\n",
    "        optimizer.zero_grad()\n",
    "        loss = model.loss(pos_rw.to(device), neg_rw.to(device))\n",
    "        loss.backward()\n",
    "        optimizer.step()\n",
    "        total_loss += loss.item()\n",
    "    return total_loss / len(loader)\n",
    "\n",
    "\n",
    "for epoch in range(1, 100):\n",
    "    loss = train()\n",
    "    print(f'Epoch: {epoch:02d}, Loss: {loss:.4f}')"
   ]
  },
  {
   "cell_type": "code",
   "execution_count": 58,
   "id": "b498407d-caa6-4172-8548-f0f0bc3ea75b",
   "metadata": {},
   "outputs": [
    {
     "data": {
      "text/plain": [
       "Node2Vec(11040, 16)"
      ]
     },
     "execution_count": 58,
     "metadata": {},
     "output_type": "execute_result"
    }
   ],
   "source": [
    "model.eval()"
   ]
  },
  {
   "cell_type": "code",
   "execution_count": 59,
   "id": "9582113b-a7a3-445b-8ed7-ab376f5086d2",
   "metadata": {},
   "outputs": [
    {
     "name": "stderr",
     "output_type": "stream",
     "text": [
      "/home/icb/samuele.firmani/miniconda3/envs/pytorch_geometric/lib/python3.7/site-packages/sklearn/manifold/_t_sne.py:783: FutureWarning: The default initialization in TSNE will change from 'random' to 'pca' in 1.2.\n",
      "  FutureWarning,\n",
      "/home/icb/samuele.firmani/miniconda3/envs/pytorch_geometric/lib/python3.7/site-packages/sklearn/manifold/_t_sne.py:793: FutureWarning: The default learning rate in TSNE will change from 200.0 to 'auto' in 1.2.\n",
      "  FutureWarning,\n"
     ]
    }
   ],
   "source": [
    "z = TSNE(n_components=2).fit_transform(model(torch.arange(data_multiscale.num_nodes, device=device)).detach().cpu().numpy())"
   ]
  },
  {
   "cell_type": "code",
   "execution_count": 60,
   "id": "495d7ed8-1e6c-434b-906d-1ea782972bf4",
   "metadata": {},
   "outputs": [
    {
     "data": {
      "text/plain": [
       "(11040, 2)"
      ]
     },
     "execution_count": 60,
     "metadata": {},
     "output_type": "execute_result"
    }
   ],
   "source": [
    "np.shape(z)"
   ]
  },
  {
   "cell_type": "code",
   "execution_count": 32,
   "id": "ce5d02b2-4b83-4a38-aecc-28460a1378a9",
   "metadata": {},
   "outputs": [],
   "source": [
    "import numpy.ma as ma"
   ]
  },
  {
   "cell_type": "code",
   "execution_count": 61,
   "id": "dec130f9-f269-4e9c-9044-8d8a8bbf543b",
   "metadata": {},
   "outputs": [],
   "source": [
    "negative_mask_reduced = np.array([element if index < len(negative_mask)/3 else 0 for index, element in enumerate(negative_mask)] )"
   ]
  },
  {
   "cell_type": "code",
   "execution_count": 62,
   "id": "99764b6e-d83c-4aa3-8475-cd389f79de91",
   "metadata": {},
   "outputs": [
    {
     "data": {
      "text/plain": [
       "206"
      ]
     },
     "execution_count": 62,
     "metadata": {},
     "output_type": "execute_result"
    }
   ],
   "source": [
    "np.sum(negative_mask_reduced)"
   ]
  },
  {
   "cell_type": "code",
   "execution_count": 64,
   "id": "a7d533f9-0c24-4136-a709-79162661d795",
   "metadata": {
    "tags": []
   },
   "outputs": [
    {
     "data": {
      "image/png": "[encoded data removed]",
      "text/plain": [
       "<Figure size 1600x1600 with 1 Axes>"
      ]
     },
     "metadata": {},
     "output_type": "display_data"
    }
   ],
   "source": [
    "colors = ['b', 'r', 'g']\n",
    "\n",
    "plt.figure(figsize=(16, 16))\n",
    "plt.scatter(z[nor_positive_nor_negative_mask.astype(bool), 0], z[nor_positive_nor_negative_mask.astype(bool), 1], s=2, color=colors[1])\n",
    "plt.scatter(z[positive_mask.astype(bool), 0], z[positive_mask.astype(bool), 1], s=20, color=colors[0], label=\"Positive genes\")\n",
    "plt.scatter(z[negative_mask_reduced.astype(bool), 0], z[negative_mask_reduced.astype(bool), 1], s=20, color=colors[2], label=\"Negative genes\")\n",
    "plt.legend(scatterpoints=1)\n",
    "plt.axis('off')\n",
    "plt.show()"
   ]
  },
  {
   "cell_type": "markdown",
   "id": "0a8e3f91-c1ac-4f17-b226-881713e745b2",
   "metadata": {},
   "source": [
    "### Let's see how the positives are positional encoded with respect to the negatives in the reduced STRING PPI"
   ]
  },
  {
   "cell_type": "code",
   "execution_count": 18,
   "id": "367dadff-053b-41fd-96f7-fa3a8f3e6d89",
   "metadata": {},
   "outputs": [
    {
     "data": {
      "text/plain": [
       "Data(edge_index=[2, 1076998], edge_weights=[1076998], x=[11171, 50], y=[11171], train_mask=[11171], test_mask=[11171], val_mask=[11171], num_node_features=50)"
      ]
     },
     "execution_count": 18,
     "metadata": {},
     "output_type": "execute_result"
    }
   ],
   "source": [
    "data_string"
   ]
  },
  {
   "cell_type": "code",
   "execution_count": 19,
   "id": "1fd43e01-24ea-4ebd-bf7b-69ce51080368",
   "metadata": {},
   "outputs": [
    {
     "data": {
      "text/plain": [
       "tensor(217242)"
      ]
     },
     "execution_count": 19,
     "metadata": {},
     "output_type": "execute_result"
    }
   ],
   "source": [
    "(data_string.edge_weights > 0.3).sum()"
   ]
  },
  {
   "cell_type": "code",
   "execution_count": 20,
   "id": "d2461e0d-9ce0-4291-a255-9dd95e046421",
   "metadata": {},
   "outputs": [],
   "source": [
    "edges_to_consider = data_string.edge_weights > 0.3"
   ]
  },
  {
   "cell_type": "code",
   "execution_count": 97,
   "id": "9f381838-8940-4064-8834-4649e99b670e",
   "metadata": {},
   "outputs": [
    {
     "data": {
      "text/plain": [
       "torch.Size([2, 1076998])"
      ]
     },
     "execution_count": 97,
     "metadata": {},
     "output_type": "execute_result"
    }
   ],
   "source": [
    "data_string.edge_index.size()"
   ]
  },
  {
   "cell_type": "code",
   "execution_count": 100,
   "id": "c296b30c-a5d7-40d5-867d-ec7fb07586f4",
   "metadata": {},
   "outputs": [],
   "source": [
    "data_string_edges_reduced = data_string.edge_index[:,edges_to_consider]"
   ]
  },
  {
   "cell_type": "code",
   "execution_count": 101,
   "id": "e49b0b18-26f1-41e2-bf78-8bd06d3f6eef",
   "metadata": {},
   "outputs": [
    {
     "data": {
      "text/plain": [
       "torch.Size([2, 217242])"
      ]
     },
     "execution_count": 101,
     "metadata": {},
     "output_type": "execute_result"
    }
   ],
   "source": [
    "data_string_edges_reduced.size()"
   ]
  },
  {
   "cell_type": "code",
   "execution_count": 19,
   "id": "d4a43eed-8358-4317-a5ea-8b884a0f8a74",
   "metadata": {},
   "outputs": [],
   "source": [
    "total_mask = data_string.train_mask.numpy() + data_string.test_mask.numpy() + data_string.val_mask.numpy() \n",
    "\n",
    "negative_mask = total_mask - data_string.y.numpy()\n",
    "\n",
    "positive_mask = data_string.y.numpy()\n",
    "\n",
    "nor_positive_nor_negative_mask = np.ones(len(positive_mask)) - positive_mask - negative_mask"
   ]
  },
  {
   "cell_type": "code",
   "execution_count": 18,
   "id": "d7042979-99f5-4a5d-a293-bacfb4d46667",
   "metadata": {
    "collapsed": true,
    "jupyter": {
     "outputs_hidden": true
    },
    "tags": []
   },
   "outputs": [
    {
     "name": "stdout",
     "output_type": "stream",
     "text": [
      "Epoch: 01, Loss: 2.9945\n",
      "Epoch: 02, Loss: 2.2466\n",
      "Epoch: 03, Loss: 1.8413\n",
      "Epoch: 04, Loss: 1.6241\n",
      "Epoch: 05, Loss: 1.4824\n",
      "Epoch: 06, Loss: 1.3694\n",
      "Epoch: 07, Loss: 1.2980\n",
      "Epoch: 08, Loss: 1.2584\n",
      "Epoch: 09, Loss: 1.2360\n",
      "Epoch: 10, Loss: 1.2165\n",
      "Epoch: 11, Loss: 1.2017\n",
      "Epoch: 12, Loss: 1.1904\n",
      "Epoch: 13, Loss: 1.1786\n",
      "Epoch: 14, Loss: 1.1695\n",
      "Epoch: 15, Loss: 1.1640\n",
      "Epoch: 16, Loss: 1.1575\n",
      "Epoch: 17, Loss: 1.1529\n",
      "Epoch: 18, Loss: 1.1489\n",
      "Epoch: 19, Loss: 1.1462\n",
      "Epoch: 20, Loss: 1.1422\n",
      "Epoch: 21, Loss: 1.1396\n",
      "Epoch: 22, Loss: 1.1367\n",
      "Epoch: 23, Loss: 1.1349\n",
      "Epoch: 24, Loss: 1.1329\n",
      "Epoch: 25, Loss: 1.1315\n",
      "Epoch: 26, Loss: 1.1305\n",
      "Epoch: 27, Loss: 1.1291\n",
      "Epoch: 28, Loss: 1.1273\n",
      "Epoch: 29, Loss: 1.1251\n",
      "Epoch: 30, Loss: 1.1243\n",
      "Epoch: 31, Loss: 1.1238\n",
      "Epoch: 32, Loss: 1.1222\n",
      "Epoch: 33, Loss: 1.1218\n",
      "Epoch: 34, Loss: 1.1226\n",
      "Epoch: 35, Loss: 1.1207\n",
      "Epoch: 36, Loss: 1.1199\n",
      "Epoch: 37, Loss: 1.1200\n",
      "Epoch: 38, Loss: 1.1196\n",
      "Epoch: 39, Loss: 1.1197\n",
      "Epoch: 40, Loss: 1.1203\n",
      "Epoch: 41, Loss: 1.1183\n",
      "Epoch: 42, Loss: 1.1178\n",
      "Epoch: 43, Loss: 1.1173\n",
      "Epoch: 44, Loss: 1.1176\n",
      "Epoch: 45, Loss: 1.1173\n",
      "Epoch: 46, Loss: 1.1181\n",
      "Epoch: 47, Loss: 1.1167\n",
      "Epoch: 48, Loss: 1.1173\n",
      "Epoch: 49, Loss: 1.1175\n",
      "Epoch: 50, Loss: 1.1171\n",
      "Epoch: 51, Loss: 1.1163\n",
      "Epoch: 52, Loss: 1.1167\n",
      "Epoch: 53, Loss: 1.1165\n",
      "Epoch: 54, Loss: 1.1161\n",
      "Epoch: 55, Loss: 1.1155\n",
      "Epoch: 56, Loss: 1.1161\n",
      "Epoch: 57, Loss: 1.1154\n",
      "Epoch: 58, Loss: 1.1158\n",
      "Epoch: 59, Loss: 1.1154\n",
      "Epoch: 60, Loss: 1.1156\n",
      "Epoch: 61, Loss: 1.1157\n",
      "Epoch: 62, Loss: 1.1153\n",
      "Epoch: 63, Loss: 1.1142\n",
      "Epoch: 64, Loss: 1.1150\n",
      "Epoch: 65, Loss: 1.1159\n",
      "Epoch: 66, Loss: 1.1149\n",
      "Epoch: 67, Loss: 1.1149\n",
      "Epoch: 68, Loss: 1.1144\n",
      "Epoch: 69, Loss: 1.1152\n",
      "Epoch: 70, Loss: 1.1143\n",
      "Epoch: 71, Loss: 1.1153\n",
      "Epoch: 72, Loss: 1.1153\n",
      "Epoch: 73, Loss: 1.1143\n",
      "Epoch: 74, Loss: 1.1146\n",
      "Epoch: 75, Loss: 1.1149\n",
      "Epoch: 76, Loss: 1.1144\n",
      "Epoch: 77, Loss: 1.1145\n",
      "Epoch: 78, Loss: 1.1134\n",
      "Epoch: 79, Loss: 1.1136\n",
      "Epoch: 80, Loss: 1.1132\n",
      "Epoch: 81, Loss: 1.1135\n",
      "Epoch: 82, Loss: 1.1146\n",
      "Epoch: 83, Loss: 1.1140\n",
      "Epoch: 84, Loss: 1.1126\n",
      "Epoch: 85, Loss: 1.1139\n",
      "Epoch: 86, Loss: 1.1138\n",
      "Epoch: 87, Loss: 1.1139\n",
      "Epoch: 88, Loss: 1.1132\n",
      "Epoch: 89, Loss: 1.1136\n",
      "Epoch: 90, Loss: 1.1125\n",
      "Epoch: 91, Loss: 1.1127\n",
      "Epoch: 92, Loss: 1.1135\n",
      "Epoch: 93, Loss: 1.1137\n",
      "Epoch: 94, Loss: 1.1131\n",
      "Epoch: 95, Loss: 1.1126\n",
      "Epoch: 96, Loss: 1.1135\n",
      "Epoch: 97, Loss: 1.1142\n",
      "Epoch: 98, Loss: 1.1115\n",
      "Epoch: 99, Loss: 1.1135\n"
     ]
    }
   ],
   "source": [
    "device = 'cuda' if torch.cuda.is_available() else 'cpu'\n",
    "model = Node2Vec(data_string.edge_index, embedding_dim=16, walk_length=6, context_size=4, walks_per_node=10, num_negative_samples=1, p=1, q=1, sparse=True).to(device)\n",
    "\n",
    "num_workers = 0 if sys.platform.startswith('win') else 4\n",
    "loader = model.loader(batch_size=128, shuffle=True, num_workers=num_workers)\n",
    "optimizer = torch.optim.SparseAdam(list(model.parameters()), lr=0.01)\n",
    "\n",
    "def train():\n",
    "    model.train()\n",
    "    total_loss = 0\n",
    "    for pos_rw, neg_rw in loader:\n",
    "        optimizer.zero_grad()\n",
    "        loss = model.loss(pos_rw.to(device), neg_rw.to(device))\n",
    "        loss.backward()\n",
    "        optimizer.step()\n",
    "        total_loss += loss.item()\n",
    "    return total_loss / len(loader)\n",
    "\n",
    "\n",
    "for epoch in range(1, 100):\n",
    "    loss = train()\n",
    "    print(f'Epoch: {epoch:02d}, Loss: {loss:.4f}')"
   ]
  },
  {
   "cell_type": "code",
   "execution_count": 20,
   "id": "4bca8087-9995-493d-86a1-116ba8b7198d",
   "metadata": {},
   "outputs": [
    {
     "data": {
      "text/plain": [
       "Node2Vec(11171, 16)"
      ]
     },
     "execution_count": 20,
     "metadata": {},
     "output_type": "execute_result"
    }
   ],
   "source": [
    "model.eval()"
   ]
  },
  {
   "cell_type": "code",
   "execution_count": 21,
   "id": "370a7558-9405-41d5-98c6-75a86c69dfcf",
   "metadata": {},
   "outputs": [
    {
     "name": "stderr",
     "output_type": "stream",
     "text": [
      "/home/icb/samuele.firmani/miniconda3/envs/pytorch_geometric/lib/python3.7/site-packages/sklearn/manifold/_t_sne.py:783: FutureWarning: The default initialization in TSNE will change from 'random' to 'pca' in 1.2.\n",
      "  FutureWarning,\n",
      "/home/icb/samuele.firmani/miniconda3/envs/pytorch_geometric/lib/python3.7/site-packages/sklearn/manifold/_t_sne.py:793: FutureWarning: The default learning rate in TSNE will change from 200.0 to 'auto' in 1.2.\n",
      "  FutureWarning,\n"
     ]
    }
   ],
   "source": [
    "z = TSNE(n_components=2).fit_transform(model(torch.arange(data_string.num_nodes, device=device)).detach().cpu().numpy())"
   ]
  },
  {
   "cell_type": "code",
   "execution_count": 22,
   "id": "5b0f97b5-9aac-4c2b-9179-41d0229da362",
   "metadata": {},
   "outputs": [],
   "source": [
    "negative_mask_reduced = np.array([element if index < len(negative_mask)/3 else 0 for index, element in enumerate(negative_mask)] )"
   ]
  },
  {
   "cell_type": "code",
   "execution_count": 23,
   "id": "3919c193-8d10-4744-9deb-2ccf0ce2c8b0",
   "metadata": {},
   "outputs": [
    {
     "data": {
      "image/png": "[encoded data removed]",
      "text/plain": [
       "<Figure size 1600x1600 with 1 Axes>"
      ]
     },
     "metadata": {},
     "output_type": "display_data"
    }
   ],
   "source": [
    "colors = ['b', 'r', 'g']\n",
    "\n",
    "\n",
    "plt.figure(figsize=(16, 16))\n",
    "plt.scatter(z[nor_positive_nor_negative_mask.astype(bool), 0], z[nor_positive_nor_negative_mask.astype(bool), 1], s=2, color=colors[1])\n",
    "plt.scatter(z[positive_mask.astype(bool), 0], z[positive_mask.astype(bool), 1], s=20, color=colors[0], label=\"Positive genes\")\n",
    "plt.scatter(z[negative_mask_reduced.astype(bool), 0], z[negative_mask_reduced.astype(bool), 1], s=20, color=colors[2], label=\"Negative genes\")\n",
    "plt.legend(scatterpoints=1)\n",
    "plt.axis('off')\n",
    "plt.show()"
   ]
  },
  {
   "cell_type": "markdown",
   "id": "34edb58c-de7d-4c48-8a3e-5edbfe880ad3",
   "metadata": {},
   "source": [
    "### How to easily filter data starting from a Data object"
   ]
  },
  {
   "cell_type": "code",
   "execution_count": 40,
   "id": "1a9f7b92-429c-4297-8f2d-bc5e5cef8645",
   "metadata": {},
   "outputs": [
    {
     "data": {
      "text/plain": [
       "Data(edge_index=[2, 1076998], edge_weights=[1076998], x=[11171, 50], y=[11171], train_mask=[11171], test_mask=[11171], val_mask=[11171], num_node_features=50)"
      ]
     },
     "execution_count": 40,
     "metadata": {},
     "output_type": "execute_result"
    }
   ],
   "source": [
    "data_string"
   ]
  },
  {
   "cell_type": "code",
   "execution_count": 43,
   "id": "921060af-6abf-48a0-90d0-5d36b4bc14c0",
   "metadata": {},
   "outputs": [
    {
     "data": {
      "text/html": [
       "<div>\n",
       "<style scoped>\n",
       "    .dataframe tbody tr th:only-of-type {\n",
       "        vertical-align: middle;\n",
       "    }\n",
       "\n",
       "    .dataframe tbody tr th {\n",
       "        vertical-align: top;\n",
       "    }\n",
       "\n",
       "    .dataframe thead th {\n",
       "        text-align: right;\n",
       "    }\n",
       "</style>\n",
       "<table border=\"1\" class=\"dataframe\">\n",
       "  <thead>\n",
       "    <tr style=\"text-align: right;\">\n",
       "      <th></th>\n",
       "      <th>protein_id</th>\n",
       "      <th>gene_name</th>\n",
       "      <th>majority_protein_acs</th>\n",
       "      <th>protein_descriptions</th>\n",
       "      <th>is_viral</th>\n",
       "      <th>is_hit.SARS_CoV2@6h_vs_mock@6h</th>\n",
       "      <th>change.SARS_CoV2@6h_vs_mock@6h</th>\n",
       "      <th>fold_change_log2.SARS_CoV2@6h_vs_mock@6h</th>\n",
       "      <th>p_value.SARS_CoV2@6h_vs_mock@6h</th>\n",
       "      <th>sd_log2.SARS_CoV2@6h_vs_mock@6h</th>\n",
       "      <th>...</th>\n",
       "      <th>is_hit.SARS_CoV2@24h_vs_mock@24h</th>\n",
       "      <th>change.SARS_CoV2@24h_vs_mock@24h</th>\n",
       "      <th>fold_change_log2.SARS_CoV2@24h_vs_mock@24h</th>\n",
       "      <th>p_value.SARS_CoV2@24h_vs_mock@24h</th>\n",
       "      <th>sd_log2.SARS_CoV2@24h_vs_mock@24h</th>\n",
       "      <th>is_hit.SARS_CoV@24h_vs_mock@24h</th>\n",
       "      <th>change.SARS_CoV@24h_vs_mock@24h</th>\n",
       "      <th>fold_change_log2.SARS_CoV@24h_vs_mock@24h</th>\n",
       "      <th>p_value.SARS_CoV@24h_vs_mock@24h</th>\n",
       "      <th>sd_log2.SARS_CoV@24h_vs_mock@24h</th>\n",
       "    </tr>\n",
       "  </thead>\n",
       "  <tbody>\n",
       "    <tr>\n",
       "      <th>0</th>\n",
       "      <td>1</td>\n",
       "      <td>AP3A_CVHSA</td>\n",
       "      <td>P59632</td>\n",
       "      <td>ORF3a protein</td>\n",
       "      <td>True</td>\n",
       "      <td>False</td>\n",
       "      <td>.</td>\n",
       "      <td>0.110758</td>\n",
       "      <td>0.959254</td>\n",
       "      <td>2.055675</td>\n",
       "      <td>...</td>\n",
       "      <td>False</td>\n",
       "      <td>.</td>\n",
       "      <td>-0.955256</td>\n",
       "      <td>0.643720</td>\n",
       "      <td>1.915425</td>\n",
       "      <td>True</td>\n",
       "      <td>+</td>\n",
       "      <td>16.375371</td>\n",
       "      <td>0.000000e+00</td>\n",
       "      <td>1.320221</td>\n",
       "    </tr>\n",
       "    <tr>\n",
       "      <th>1</th>\n",
       "      <td>2</td>\n",
       "      <td>NS6_CVHSA</td>\n",
       "      <td>P59634</td>\n",
       "      <td>ORF6 protein</td>\n",
       "      <td>True</td>\n",
       "      <td>False</td>\n",
       "      <td>.</td>\n",
       "      <td>-0.988130</td>\n",
       "      <td>0.798853</td>\n",
       "      <td>2.901308</td>\n",
       "      <td>...</td>\n",
       "      <td>False</td>\n",
       "      <td>.</td>\n",
       "      <td>1.642723</td>\n",
       "      <td>0.615620</td>\n",
       "      <td>2.960081</td>\n",
       "      <td>False</td>\n",
       "      <td>.</td>\n",
       "      <td>8.064727</td>\n",
       "      <td>8.093673e-15</td>\n",
       "      <td>1.879148</td>\n",
       "    </tr>\n",
       "    <tr>\n",
       "      <th>2</th>\n",
       "      <td>3</td>\n",
       "      <td>NS7A_CVHSA</td>\n",
       "      <td>P59635</td>\n",
       "      <td>ORF7a protein</td>\n",
       "      <td>True</td>\n",
       "      <td>False</td>\n",
       "      <td>.</td>\n",
       "      <td>-0.762484</td>\n",
       "      <td>0.733404</td>\n",
       "      <td>2.642092</td>\n",
       "      <td>...</td>\n",
       "      <td>False</td>\n",
       "      <td>.</td>\n",
       "      <td>-1.715602</td>\n",
       "      <td>0.505189</td>\n",
       "      <td>2.483555</td>\n",
       "      <td>True</td>\n",
       "      <td>+</td>\n",
       "      <td>9.931911</td>\n",
       "      <td>1.682568e-32</td>\n",
       "      <td>1.688428</td>\n",
       "    </tr>\n",
       "    <tr>\n",
       "      <th>3</th>\n",
       "      <td>4</td>\n",
       "      <td>ORF9B_CVHSA</td>\n",
       "      <td>P59636</td>\n",
       "      <td>ORF9b protein</td>\n",
       "      <td>True</td>\n",
       "      <td>False</td>\n",
       "      <td>.</td>\n",
       "      <td>0.231381</td>\n",
       "      <td>0.921533</td>\n",
       "      <td>2.116073</td>\n",
       "      <td>...</td>\n",
       "      <td>False</td>\n",
       "      <td>.</td>\n",
       "      <td>-0.819101</td>\n",
       "      <td>0.673767</td>\n",
       "      <td>1.826557</td>\n",
       "      <td>True</td>\n",
       "      <td>+</td>\n",
       "      <td>18.849566</td>\n",
       "      <td>0.000000e+00</td>\n",
       "      <td>1.269382</td>\n",
       "    </tr>\n",
       "    <tr>\n",
       "      <th>4</th>\n",
       "      <td>5</td>\n",
       "      <td>AAAS</td>\n",
       "      <td>Q9NRG9;Q9NRG9-2</td>\n",
       "      <td>Aladin</td>\n",
       "      <td>False</td>\n",
       "      <td>False</td>\n",
       "      <td>.</td>\n",
       "      <td>0.023011</td>\n",
       "      <td>0.543802</td>\n",
       "      <td>0.043377</td>\n",
       "      <td>...</td>\n",
       "      <td>False</td>\n",
       "      <td>.</td>\n",
       "      <td>0.013181</td>\n",
       "      <td>0.735691</td>\n",
       "      <td>0.041354</td>\n",
       "      <td>False</td>\n",
       "      <td>.</td>\n",
       "      <td>0.054026</td>\n",
       "      <td>2.657095e-01</td>\n",
       "      <td>0.047817</td>\n",
       "    </tr>\n",
       "  </tbody>\n",
       "</table>\n",
       "<p>5 rows × 35 columns</p>\n",
       "</div>"
      ],
      "text/plain": [
       "   protein_id    gene_name majority_protein_acs protein_descriptions  \\\n",
       "0           1   AP3A_CVHSA               P59632        ORF3a protein   \n",
       "1           2    NS6_CVHSA               P59634         ORF6 protein   \n",
       "2           3   NS7A_CVHSA               P59635        ORF7a protein   \n",
       "3           4  ORF9B_CVHSA               P59636        ORF9b protein   \n",
       "4           5         AAAS      Q9NRG9;Q9NRG9-2               Aladin   \n",
       "\n",
       "   is_viral  is_hit.SARS_CoV2@6h_vs_mock@6h change.SARS_CoV2@6h_vs_mock@6h  \\\n",
       "0      True                           False                              .   \n",
       "1      True                           False                              .   \n",
       "2      True                           False                              .   \n",
       "3      True                           False                              .   \n",
       "4     False                           False                              .   \n",
       "\n",
       "   fold_change_log2.SARS_CoV2@6h_vs_mock@6h  p_value.SARS_CoV2@6h_vs_mock@6h  \\\n",
       "0                                  0.110758                         0.959254   \n",
       "1                                 -0.988130                         0.798853   \n",
       "2                                 -0.762484                         0.733404   \n",
       "3                                  0.231381                         0.921533   \n",
       "4                                  0.023011                         0.543802   \n",
       "\n",
       "   sd_log2.SARS_CoV2@6h_vs_mock@6h  ...  is_hit.SARS_CoV2@24h_vs_mock@24h  \\\n",
       "0                         2.055675  ...                             False   \n",
       "1                         2.901308  ...                             False   \n",
       "2                         2.642092  ...                             False   \n",
       "3                         2.116073  ...                             False   \n",
       "4                         0.043377  ...                             False   \n",
       "\n",
       "  change.SARS_CoV2@24h_vs_mock@24h  \\\n",
       "0                                .   \n",
       "1                                .   \n",
       "2                                .   \n",
       "3                                .   \n",
       "4                                .   \n",
       "\n",
       "   fold_change_log2.SARS_CoV2@24h_vs_mock@24h  \\\n",
       "0                                   -0.955256   \n",
       "1                                    1.642723   \n",
       "2                                   -1.715602   \n",
       "3                                   -0.819101   \n",
       "4                                    0.013181   \n",
       "\n",
       "   p_value.SARS_CoV2@24h_vs_mock@24h  sd_log2.SARS_CoV2@24h_vs_mock@24h  \\\n",
       "0                           0.643720                           1.915425   \n",
       "1                           0.615620                           2.960081   \n",
       "2                           0.505189                           2.483555   \n",
       "3                           0.673767                           1.826557   \n",
       "4                           0.735691                           0.041354   \n",
       "\n",
       "   is_hit.SARS_CoV@24h_vs_mock@24h change.SARS_CoV@24h_vs_mock@24h  \\\n",
       "0                             True                               +   \n",
       "1                            False                               .   \n",
       "2                             True                               +   \n",
       "3                             True                               +   \n",
       "4                            False                               .   \n",
       "\n",
       "   fold_change_log2.SARS_CoV@24h_vs_mock@24h  \\\n",
       "0                                  16.375371   \n",
       "1                                   8.064727   \n",
       "2                                   9.931911   \n",
       "3                                  18.849566   \n",
       "4                                   0.054026   \n",
       "\n",
       "   p_value.SARS_CoV@24h_vs_mock@24h  sd_log2.SARS_CoV@24h_vs_mock@24h  \n",
       "0                      0.000000e+00                          1.320221  \n",
       "1                      8.093673e-15                          1.879148  \n",
       "2                      1.682568e-32                          1.688428  \n",
       "3                      0.000000e+00                          1.269382  \n",
       "4                      2.657095e-01                          0.047817  \n",
       "\n",
       "[5 rows x 35 columns]"
      ]
     },
     "execution_count": 43,
     "metadata": {},
     "output_type": "execute_result"
    }
   ],
   "source": [
    "df_proteomics.head()"
   ]
  },
  {
   "cell_type": "code",
   "execution_count": 44,
   "id": "c622b23a-869f-4d01-913e-dbfb6fcb7f24",
   "metadata": {},
   "outputs": [],
   "source": [
    "df_proteomics[\"gene_name\"] = df_proteomics[\"gene_name\"].str.replace('\\...','', regex=True)"
   ]
  },
  {
   "cell_type": "code",
   "execution_count": 45,
   "id": "aa45f4cb-64cd-4f0c-a1d8-b5b1aaa9e914",
   "metadata": {},
   "outputs": [],
   "source": [
    "proteomics_genes = df_proteomics[\"gene_name\"].unique()"
   ]
  },
  {
   "cell_type": "code",
   "execution_count": 46,
   "id": "bdf5f8e6-d8aa-4db6-aacc-690439dee7ae",
   "metadata": {},
   "outputs": [
    {
     "data": {
      "text/html": [
       "<div>\n",
       "<style scoped>\n",
       "    .dataframe tbody tr th:only-of-type {\n",
       "        vertical-align: middle;\n",
       "    }\n",
       "\n",
       "    .dataframe tbody tr th {\n",
       "        vertical-align: top;\n",
       "    }\n",
       "\n",
       "    .dataframe thead th {\n",
       "        text-align: right;\n",
       "    }\n",
       "</style>\n",
       "<table border=\"1\" class=\"dataframe\">\n",
       "  <thead>\n",
       "    <tr style=\"text-align: right;\">\n",
       "      <th></th>\n",
       "      <th>Viral protein</th>\n",
       "      <th>viral_bait_name</th>\n",
       "      <th>Unnamed: 2</th>\n",
       "      <th>Host protein</th>\n",
       "      <th>Unnamed: 4</th>\n",
       "      <th>Unnamed: 5</th>\n",
       "      <th>Unnamed: 6</th>\n",
       "      <th>median_log2</th>\n",
       "      <th>p_value</th>\n",
       "      <th>standard_dev_log2</th>\n",
       "    </tr>\n",
       "  </thead>\n",
       "  <tbody>\n",
       "    <tr>\n",
       "      <th>0</th>\n",
       "      <td>SARS-CoV-2</td>\n",
       "      <td>E</td>\n",
       "      <td>SARS_CoV2_E</td>\n",
       "      <td>MTARC1</td>\n",
       "      <td>Q5VT66;Q5VT66-2</td>\n",
       "      <td>NaN</td>\n",
       "      <td>NaN</td>\n",
       "      <td>0.647197</td>\n",
       "      <td>0.048104</td>\n",
       "      <td>0.309817</td>\n",
       "    </tr>\n",
       "    <tr>\n",
       "      <th>1</th>\n",
       "      <td>SARS-CoV-2</td>\n",
       "      <td>M</td>\n",
       "      <td>SARS_CoV2_M</td>\n",
       "      <td>MTARC1</td>\n",
       "      <td>Q5VT66;Q5VT66-2</td>\n",
       "      <td>NaN</td>\n",
       "      <td>NaN</td>\n",
       "      <td>0.594401</td>\n",
       "      <td>0.098502</td>\n",
       "      <td>0.321176</td>\n",
       "    </tr>\n",
       "    <tr>\n",
       "      <th>2</th>\n",
       "      <td>SARS-CoV-2</td>\n",
       "      <td>N</td>\n",
       "      <td>SARS_CoV2_N</td>\n",
       "      <td>MTARC1</td>\n",
       "      <td>Q5VT66;Q5VT66-2</td>\n",
       "      <td>NaN</td>\n",
       "      <td>NaN</td>\n",
       "      <td>0.669235</td>\n",
       "      <td>0.051251</td>\n",
       "      <td>0.298311</td>\n",
       "    </tr>\n",
       "    <tr>\n",
       "      <th>3</th>\n",
       "      <td>SARS-CoV-2</td>\n",
       "      <td>NSP1</td>\n",
       "      <td>SARS_CoV2_NSP1</td>\n",
       "      <td>MTARC1</td>\n",
       "      <td>Q5VT66;Q5VT66-2</td>\n",
       "      <td>NaN</td>\n",
       "      <td>NaN</td>\n",
       "      <td>0.142821</td>\n",
       "      <td>0.418099</td>\n",
       "      <td>0.205991</td>\n",
       "    </tr>\n",
       "    <tr>\n",
       "      <th>4</th>\n",
       "      <td>SARS-CoV-2</td>\n",
       "      <td>NSP10</td>\n",
       "      <td>SARS_CoV2_NSP10</td>\n",
       "      <td>MTARC1</td>\n",
       "      <td>Q5VT66;Q5VT66-2</td>\n",
       "      <td>NaN</td>\n",
       "      <td>NaN</td>\n",
       "      <td>-5.960447</td>\n",
       "      <td>0.001285</td>\n",
       "      <td>1.669647</td>\n",
       "    </tr>\n",
       "  </tbody>\n",
       "</table>\n",
       "</div>"
      ],
      "text/plain": [
       "  Viral protein viral_bait_name       Unnamed: 2 Host protein  \\\n",
       "0    SARS-CoV-2               E      SARS_CoV2_E       MTARC1   \n",
       "1    SARS-CoV-2               M      SARS_CoV2_M       MTARC1   \n",
       "2    SARS-CoV-2               N      SARS_CoV2_N       MTARC1   \n",
       "3    SARS-CoV-2            NSP1   SARS_CoV2_NSP1       MTARC1   \n",
       "4    SARS-CoV-2           NSP10  SARS_CoV2_NSP10       MTARC1   \n",
       "\n",
       "        Unnamed: 4 Unnamed: 5 Unnamed: 6  median_log2   p_value  \\\n",
       "0  Q5VT66;Q5VT66-2        NaN        NaN     0.647197  0.048104   \n",
       "1  Q5VT66;Q5VT66-2        NaN        NaN     0.594401  0.098502   \n",
       "2  Q5VT66;Q5VT66-2        NaN        NaN     0.669235  0.051251   \n",
       "3  Q5VT66;Q5VT66-2        NaN        NaN     0.142821  0.418099   \n",
       "4  Q5VT66;Q5VT66-2        NaN        NaN    -5.960447  0.001285   \n",
       "\n",
       "   standard_dev_log2  \n",
       "0           0.309817  \n",
       "1           0.321176  \n",
       "2           0.298311  \n",
       "3           0.205991  \n",
       "4           1.669647  "
      ]
     },
     "execution_count": 46,
     "metadata": {},
     "output_type": "execute_result"
    }
   ],
   "source": [
    "df_effectome = df_effectome.rename(columns={\"Unnamed: 1\": \"viral_bait_name\", \"Changes vs. control overexpressed proteins\": \"median_log2\", \"Unnamed: 8\": \"p_value\", \"Unnamed: 9\": \"standard_dev_log2\"})\n",
    "df_effectome = df_effectome.dropna(subset = [\"Host protein\", \"median_log2\", \"p_value\"])\n",
    "df_effectome[\"Host protein\"] = df_effectome[\"Host protein\"].str.replace('\\...','', regex=True)\n",
    "df_effectome.head()"
   ]
  },
  {
   "cell_type": "code",
   "execution_count": 47,
   "id": "554f824d-87b0-41b8-b321-caa56cb45be3",
   "metadata": {},
   "outputs": [],
   "source": [
    "effectome_genes = df_effectome[\"Host protein\"].unique()"
   ]
  },
  {
   "cell_type": "code",
   "execution_count": 48,
   "id": "cb25b875-ce81-45a5-9305-7b0d2bcef6f1",
   "metadata": {},
   "outputs": [
    {
     "data": {
      "text/plain": [
       "7545"
      ]
     },
     "execution_count": 48,
     "metadata": {},
     "output_type": "execute_result"
    }
   ],
   "source": [
    "len(effectome_genes)"
   ]
  },
  {
   "cell_type": "code",
   "execution_count": 49,
   "id": "4357615c-f0d0-4794-b574-c6b0a4e23b72",
   "metadata": {},
   "outputs": [],
   "source": [
    "potential_host_factors_from_publications = artivir_data_dir + \"host_factors_from_publications.xlsx\"\n",
    "host_factors = pd.ExcelFile(potential_host_factors_from_publications)\n",
    "host_factors_dfs = {sheet_name: host_factors.parse(sheet_name) for sheet_name in host_factors.sheet_names}\n",
    "potential_host_factors_to_remove = host_factors_dfs[\"host_factors\"][\"Gene name\"].unique()"
   ]
  },
  {
   "cell_type": "code",
   "execution_count": 50,
   "id": "952cea83-5d67-486a-8ab7-a0bee656e918",
   "metadata": {},
   "outputs": [
    {
     "data": {
      "text/plain": [
       "5075"
      ]
     },
     "execution_count": 50,
     "metadata": {},
     "output_type": "execute_result"
    }
   ],
   "source": [
    "len(potential_host_factors_to_remove)"
   ]
  },
  {
   "cell_type": "code",
   "execution_count": 51,
   "id": "1947ee11-5654-4945-b4e2-f74c7135b2f4",
   "metadata": {},
   "outputs": [],
   "source": [
    "container_data_path = \"/lustre/groups/crna01/datasets/arti_vir/input_data_transcriptome_proteome_effectome_interactome_2023_2_2_12_11/\"\n",
    "randomized_gene_list = np.genfromtxt( container_data_path + \"randomized_gene_list.txt\", dtype=str)"
   ]
  },
  {
   "cell_type": "code",
   "execution_count": 52,
   "id": "bed64fb4-4510-4204-980c-e3fd645b2f8f",
   "metadata": {},
   "outputs": [
    {
     "data": {
      "text/plain": [
       "array(['SLC36A1', 'CEP55', 'SLC6A6', ..., 'STAT4', 'ST8SIA4', 'SLC22A17'],\n",
       "      dtype='<U11')"
      ]
     },
     "execution_count": 52,
     "metadata": {},
     "output_type": "execute_result"
    }
   ],
   "source": [
    "randomized_gene_list"
   ]
  },
  {
   "cell_type": "code",
   "execution_count": 53,
   "id": "607a2ab4-8a24-4afb-8292-6c525347be5b",
   "metadata": {},
   "outputs": [],
   "source": [
    "from torch_geometric.data.data import Data "
   ]
  },
  {
   "cell_type": "code",
   "execution_count": 54,
   "id": "588774f8-9a6b-45ce-9462-8d32a3f355b3",
   "metadata": {},
   "outputs": [
    {
     "data": {
      "text/plain": [
       "tensor([[    0,     0,     0,  ..., 11039, 11039, 11039],\n",
       "        [  562,   880,  1455,  ..., 10986, 10997, 11026]])"
      ]
     },
     "execution_count": 54,
     "metadata": {},
     "output_type": "execute_result"
    }
   ],
   "source": [
    "data_multiscale.edge_index"
   ]
  },
  {
   "cell_type": "markdown",
   "id": "83b92fab-8c69-498a-8406-00c8f5f3f7d1",
   "metadata": {},
   "source": [
    "### filter for proteomics"
   ]
  },
  {
   "cell_type": "code",
   "execution_count": 100,
   "id": "c5c6868d-a402-48bf-bfc0-347f0376a401",
   "metadata": {},
   "outputs": [],
   "source": [
    "indices_list_proteomics = []\n",
    "node_mask = np.zeros(len(randomized_gene_list))\n",
    "for gene in proteomics_genes:\n",
    "    if len(np.where(randomized_gene_list == gene)[0]) ==1:\n",
    "        indices_list_proteomics.append(np.where(randomized_gene_list == gene)[0][0]) \n",
    "        node_mask[indices_list_proteomics[-1]] = 1\n",
    "indices_list_proteomics = np.array(indices_list_proteomics)   \n",
    "node_mask = np.array(node_mask).astype(bool)"
   ]
  },
  {
   "cell_type": "code",
   "execution_count": 101,
   "id": "25028463-d777-4efb-8772-19b88ffef4ed",
   "metadata": {},
   "outputs": [
    {
     "name": "stdout",
     "output_type": "stream",
     "text": [
      "[ 1783  9728  6705 ... 10715  2895  6739]\n",
      "5680\n",
      "[False  True  True ... False False False]\n",
      "11171\n",
      "5680\n"
     ]
    }
   ],
   "source": [
    "print(indices_list_proteomics)\n",
    "print(len(indices_list_proteomics))\n",
    "print(node_mask)\n",
    "print(len(node_mask))\n",
    "print(sum(node_mask))"
   ]
  },
  {
   "cell_type": "code",
   "execution_count": 91,
   "id": "397a2d0e-3dd5-4163-9c9c-99e0c76645fa",
   "metadata": {},
   "outputs": [],
   "source": [
    "from torch_geometric.utils import subgraph"
   ]
  },
  {
   "cell_type": "code",
   "execution_count": 114,
   "id": "ef33ce68-a6cb-4417-a849-80abbca6be38",
   "metadata": {},
   "outputs": [
    {
     "data": {
      "text/plain": [
       "11171"
      ]
     },
     "execution_count": 114,
     "metadata": {},
     "output_type": "execute_result"
    }
   ],
   "source": [
    "data_string.x.size()[0]"
   ]
  },
  {
   "cell_type": "code",
   "execution_count": 115,
   "id": "9c81da29-fbaa-411d-a9fd-0cd9dab4723a",
   "metadata": {},
   "outputs": [],
   "source": [
    "def dropout_node(edge_index, node_mask,\n",
    "                 num_nodes: int):\n",
    "\n",
    "    edge_index, _= subgraph(node_mask, edge_index,\n",
    "                                        num_nodes=num_nodes)\n",
    "    edge_mask = node_mask[edge_index[0]] & node_mask[edge_index[1]]\n",
    "    return edge_index, edge_mask, node_mask"
   ]
  },
  {
   "cell_type": "code",
   "execution_count": 116,
   "id": "c4c59cba-28b2-4640-a3f8-37adbdfe84b5",
   "metadata": {},
   "outputs": [],
   "source": [
    "edge_index, edge_mask, node_mask = dropout_node(edge_index = data_string.edge_index, node_mask = node_mask, num_nodes = data_string.x.size()[0])"
   ]
  },
  {
   "cell_type": "code",
   "execution_count": 118,
   "id": "eaa79808-19f4-4971-96ed-458859565a6e",
   "metadata": {},
   "outputs": [
    {
     "data": {
      "text/plain": [
       "547252"
      ]
     },
     "execution_count": 118,
     "metadata": {},
     "output_type": "execute_result"
    }
   ],
   "source": [
    "np.sum(edge_mask)"
   ]
  },
  {
   "cell_type": "code",
   "execution_count": 124,
   "id": "b2df3151-5157-4f13-802a-77b3b248390d",
   "metadata": {},
   "outputs": [
    {
     "data": {
      "text/plain": [
       "torch.Size([1076998])"
      ]
     },
     "execution_count": 124,
     "metadata": {},
     "output_type": "execute_result"
    }
   ],
   "source": [
    "data_string.edge_weights.size()"
   ]
  },
  {
   "cell_type": "code",
   "execution_count": null,
   "id": "b9aa6a85-b70c-49d0-9e43-5a7a981e89f7",
   "metadata": {},
   "outputs": [],
   "source": []
  },
  {
   "cell_type": "code",
   "execution_count": 123,
   "id": "452a3b1f-808f-4837-a6dc-02ef9ec07f38",
   "metadata": {},
   "outputs": [
    {
     "data": {
      "text/plain": [
       "torch.Size([2, 547252])"
      ]
     },
     "execution_count": 123,
     "metadata": {},
     "output_type": "execute_result"
    }
   ],
   "source": [
    "edge_index.size()"
   ]
  },
  {
   "cell_type": "code",
   "execution_count": null,
   "id": "82721d0d-0b30-4a4d-8051-84a55c90dfd6",
   "metadata": {},
   "outputs": [],
   "source": [
    "artivir_data = Data()\n",
    "artivir_data.edge_index = torch.Tensor(np.where(network[:,:] != 0)).long()\n",
    "artivir_data.edge_weights = torch.Tensor(network[np.where(network[:,:] != 0)])\n",
    "artivir_data.x = torch.tensor(features).float()\n",
    "artivir_data.y = torch.tensor(y_val.transpose()[0] + y_test.transpose()[0] + y_train.transpose()[0]).long()\n",
    "artivir_data.train_mask = torch.tensor(train_mask).bool()\n",
    "artivir_data.test_mask = torch.tensor(test_mask).bool()\n",
    "artivir_data.val_mask = torch.tensor(val_mask).bool()\n",
    "artivir_data.num_node_features = torch.tensor(np.shape(features)[1]).long()"
   ]
  },
  {
   "cell_type": "markdown",
   "id": "4998a443-c6e8-4e63-892f-913be6d92311",
   "metadata": {},
   "source": [
    "### Check the new data folder"
   ]
  },
  {
   "cell_type": "code",
   "execution_count": 137,
   "id": "5772f643-4e18-4a6e-984c-9f60da416b8c",
   "metadata": {},
   "outputs": [
    {
     "data": {
      "text/plain": [
       "Data(edge_index=[2, 1076998], edge_weights=[1076998], x=[11171, 50], y=[11171], train_mask=[11171], test_mask=[11171], val_mask=[11171], num_node_features=50)"
      ]
     },
     "execution_count": 137,
     "metadata": {},
     "output_type": "execute_result"
    }
   ],
   "source": [
    "data_string"
   ]
  },
  {
   "cell_type": "code",
   "execution_count": 138,
   "id": "a102ebad-5372-4483-8b68-92f71af322cd",
   "metadata": {},
   "outputs": [
    {
     "data": {
      "text/plain": [
       "tensor(728)"
      ]
     },
     "execution_count": 138,
     "metadata": {},
     "output_type": "execute_result"
    }
   ],
   "source": [
    "(data_string.train_mask + data_string.test_mask + data_string.val_mask).sum()"
   ]
  },
  {
   "cell_type": "code",
   "execution_count": 139,
   "id": "a084463c-0f17-45cd-bf38-410846b963b8",
   "metadata": {},
   "outputs": [
    {
     "data": {
      "text/plain": [
       "tensor(182)"
      ]
     },
     "execution_count": 139,
     "metadata": {},
     "output_type": "execute_result"
    }
   ],
   "source": [
    "data_string.y.sum()"
   ]
  },
  {
   "cell_type": "code",
   "execution_count": 140,
   "id": "f3c44b6a-f29b-4ebe-8248-b653eaffd5c1",
   "metadata": {},
   "outputs": [
    {
     "data": {
      "text/plain": [
       "Data(edge_index=[2, 577258], edge_weights=[577258], x=[11040, 50], y=[11040], train_mask=[11040], test_mask=[11040], val_mask=[11040], num_node_features=50)"
      ]
     },
     "execution_count": 140,
     "metadata": {},
     "output_type": "execute_result"
    }
   ],
   "source": [
    "data_multiscale"
   ]
  },
  {
   "cell_type": "code",
   "execution_count": 141,
   "id": "ef430d6b-817d-48d8-862b-e249930ffb9c",
   "metadata": {},
   "outputs": [
    {
     "data": {
      "text/plain": [
       "tensor(728)"
      ]
     },
     "execution_count": 141,
     "metadata": {},
     "output_type": "execute_result"
    }
   ],
   "source": [
    "(data_multiscale.train_mask + data_multiscale.test_mask + data_multiscale.val_mask).sum()"
   ]
  },
  {
   "cell_type": "code",
   "execution_count": 142,
   "id": "a24ee096-2716-4f5c-83f1-6f34665acf6f",
   "metadata": {},
   "outputs": [
    {
     "data": {
      "text/plain": [
       "tensor(182)"
      ]
     },
     "execution_count": 142,
     "metadata": {},
     "output_type": "execute_result"
    }
   ],
   "source": [
    "data_multiscale.y.sum()"
   ]
  },
  {
   "cell_type": "code",
   "execution_count": 125,
   "id": "931f4924-c183-481d-8bdd-3979ebcd7379",
   "metadata": {},
   "outputs": [],
   "source": [
    "data_string_reduced = train.import_artivir_dataset(\"/lustre/groups/crna01/datasets/arti_vir/input_data_transcriptome_proteome_effectome_interactome_2023_2_3_14_48/transcriptome-proteome-effectome-interactometranscriptome-proteome-effectome-interactome_abs_feature_values_False_are_missing_values_imputed_False_STRING.h5\")"
   ]
  },
  {
   "cell_type": "code",
   "execution_count": 128,
   "id": "03f1ce01-f0a2-4d6b-91ca-9b38c2316eeb",
   "metadata": {},
   "outputs": [
    {
     "data": {
      "text/plain": [
       "Data(edge_index=[2, 505318], edge_weights=[505318], x=[5305, 50], y=[5305], train_mask=[5305], test_mask=[5305], val_mask=[5305], num_node_features=50)"
      ]
     },
     "execution_count": 128,
     "metadata": {},
     "output_type": "execute_result"
    }
   ],
   "source": [
    "data_string_reduced"
   ]
  },
  {
   "cell_type": "code",
   "execution_count": 129,
   "id": "2317d46d-a8a4-4903-a4ec-e097878b64a2",
   "metadata": {},
   "outputs": [],
   "source": [
    "data_multiscale_reduced = train.import_artivir_dataset(\"/lustre/groups/crna01/datasets/arti_vir/input_data_transcriptome_proteome_effectome_interactome_2023_2_3_16_58/transcriptome-proteome-effectome-interactometranscriptome-proteome-effectome-interactome_abs_feature_values_False_are_missing_values_imputed_False_mulstiscale_interactome.h5\")"
   ]
  },
  {
   "cell_type": "code",
   "execution_count": 130,
   "id": "4462628d-cb53-4769-b2e4-b89f4f8979cd",
   "metadata": {},
   "outputs": [
    {
     "data": {
      "text/plain": [
       "Data(edge_index=[2, 307236], edge_weights=[307236], x=[5241, 50], y=[5241], train_mask=[5241], test_mask=[5241], val_mask=[5241], num_node_features=50)"
      ]
     },
     "execution_count": 130,
     "metadata": {},
     "output_type": "execute_result"
    }
   ],
   "source": [
    "data_multiscale_reduced"
   ]
  },
  {
   "cell_type": "code",
   "execution_count": 136,
   "id": "6d775bcf-c82a-475c-a147-ae58448c5c00",
   "metadata": {},
   "outputs": [
    {
     "data": {
      "text/plain": [
       "tensor(580)"
      ]
     },
     "execution_count": 136,
     "metadata": {},
     "output_type": "execute_result"
    }
   ],
   "source": [
    "(data_multiscale_reduced.train_mask + data_multiscale_reduced.test_mask + data_multiscale_reduced.val_mask).sum()"
   ]
  },
  {
   "cell_type": "code",
   "execution_count": 131,
   "id": "455ad2f4-a7b3-4c7a-9de6-a89a9857ff94",
   "metadata": {},
   "outputs": [],
   "source": [
    "data_multiscale_effectome_reduced = train.import_artivir_dataset(\"/lustre/groups/crna01/datasets/arti_vir/input_data_transcriptome_proteome_effectome_interactome_2023_2_3_17_9/transcriptome-proteome-effectome-interactometranscriptome-proteome-effectome-interactome_abs_feature_values_False_are_missing_values_imputed_False_mulstiscale_interactome.h5\")"
   ]
  },
  {
   "cell_type": "code",
   "execution_count": 132,
   "id": "fc372a84-01c5-475a-9b19-1a3d194e3569",
   "metadata": {},
   "outputs": [
    {
     "data": {
      "text/plain": [
       "Data(edge_index=[2, 403898], edge_weights=[403898], x=[7002, 50], y=[7002], train_mask=[7002], test_mask=[7002], val_mask=[7002], num_node_features=50)"
      ]
     },
     "execution_count": 132,
     "metadata": {},
     "output_type": "execute_result"
    }
   ],
   "source": [
    "data_multiscale_effectome_reduced"
   ]
  },
  {
   "cell_type": "code",
   "execution_count": 133,
   "id": "7d13cd2a-fab4-4b61-8f35-e3e02f4875ad",
   "metadata": {},
   "outputs": [
    {
     "data": {
      "text/plain": [
       "tensor(644)"
      ]
     },
     "execution_count": 133,
     "metadata": {},
     "output_type": "execute_result"
    }
   ],
   "source": [
    "(data_multiscale_effectome_reduced.train_mask + data_multiscale_effectome_reduced.test_mask + data_multiscale_effectome_reduced.val_mask).sum()"
   ]
  },
  {
   "cell_type": "code",
   "execution_count": 135,
   "id": "247824e6-06eb-4757-aa55-932d22afc5b9",
   "metadata": {},
   "outputs": [
    {
     "data": {
      "text/plain": [
       "tensor(161)"
      ]
     },
     "execution_count": 135,
     "metadata": {},
     "output_type": "execute_result"
    }
   ],
   "source": [
    "data_multiscale_effectome_reduced.y.sum()"
   ]
  },
  {
   "cell_type": "code",
   "execution_count": 156,
   "id": "26ec153a-9f76-404a-ad6b-2f9204f3221f",
   "metadata": {},
   "outputs": [],
   "source": [
    "data_string_effectome_reduced = train.import_artivir_dataset(\"/lustre/groups/crna01/datasets/arti_vir/input_data_transcriptome_proteome_effectome_interactome_2023_2_3_17_30/transcriptome-proteome-effectome-interactometranscriptome-proteome-effectome-interactome_abs_feature_values_False_are_missing_values_imputed_False_STRING.h5\")"
   ]
  },
  {
   "cell_type": "code",
   "execution_count": 157,
   "id": "2cfb6aad-abf5-4d6f-9219-90b8ddf9158a",
   "metadata": {},
   "outputs": [
    {
     "data": {
      "text/plain": [
       "Data(edge_index=[2, 698114], edge_weights=[698114], x=[7122, 50], y=[7122], train_mask=[7122], test_mask=[7122], val_mask=[7122], num_node_features=50)"
      ]
     },
     "execution_count": 157,
     "metadata": {},
     "output_type": "execute_result"
    }
   ],
   "source": [
    "data_string_effectome_reduced"
   ]
  },
  {
   "cell_type": "code",
   "execution_count": 158,
   "id": "8115ae03-e2ee-4ae2-bc06-b6dd7842482b",
   "metadata": {},
   "outputs": [
    {
     "data": {
      "text/plain": [
       "tensor(648)"
      ]
     },
     "execution_count": 158,
     "metadata": {},
     "output_type": "execute_result"
    }
   ],
   "source": [
    "(data_string_effectome_reduced.train_mask + data_string_effectome_reduced.test_mask + data_string_effectome_reduced.val_mask).sum()"
   ]
  },
  {
   "cell_type": "code",
   "execution_count": 159,
   "id": "480960a8-e7b7-4227-afc6-69b01a80ce08",
   "metadata": {},
   "outputs": [
    {
     "data": {
      "text/plain": [
       "tensor(162)"
      ]
     },
     "execution_count": 159,
     "metadata": {},
     "output_type": "execute_result"
    }
   ],
   "source": [
    "data_string_effectome_reduced.y.sum()"
   ]
  },
  {
   "cell_type": "code",
   "execution_count": 17,
   "id": "4dd94a9d-4eee-48d7-9fc4-63585d33d81b",
   "metadata": {},
   "outputs": [
    {
     "ename": "NameError",
     "evalue": "name 'artivir_data_dir' is not defined",
     "output_type": "error",
     "traceback": [
      "\u001b[0;31m---------------------------------------------------------------------------\u001b[0m",
      "\u001b[0;31mNameError\u001b[0m                                 Traceback (most recent call last)",
      "\u001b[0;32m/tmp/ipykernel_711440/3040031913.py\u001b[0m in \u001b[0;36m<module>\u001b[0;34m\u001b[0m\n\u001b[0;32m----> 1\u001b[0;31m \u001b[0mhost_factors\u001b[0m \u001b[0;34m=\u001b[0m \u001b[0mnp\u001b[0m\u001b[0;34m.\u001b[0m\u001b[0mload\u001b[0m\u001b[0;34m(\u001b[0m\u001b[0martivir_data_dir\u001b[0m \u001b[0;34m+\u001b[0m \u001b[0;34m\"strong_host_factors_list_from_publications.npy\"\u001b[0m\u001b[0;34m)\u001b[0m\u001b[0;34m\u001b[0m\u001b[0;34m\u001b[0m\u001b[0m\n\u001b[0m",
      "\u001b[0;31mNameError\u001b[0m: name 'artivir_data_dir' is not defined"
     ]
    }
   ],
   "source": [
    "host_factors = np.load(artivir_data_dir + \"strong_host_factors_list_from_publications.npy\")"
   ]
  },
  {
   "cell_type": "markdown",
   "id": "9eb7e3a4-1da5-468c-b3a9-a430ac468ed7",
   "metadata": {},
   "source": [
    "# TO DO fix the id mapping!!!"
   ]
  },
  {
   "cell_type": "code",
   "execution_count": 24,
   "id": "339e7f74-532c-4e04-a6e5-95fda30e2f17",
   "metadata": {},
   "outputs": [],
   "source": [
    "# /lustre/groups/crna01/datasets/arti_vir/input_data_transcriptome_proteome_effectome_interactome_2023_2_3_14_48/transcriptome-proteome-effectome-interactometranscriptome-proteome-effectome-interactome_abs_feature_values_False_are_missing_values_imputed_False_STRING.h5\n",
    "artivir_data_dir = \"/lustre/groups/crna01/datasets/arti_vir/\"\n",
    "container_data_path = \"/lustre/groups/crna01/datasets/arti_vir/input_data_transcriptome_proteome_effectome_interactome_2023_2_3_14_48/\"\n",
    "randomized_gene_list = np.genfromtxt( container_data_path + \"randomized_gene_list.txt\", dtype=str)\n",
    "positive_host_factors = np.load(artivir_data_dir + \"strong_functionally_validated_host_factors.npy\")"
   ]
  },
  {
   "cell_type": "code",
   "execution_count": 25,
   "id": "2b56d87b-4608-44aa-8437-b29bc92548d1",
   "metadata": {
    "tags": []
   },
   "outputs": [
    {
     "data": {
      "text/plain": [
       "array(['AAGAB', 'ACE2', 'ACTR2', 'ACTR3', 'ADAM9', 'ADAR', 'ALG11',\n",
       "       'AP1B1', 'AP1G1', 'APOL1', 'ARF5', 'ARF6', 'ARID1A', 'ARPC3',\n",
       "       'ARPC4', 'ATP6AP1', 'ATP6V1A', 'ATP8B1', 'ATP8B1 ', 'ATXN2L',\n",
       "       'AXL', 'BAX', 'BCS1L', 'BECN1', 'BMPR1A', 'BRD2', 'BRD4', 'BSG',\n",
       "       'BZW2', 'C16orf62', 'C18orf8', 'CCDC22', 'CCDC53', 'CCDC93',\n",
       "       'CCT2', 'CCZ1', 'CCZ1B', 'CDKN2B', 'CHUK', 'CLEC4G', 'CLIP4',\n",
       "       'CNOT4', 'CNTRL', 'COMMD10', 'COMMD2', 'COMMD3', 'COMMD3-BMI1',\n",
       "       'COMMD4', 'COMMD5', 'COMMD7', 'COMMD8', 'CSDE1', 'CTSL', 'CXCL5',\n",
       "       'DCAKD', 'DDX1', 'DDX42', 'DDX5', 'DNMT1', 'DPF2', 'DPH5',\n",
       "       'DYRK1A', 'ECSIT', 'EDC4', 'EEF1A1', 'EIF3D', 'ELOB', 'EMC1',\n",
       "       'EP300', 'ERGIC1', 'ERP44', 'ETFA', 'EWSR1', 'EXOC2', 'EXOC6',\n",
       "       'EXOC8', 'EXT1', 'FAM120A', 'FASTKD5', 'FBXO27', 'FBXO33', 'FKBP8',\n",
       "       'GNB1', 'GOLGA2', 'HDAC9', 'HMGB1', 'HMOX1', 'HNRNPA2B1', 'HNRNPC',\n",
       "       'HNRNPH1', 'HNRNPK', 'HNRNPU', 'HNRNPUL2', 'HSPA4', 'IGF2BP1',\n",
       "       'IL17RA', 'ILF3', 'INO80E', 'JMJD6', 'KDM6A', 'KIAA0196',\n",
       "       'KIAA1033', 'KMT2C', 'LDLRAD3', 'LMAN2', 'MAT2B', 'MBTPS1',\n",
       "       'MBTPS2', 'MEX3B', 'MINAR1', 'MIPOL1', 'MOGS', 'MRPS2', 'MRPS25',\n",
       "       'MRPS27', 'MRPS5', 'NDST1', 'NDUFAF2', 'NDUFB9', 'NFE2', 'NGDN',\n",
       "       'NPC1', 'NPC2', 'NRIP1', 'NRP1', 'NUP62', 'OS9', 'OSBPL9', 'PA2G4',\n",
       "       'PCBD1', 'PCNT', 'PHF6', 'PIGO', 'PIGS', 'PIK3C3', 'PIK3R4',\n",
       "       'POLA1', 'PPIL3', 'PPT1', 'PTBP2', 'PTGES2', 'QKI', 'RAB10',\n",
       "       'RAB14', 'RAB18', 'RAB1A', 'RAB2A', 'RAB5C', 'RAB7A', 'RAD54L2',\n",
       "       'RBM28', 'RIPK4', 'SAAL1', 'SCAP', 'SCARB1', 'SEPSECS', 'SFPQ',\n",
       "       'SIAH1', 'SIGMAR1', 'SIL1', 'SIRT5', 'SLC9A3R1', 'SMAD3',\n",
       "       'SMARCA4', 'SMARCE1', 'SND1', 'SNX27', 'SREBF1', 'SREBF2', 'SRSF3',\n",
       "       'TAPT1', 'TFE3', 'TIA1', 'TMEM106B', 'TMEM165', 'TMEM30A',\n",
       "       'TMEM41B', 'TMPRSS13', 'TMPRSS2', 'TOMM70', 'TOR1AIP1', 'TP73',\n",
       "       'TRIM4', 'TRIM59', 'UBAP2L', 'UBXN7', 'VAC14', 'VPS11', 'VPS16',\n",
       "       'VPS29', 'VPS35', 'VPS39', 'WASHC4', 'WDR81', 'WDR91', 'XRCC5',\n",
       "       'ZC3H18', 'ZYG11B'], dtype='<U11')"
      ]
     },
     "execution_count": 25,
     "metadata": {},
     "output_type": "execute_result"
    }
   ],
   "source": [
    "positive_host_factors"
   ]
  },
  {
   "cell_type": "code",
   "execution_count": 26,
   "id": "761b1db8-0097-44b4-86fa-dc753ee87a6b",
   "metadata": {},
   "outputs": [
    {
     "data": {
      "text/plain": [
       "5305"
      ]
     },
     "execution_count": 26,
     "metadata": {},
     "output_type": "execute_result"
    }
   ],
   "source": [
    "len(randomized_gene_list)"
   ]
  },
  {
   "cell_type": "code",
   "execution_count": 27,
   "id": "fb9aa461-4966-4dcb-8de9-ba5bce79dccf",
   "metadata": {
    "tags": []
   },
   "outputs": [
    {
     "name": "stdout",
     "output_type": "stream",
     "text": [
      "Genes not found with the current ID mapping -> check gene sinonym in uniprot!!!!\n",
      "ACE2\n",
      "APOL1\n",
      "ATP8B1\n",
      "ATP8B1 \n",
      "BMPR1A\n",
      "C16orf62\n",
      "C18orf8\n",
      "CCDC53\n",
      "CCZ1\n",
      "CCZ1B\n",
      "CDKN2B\n",
      "CLEC4G\n",
      "CLIP4\n",
      "CNTRL\n",
      "COMMD3-BMI1\n",
      "CXCL5\n",
      "DPH5\n",
      "ECSIT\n",
      "EXT1\n",
      "FBXO27\n",
      "FBXO33\n",
      "HDAC9\n",
      "HNRNPC\n",
      "IL17RA\n",
      "INO80E\n",
      "KDM6A\n",
      "KIAA0196\n",
      "KIAA1033\n",
      "KMT2C\n",
      "LDLRAD3\n",
      "MBTPS1\n",
      "MBTPS2\n",
      "MEX3B\n",
      "MINAR1\n",
      "MIPOL1\n",
      "NDST1\n",
      "NFE2\n",
      "PCNT\n",
      "RAD54L2\n",
      "RIPK4\n",
      "SCAP\n",
      "SEPSECS\n",
      "SIAH1\n",
      "SIGMAR1\n",
      "SMARCA4\n",
      "SREBF2\n",
      "TAPT1\n",
      "TFE3\n",
      "TMPRSS13\n",
      "TMPRSS2\n",
      "TP73\n",
      "TRIM4\n",
      "TRIM59\n"
     ]
    }
   ],
   "source": [
    "print(\"Genes not found with the current ID mapping -> check gene sinonym in uniprot!!!!\")\n",
    "for gene in positive_host_factors:\n",
    "    if gene not in randomized_gene_list:\n",
    "        print(gene)"
   ]
  },
  {
   "cell_type": "code",
   "execution_count": 23,
   "id": "600a69d8-d91d-457e-97ae-2f98f539bb9d",
   "metadata": {},
   "outputs": [
    {
     "data": {
      "text/plain": [
       "198"
      ]
     },
     "execution_count": 23,
     "metadata": {},
     "output_type": "execute_result"
    }
   ],
   "source": [
    "len(positive_host_factors)"
   ]
  },
  {
   "cell_type": "code",
   "execution_count": null,
   "id": "16350374-c70d-4a31-bb70-70ecacc062c8",
   "metadata": {},
   "outputs": [],
   "source": [
    "#C16orf62 = VPS35L\n",
    "#C18orf8 = RMC1\n",
    "#CCDC53 = WASHC3\n"
   ]
  },
  {
   "cell_type": "code",
   "execution_count": 150,
   "id": "0b746e0b-34b6-47b6-b717-28eca008bee6",
   "metadata": {},
   "outputs": [
    {
     "data": {
      "text/plain": [
       "array(['ARF5', 'M6PR', 'FKBP4', ..., 'ZNF518A', 'MUC5AC', 'EIF3L'],\n",
       "      dtype=object)"
      ]
     },
     "execution_count": 150,
     "metadata": {},
     "output_type": "execute_result"
    }
   ],
   "source": [
    "df_string_ppi[\"gene_name_1\"].unique()"
   ]
  },
  {
   "cell_type": "code",
   "execution_count": 165,
   "id": "08039efb-9b5b-44c2-aae9-4598a2ffff9a",
   "metadata": {
    "collapsed": true,
    "jupyter": {
     "outputs_hidden": true
    },
    "tags": []
   },
   "outputs": [
    {
     "data": {
      "text/html": [
       "<div>\n",
       "<style scoped>\n",
       "    .dataframe tbody tr th:only-of-type {\n",
       "        vertical-align: middle;\n",
       "    }\n",
       "\n",
       "    .dataframe tbody tr th {\n",
       "        vertical-align: top;\n",
       "    }\n",
       "\n",
       "    .dataframe thead th {\n",
       "        text-align: right;\n",
       "    }\n",
       "</style>\n",
       "<table border=\"1\" class=\"dataframe\">\n",
       "  <thead>\n",
       "    <tr style=\"text-align: right;\">\n",
       "      <th></th>\n",
       "      <th>protein1</th>\n",
       "      <th>protein2</th>\n",
       "      <th>experimental</th>\n",
       "      <th>database</th>\n",
       "      <th>textmining</th>\n",
       "      <th>combined_score</th>\n",
       "      <th>gene_name_1</th>\n",
       "      <th>gene_name_2</th>\n",
       "    </tr>\n",
       "  </thead>\n",
       "  <tbody>\n",
       "    <tr>\n",
       "      <th>650280</th>\n",
       "      <td>9606.ENSP00000445359</td>\n",
       "      <td>9606.ENSP00000295888</td>\n",
       "      <td>158</td>\n",
       "      <td>0</td>\n",
       "      <td>0</td>\n",
       "      <td>157</td>\n",
       "      <td>ATP8B1</td>\n",
       "      <td>WDFY3</td>\n",
       "    </tr>\n",
       "    <tr>\n",
       "      <th>650281</th>\n",
       "      <td>9606.ENSP00000445359</td>\n",
       "      <td>9606.ENSP00000361930</td>\n",
       "      <td>184</td>\n",
       "      <td>0</td>\n",
       "      <td>59</td>\n",
       "      <td>199</td>\n",
       "      <td>ATP8B1</td>\n",
       "      <td>YWHAB</td>\n",
       "    </tr>\n",
       "    <tr>\n",
       "      <th>650282</th>\n",
       "      <td>9606.ENSP00000445359</td>\n",
       "      <td>9606.ENSP00000463393</td>\n",
       "      <td>91</td>\n",
       "      <td>0</td>\n",
       "      <td>144</td>\n",
       "      <td>188</td>\n",
       "      <td>ATP8B1</td>\n",
       "      <td>SEC22B</td>\n",
       "    </tr>\n",
       "    <tr>\n",
       "      <th>650283</th>\n",
       "      <td>9606.ENSP00000445359</td>\n",
       "      <td>9606.ENSP00000342481</td>\n",
       "      <td>167</td>\n",
       "      <td>0</td>\n",
       "      <td>0</td>\n",
       "      <td>167</td>\n",
       "      <td>ATP8B1</td>\n",
       "      <td>ATP9A</td>\n",
       "    </tr>\n",
       "    <tr>\n",
       "      <th>650284</th>\n",
       "      <td>9606.ENSP00000445359</td>\n",
       "      <td>9606.ENSP00000484855</td>\n",
       "      <td>117</td>\n",
       "      <td>0</td>\n",
       "      <td>131</td>\n",
       "      <td>199</td>\n",
       "      <td>ATP8B1</td>\n",
       "      <td>EXOC5</td>\n",
       "    </tr>\n",
       "    <tr>\n",
       "      <th>650285</th>\n",
       "      <td>9606.ENSP00000445359</td>\n",
       "      <td>9606.ENSP00000297591</td>\n",
       "      <td>270</td>\n",
       "      <td>0</td>\n",
       "      <td>0</td>\n",
       "      <td>270</td>\n",
       "      <td>ATP8B1</td>\n",
       "      <td>VIRMA</td>\n",
       "    </tr>\n",
       "    <tr>\n",
       "      <th>650286</th>\n",
       "      <td>9606.ENSP00000445359</td>\n",
       "      <td>9606.ENSP00000286371</td>\n",
       "      <td>212</td>\n",
       "      <td>0</td>\n",
       "      <td>0</td>\n",
       "      <td>212</td>\n",
       "      <td>ATP8B1</td>\n",
       "      <td>ATP1B3</td>\n",
       "    </tr>\n",
       "    <tr>\n",
       "      <th>650287</th>\n",
       "      <td>9606.ENSP00000445359</td>\n",
       "      <td>9606.ENSP00000356790</td>\n",
       "      <td>212</td>\n",
       "      <td>0</td>\n",
       "      <td>0</td>\n",
       "      <td>212</td>\n",
       "      <td>ATP8B1</td>\n",
       "      <td>ATP1B1</td>\n",
       "    </tr>\n",
       "    <tr>\n",
       "      <th>650288</th>\n",
       "      <td>9606.ENSP00000445359</td>\n",
       "      <td>9606.ENSP00000317468</td>\n",
       "      <td>169</td>\n",
       "      <td>0</td>\n",
       "      <td>0</td>\n",
       "      <td>169</td>\n",
       "      <td>ATP8B1</td>\n",
       "      <td>CHMP6</td>\n",
       "    </tr>\n",
       "    <tr>\n",
       "      <th>650289</th>\n",
       "      <td>9606.ENSP00000445359</td>\n",
       "      <td>9606.ENSP00000337746</td>\n",
       "      <td>160</td>\n",
       "      <td>0</td>\n",
       "      <td>0</td>\n",
       "      <td>159</td>\n",
       "      <td>ATP8B1</td>\n",
       "      <td>ISYNA1</td>\n",
       "    </tr>\n",
       "    <tr>\n",
       "      <th>650290</th>\n",
       "      <td>9606.ENSP00000445359</td>\n",
       "      <td>9606.ENSP00000230461</td>\n",
       "      <td>755</td>\n",
       "      <td>0</td>\n",
       "      <td>872</td>\n",
       "      <td>967</td>\n",
       "      <td>ATP8B1</td>\n",
       "      <td>TMEM30A</td>\n",
       "    </tr>\n",
       "    <tr>\n",
       "      <th>650291</th>\n",
       "      <td>9606.ENSP00000445359</td>\n",
       "      <td>9606.ENSP00000371267</td>\n",
       "      <td>184</td>\n",
       "      <td>0</td>\n",
       "      <td>59</td>\n",
       "      <td>199</td>\n",
       "      <td>ATP8B1</td>\n",
       "      <td>YWHAQ</td>\n",
       "    </tr>\n",
       "    <tr>\n",
       "      <th>650292</th>\n",
       "      <td>9606.ENSP00000445359</td>\n",
       "      <td>9606.ENSP00000360985</td>\n",
       "      <td>250</td>\n",
       "      <td>0</td>\n",
       "      <td>101</td>\n",
       "      <td>296</td>\n",
       "      <td>ATP8B1</td>\n",
       "      <td>ARFGEF2</td>\n",
       "    </tr>\n",
       "    <tr>\n",
       "      <th>650293</th>\n",
       "      <td>9606.ENSP00000445359</td>\n",
       "      <td>9606.ENSP00000248975</td>\n",
       "      <td>184</td>\n",
       "      <td>0</td>\n",
       "      <td>59</td>\n",
       "      <td>199</td>\n",
       "      <td>ATP8B1</td>\n",
       "      <td>YWHAH</td>\n",
       "    </tr>\n",
       "    <tr>\n",
       "      <th>650294</th>\n",
       "      <td>9606.ENSP00000445359</td>\n",
       "      <td>9606.ENSP00000249923</td>\n",
       "      <td>158</td>\n",
       "      <td>0</td>\n",
       "      <td>0</td>\n",
       "      <td>157</td>\n",
       "      <td>ATP8B1</td>\n",
       "      <td>COPB1</td>\n",
       "    </tr>\n",
       "    <tr>\n",
       "      <th>650295</th>\n",
       "      <td>9606.ENSP00000445359</td>\n",
       "      <td>9606.ENSP00000377148</td>\n",
       "      <td>157</td>\n",
       "      <td>0</td>\n",
       "      <td>0</td>\n",
       "      <td>156</td>\n",
       "      <td>ATP8B1</td>\n",
       "      <td>AP1G1</td>\n",
       "    </tr>\n",
       "    <tr>\n",
       "      <th>650296</th>\n",
       "      <td>9606.ENSP00000445359</td>\n",
       "      <td>9606.ENSP00000261636</td>\n",
       "      <td>144</td>\n",
       "      <td>0</td>\n",
       "      <td>116</td>\n",
       "      <td>210</td>\n",
       "      <td>ATP8B1</td>\n",
       "      <td>ARL1</td>\n",
       "    </tr>\n",
       "    <tr>\n",
       "      <th>650297</th>\n",
       "      <td>9606.ENSP00000445359</td>\n",
       "      <td>9606.ENSP00000221419</td>\n",
       "      <td>270</td>\n",
       "      <td>0</td>\n",
       "      <td>0</td>\n",
       "      <td>270</td>\n",
       "      <td>ATP8B1</td>\n",
       "      <td>HNRNPL</td>\n",
       "    </tr>\n",
       "    <tr>\n",
       "      <th>650298</th>\n",
       "      <td>9606.ENSP00000445359</td>\n",
       "      <td>9606.ENSP00000379287</td>\n",
       "      <td>184</td>\n",
       "      <td>0</td>\n",
       "      <td>59</td>\n",
       "      <td>199</td>\n",
       "      <td>ATP8B1</td>\n",
       "      <td>YWHAZ</td>\n",
       "    </tr>\n",
       "    <tr>\n",
       "      <th>650299</th>\n",
       "      <td>9606.ENSP00000445359</td>\n",
       "      <td>9606.ENSP00000359000</td>\n",
       "      <td>135</td>\n",
       "      <td>0</td>\n",
       "      <td>143</td>\n",
       "      <td>227</td>\n",
       "      <td>ATP8B1</td>\n",
       "      <td>GBF1</td>\n",
       "    </tr>\n",
       "    <tr>\n",
       "      <th>650300</th>\n",
       "      <td>9606.ENSP00000445359</td>\n",
       "      <td>9606.ENSP00000351947</td>\n",
       "      <td>160</td>\n",
       "      <td>0</td>\n",
       "      <td>0</td>\n",
       "      <td>159</td>\n",
       "      <td>ATP8B1</td>\n",
       "      <td>SMARCAD1</td>\n",
       "    </tr>\n",
       "    <tr>\n",
       "      <th>650301</th>\n",
       "      <td>9606.ENSP00000445359</td>\n",
       "      <td>9606.ENSP00000464893</td>\n",
       "      <td>252</td>\n",
       "      <td>0</td>\n",
       "      <td>0</td>\n",
       "      <td>252</td>\n",
       "      <td>ATP8B1</td>\n",
       "      <td>UNK</td>\n",
       "    </tr>\n",
       "    <tr>\n",
       "      <th>650302</th>\n",
       "      <td>9606.ENSP00000445359</td>\n",
       "      <td>9606.ENSP00000324173</td>\n",
       "      <td>173</td>\n",
       "      <td>0</td>\n",
       "      <td>0</td>\n",
       "      <td>173</td>\n",
       "      <td>ATP8B1</td>\n",
       "      <td>HSPA5</td>\n",
       "    </tr>\n",
       "    <tr>\n",
       "      <th>650303</th>\n",
       "      <td>9606.ENSP00000445359</td>\n",
       "      <td>9606.ENSP00000377250</td>\n",
       "      <td>174</td>\n",
       "      <td>0</td>\n",
       "      <td>147</td>\n",
       "      <td>265</td>\n",
       "      <td>ATP8B1</td>\n",
       "      <td>MON2</td>\n",
       "    </tr>\n",
       "    <tr>\n",
       "      <th>650304</th>\n",
       "      <td>9606.ENSP00000445359</td>\n",
       "      <td>9606.ENSP00000340989</td>\n",
       "      <td>184</td>\n",
       "      <td>0</td>\n",
       "      <td>59</td>\n",
       "      <td>199</td>\n",
       "      <td>ATP8B1</td>\n",
       "      <td>SFN</td>\n",
       "    </tr>\n",
       "    <tr>\n",
       "      <th>650305</th>\n",
       "      <td>9606.ENSP00000445359</td>\n",
       "      <td>9606.ENSP00000236192</td>\n",
       "      <td>91</td>\n",
       "      <td>0</td>\n",
       "      <td>134</td>\n",
       "      <td>179</td>\n",
       "      <td>ATP8B1</td>\n",
       "      <td>VAMP4</td>\n",
       "    </tr>\n",
       "    <tr>\n",
       "      <th>650306</th>\n",
       "      <td>9606.ENSP00000445359</td>\n",
       "      <td>9606.ENSP00000292079</td>\n",
       "      <td>252</td>\n",
       "      <td>0</td>\n",
       "      <td>0</td>\n",
       "      <td>252</td>\n",
       "      <td>ATP8B1</td>\n",
       "      <td>FXYD2</td>\n",
       "    </tr>\n",
       "    <tr>\n",
       "      <th>650307</th>\n",
       "      <td>9606.ENSP00000445359</td>\n",
       "      <td>9606.ENSP00000306330</td>\n",
       "      <td>184</td>\n",
       "      <td>0</td>\n",
       "      <td>59</td>\n",
       "      <td>199</td>\n",
       "      <td>ATP8B1</td>\n",
       "      <td>YWHAG</td>\n",
       "    </tr>\n",
       "    <tr>\n",
       "      <th>650308</th>\n",
       "      <td>9606.ENSP00000445359</td>\n",
       "      <td>9606.ENSP00000264335</td>\n",
       "      <td>184</td>\n",
       "      <td>0</td>\n",
       "      <td>59</td>\n",
       "      <td>199</td>\n",
       "      <td>ATP8B1</td>\n",
       "      <td>YWHAE</td>\n",
       "    </tr>\n",
       "    <tr>\n",
       "      <th>650309</th>\n",
       "      <td>9606.ENSP00000445359</td>\n",
       "      <td>9606.ENSP00000262215</td>\n",
       "      <td>250</td>\n",
       "      <td>0</td>\n",
       "      <td>101</td>\n",
       "      <td>296</td>\n",
       "      <td>ATP8B1</td>\n",
       "      <td>ARFGEF1</td>\n",
       "    </tr>\n",
       "    <tr>\n",
       "      <th>650310</th>\n",
       "      <td>9606.ENSP00000445359</td>\n",
       "      <td>9606.ENSP00000205402</td>\n",
       "      <td>229</td>\n",
       "      <td>0</td>\n",
       "      <td>0</td>\n",
       "      <td>228</td>\n",
       "      <td>ATP8B1</td>\n",
       "      <td>DLD</td>\n",
       "    </tr>\n",
       "    <tr>\n",
       "      <th>650311</th>\n",
       "      <td>9606.ENSP00000445359</td>\n",
       "      <td>9606.ENSP00000373696</td>\n",
       "      <td>177</td>\n",
       "      <td>0</td>\n",
       "      <td>0</td>\n",
       "      <td>177</td>\n",
       "      <td>ATP8B1</td>\n",
       "      <td>TRIP12</td>\n",
       "    </tr>\n",
       "  </tbody>\n",
       "</table>\n",
       "</div>"
      ],
      "text/plain": [
       "                    protein1              protein2  experimental  database  \\\n",
       "650280  9606.ENSP00000445359  9606.ENSP00000295888           158         0   \n",
       "650281  9606.ENSP00000445359  9606.ENSP00000361930           184         0   \n",
       "650282  9606.ENSP00000445359  9606.ENSP00000463393            91         0   \n",
       "650283  9606.ENSP00000445359  9606.ENSP00000342481           167         0   \n",
       "650284  9606.ENSP00000445359  9606.ENSP00000484855           117         0   \n",
       "650285  9606.ENSP00000445359  9606.ENSP00000297591           270         0   \n",
       "650286  9606.ENSP00000445359  9606.ENSP00000286371           212         0   \n",
       "650287  9606.ENSP00000445359  9606.ENSP00000356790           212         0   \n",
       "650288  9606.ENSP00000445359  9606.ENSP00000317468           169         0   \n",
       "650289  9606.ENSP00000445359  9606.ENSP00000337746           160         0   \n",
       "650290  9606.ENSP00000445359  9606.ENSP00000230461           755         0   \n",
       "650291  9606.ENSP00000445359  9606.ENSP00000371267           184         0   \n",
       "650292  9606.ENSP00000445359  9606.ENSP00000360985           250         0   \n",
       "650293  9606.ENSP00000445359  9606.ENSP00000248975           184         0   \n",
       "650294  9606.ENSP00000445359  9606.ENSP00000249923           158         0   \n",
       "650295  9606.ENSP00000445359  9606.ENSP00000377148           157         0   \n",
       "650296  9606.ENSP00000445359  9606.ENSP00000261636           144         0   \n",
       "650297  9606.ENSP00000445359  9606.ENSP00000221419           270         0   \n",
       "650298  9606.ENSP00000445359  9606.ENSP00000379287           184         0   \n",
       "650299  9606.ENSP00000445359  9606.ENSP00000359000           135         0   \n",
       "650300  9606.ENSP00000445359  9606.ENSP00000351947           160         0   \n",
       "650301  9606.ENSP00000445359  9606.ENSP00000464893           252         0   \n",
       "650302  9606.ENSP00000445359  9606.ENSP00000324173           173         0   \n",
       "650303  9606.ENSP00000445359  9606.ENSP00000377250           174         0   \n",
       "650304  9606.ENSP00000445359  9606.ENSP00000340989           184         0   \n",
       "650305  9606.ENSP00000445359  9606.ENSP00000236192            91         0   \n",
       "650306  9606.ENSP00000445359  9606.ENSP00000292079           252         0   \n",
       "650307  9606.ENSP00000445359  9606.ENSP00000306330           184         0   \n",
       "650308  9606.ENSP00000445359  9606.ENSP00000264335           184         0   \n",
       "650309  9606.ENSP00000445359  9606.ENSP00000262215           250         0   \n",
       "650310  9606.ENSP00000445359  9606.ENSP00000205402           229         0   \n",
       "650311  9606.ENSP00000445359  9606.ENSP00000373696           177         0   \n",
       "\n",
       "        textmining  combined_score gene_name_1 gene_name_2  \n",
       "650280           0             157      ATP8B1       WDFY3  \n",
       "650281          59             199      ATP8B1       YWHAB  \n",
       "650282         144             188      ATP8B1      SEC22B  \n",
       "650283           0             167      ATP8B1       ATP9A  \n",
       "650284         131             199      ATP8B1       EXOC5  \n",
       "650285           0             270      ATP8B1       VIRMA  \n",
       "650286           0             212      ATP8B1      ATP1B3  \n",
       "650287           0             212      ATP8B1      ATP1B1  \n",
       "650288           0             169      ATP8B1       CHMP6  \n",
       "650289           0             159      ATP8B1      ISYNA1  \n",
       "650290         872             967      ATP8B1     TMEM30A  \n",
       "650291          59             199      ATP8B1       YWHAQ  \n",
       "650292         101             296      ATP8B1     ARFGEF2  \n",
       "650293          59             199      ATP8B1       YWHAH  \n",
       "650294           0             157      ATP8B1       COPB1  \n",
       "650295           0             156      ATP8B1       AP1G1  \n",
       "650296         116             210      ATP8B1        ARL1  \n",
       "650297           0             270      ATP8B1      HNRNPL  \n",
       "650298          59             199      ATP8B1       YWHAZ  \n",
       "650299         143             227      ATP8B1        GBF1  \n",
       "650300           0             159      ATP8B1    SMARCAD1  \n",
       "650301           0             252      ATP8B1         UNK  \n",
       "650302           0             173      ATP8B1       HSPA5  \n",
       "650303         147             265      ATP8B1        MON2  \n",
       "650304          59             199      ATP8B1         SFN  \n",
       "650305         134             179      ATP8B1       VAMP4  \n",
       "650306           0             252      ATP8B1       FXYD2  \n",
       "650307          59             199      ATP8B1       YWHAG  \n",
       "650308          59             199      ATP8B1       YWHAE  \n",
       "650309         101             296      ATP8B1     ARFGEF1  \n",
       "650310           0             228      ATP8B1         DLD  \n",
       "650311           0             177      ATP8B1      TRIP12  "
      ]
     },
     "execution_count": 165,
     "metadata": {},
     "output_type": "execute_result"
    }
   ],
   "source": [
    "df_string_ppi[df_string_ppi[\"gene_name_1\"] == \"ATP8B1\"]"
   ]
  },
  {
   "cell_type": "code",
   "execution_count": 29,
   "id": "dcd97075-08f8-4646-85ff-c9988e95e90c",
   "metadata": {},
   "outputs": [
    {
     "name": "stderr",
     "output_type": "stream",
     "text": [
      "select and split positive labels in my dataset: 100%|███████████████████████████████████████████████████████████████████████████████████████████████████████████████████████████████████████████| 198/198 [00:00<00:00, 7087.94it/s]\n",
      "select the potential negatives in my dataset: 100%|██████████████████████████████████████████████████████████████████████████████████████████████████████████████████████████████████████████| 5305/5305 [00:00<00:00, 10574.37it/s]"
     ]
    },
    {
     "name": "stdout",
     "output_type": "stream",
     "text": [
      "Length of potential_negative_labels 2142\n"
     ]
    },
    {
     "name": "stderr",
     "output_type": "stream",
     "text": [
      "\n"
     ]
    }
   ],
   "source": [
    "importlib.reload(feature_preselection_transcriptome_proteome)\n",
    "potential_host_factors_from_publications = artivir_data_dir + \"host_factors_from_publications.xlsx\"\n",
    "strong_host_factors = artivir_data_dir + \"strong_functionally_validated_host_factors.npy\"\n",
    "host_factors_shared_from_stukalov_and_others = artivir_data_dir + \"host_factors_stukalov_plus_two_more_studies.txt\"\n",
    "y_train, train_mask, y_test, test_mask, y_val, val_mask = feature_preselection_transcriptome_proteome.train_test_val_split(container_data_path, potential_host_factors_from_publications, strong_host_factors, \n",
    "                                                                                                                           host_factors_shared_from_stukalov_and_others, \n",
    "                                                                                                                           \"\", are_stukalov_shared_genes_used=False)"
   ]
  },
  {
   "cell_type": "code",
   "execution_count": 33,
   "id": "4bf7ebd0-6140-49b7-a1c6-f257a99c2349",
   "metadata": {},
   "outputs": [
    {
     "data": {
      "text/plain": [
       "145.0"
      ]
     },
     "execution_count": 33,
     "metadata": {},
     "output_type": "execute_result"
    }
   ],
   "source": [
    "np.sum(y_train + y_test + y_val)"
   ]
  },
  {
   "cell_type": "code",
   "execution_count": null,
   "id": "e9e40ef5-f4d9-4cfe-a5b3-3dac7aff3f61",
   "metadata": {},
   "outputs": [],
   "source": []
  }
 ],
 "metadata": {
  "kernelspec": {
   "display_name": "Python 3 (ipykernel)",
   "language": "python",
   "name": "python3"
  },
  "language_info": {
   "codemirror_mode": {
    "name": "ipython",
    "version": 3
   },
   "file_extension": ".py",
   "mimetype": "text/x-python",
   "name": "python",
   "nbconvert_exporter": "python",
   "pygments_lexer": "ipython3",
   "version": "3.7.12"
  },
  "vscode": {
   "interpreter": {
    "hash": "caa2d762c642747f608c6498eb879ae026c1e1674eae4e54e26d6c15c0d7c0c7"
   }
  }
 },
 "nbformat": 4,
 "nbformat_minor": 5
}
